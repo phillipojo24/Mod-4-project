{
 "cells": [
  {
   "cell_type": "markdown",
   "metadata": {
    "id": "Ej_2CuXz5D1Q"
   },
   "source": [
    "# Final Project Submission\n",
    "\n",
    "Please fill out:\n",
    "\n",
    "Student name: Phillip Ojo \n",
    "\n",
    "Student pace: Part-time\n",
    "\n",
    "Scheduled project review date/time: Feburary 2, 2021 7:00pm\n",
    "\n",
    "Instructor name: Amber Yandow\n",
    "\n",
    "Blog post URL:\n"
   ]
  },
  {
   "cell_type": "markdown",
   "metadata": {
    "id": "_hshFbMw5oql"
   },
   "source": [
    "# Introduction"
   ]
  },
  {
   "cell_type": "markdown",
   "metadata": {
    "id": "fdVDABTDv_0x"
   },
   "source": [
    "## Business Problem"
   ]
  },
  {
   "cell_type": "markdown",
   "metadata": {
    "id": "GgEOwsQi5zef"
   },
   "source": [
    "   Twitter has over 300 million monthly active users, which allows businesses to reach a broad audience and connect with customers without traditional marketing techniques. On the downside, there’s so much information that it’s hard for brands to quickly detect negative social mentions that could harm their business.\n",
    "\n",
    "   That's why sentiment analysis, which involves monitoring emotions in conversations on social media platforms, has become a key strategy in social media marketing.Listening to how customers feel on Twitter allows companies to understand their audience, keep on top of what’s being said about their brand, and their competitors, and discover new trends in the industry.\n",
    "\n",
    "   For this project, we are tasked with building an NLP model to analyze Twitter sentiment about Apple and Google products. The dataset comes from CrowdFlower via data.world. Human raters rated the sentiment in over 9,000 Tweets as positive, negative, or neither. This is extremely insightful for these companies to capture there performance when rolling out new products. Customer reviews give the best feedback on new features and govern the next directions of these companies. \n",
    "\n"
   ]
  },
  {
   "cell_type": "markdown",
   "metadata": {},
   "source": [
    "### Goals"
   ]
  },
  {
   "cell_type": "markdown",
   "metadata": {},
   "source": [
    "* Create a Multi-classifier model to predit wheter a tweet has a positive emotion , negative emotion or neutral emotion.\n",
    "\n",
    "* Determine the best mothods to clean and pre process the data\n",
    "\n",
    "* Determine key words that are used in helping predict these diffrent classes"
   ]
  },
  {
   "cell_type": "markdown",
   "metadata": {},
   "source": [
    "## Method\n",
    "\n",
    "This project will use the OSEMN framework (outlined in brief below)\n",
    "\n",
    "### Obtain\n",
    "\n",
    "* Obtain Tweets dataset from data.world\n",
    "\n",
    "### Scrub\n",
    "\n",
    "* Remove unwanted features.\n",
    "\n",
    "* Fill/remove null values.\n",
    "\n",
    "* Remove stop words from corpus.\n",
    "\n",
    "### Explore\n",
    "\n",
    "* Create Word Cloud.\n",
    "\n",
    "* Show word Distribution\n",
    "\n",
    "* Show bigrams\n",
    "\n",
    "* Lemmatize/Stem Word Tokens\n",
    "\n",
    "### Model\n",
    "\n",
    "* Random Forests Classifier.\n",
    "\n",
    "* Deep NLP\n",
    "\n",
    "### Interpret\n",
    "\n",
    "* Results.\n",
    "\n",
    "* Recommendations and Future Work."
   ]
  },
  {
   "cell_type": "markdown",
   "metadata": {
    "id": "eOAUL0uc6MIr"
   },
   "source": [
    "# Import Libraries"
   ]
  },
  {
   "cell_type": "markdown",
   "metadata": {
    "id": "v7jPcj6lkFTJ"
   },
   "source": [
    "# New Section"
   ]
  },
  {
   "cell_type": "code",
   "execution_count": 1,
   "metadata": {
    "colab": {
     "base_uri": "https://localhost:8080/"
    },
    "id": "4NwQaX-Y6CsX",
    "outputId": "0889ce36-671f-4a2b-cf10-7fd0d0f0f59c",
    "scrolled": true
   },
   "outputs": [
    {
     "name": "stderr",
     "output_type": "stream",
     "text": [
      "[nltk_data] Downloading package stopwords to\n",
      "[nltk_data]     /Users/phillipojo24/nltk_data...\n",
      "[nltk_data]   Package stopwords is already up-to-date!\n",
      "[nltk_data] Downloading package wordnet to\n",
      "[nltk_data]     /Users/phillipojo24/nltk_data...\n",
      "[nltk_data]   Package wordnet is already up-to-date!\n",
      "[nltk_data] Downloading package punkt to\n",
      "[nltk_data]     /Users/phillipojo24/nltk_data...\n",
      "[nltk_data]   Package punkt is already up-to-date!\n"
     ]
    }
   ],
   "source": [
    "import pandas as pd\n",
    "import numpy as np\n",
    "import itertools\n",
    "from nltk import word_tokenize\n",
    "from gensim.models import word2vec\n",
    "from nltk import FreqDist\n",
    "from nltk.corpus import stopwords\n",
    "import string\n",
    "from sklearn.model_selection import train_test_split\n",
    "import nltk\n",
    "from sklearn.feature_extraction.text import TfidfVectorizer,CountVectorizer\n",
    "from sklearn.ensemble import RandomForestClassifier\n",
    "from sklearn import metrics\n",
    "from sklearn.metrics import accuracy_score\n",
    "from sklearn.metrics import confusion_matrix\n",
    "from wordcloud import WordCloud\n",
    "import nltk\n",
    "nltk.download('stopwords')\n",
    "nltk.download('wordnet')\n",
    "nltk.download('punkt')\n",
    "\n",
    "import matplotlib.pyplot as plt"
   ]
  },
  {
   "cell_type": "code",
   "execution_count": 2,
   "metadata": {
    "colab": {
     "base_uri": "https://localhost:8080/",
     "height": 419
    },
    "id": "w17DLV-VjO9V",
    "outputId": "d71e3130-a9ab-46d6-b44d-71c8022d6a24"
   },
   "outputs": [
    {
     "data": {
      "text/html": [
       "<div>\n",
       "<style scoped>\n",
       "    .dataframe tbody tr th:only-of-type {\n",
       "        vertical-align: middle;\n",
       "    }\n",
       "\n",
       "    .dataframe tbody tr th {\n",
       "        vertical-align: top;\n",
       "    }\n",
       "\n",
       "    .dataframe thead th {\n",
       "        text-align: right;\n",
       "    }\n",
       "</style>\n",
       "<table border=\"1\" class=\"dataframe\">\n",
       "  <thead>\n",
       "    <tr style=\"text-align: right;\">\n",
       "      <th></th>\n",
       "      <th>tweet_text</th>\n",
       "      <th>emotion_in_tweet_is_directed_at</th>\n",
       "      <th>is_there_an_emotion_directed_at_a_brand_or_product</th>\n",
       "    </tr>\n",
       "  </thead>\n",
       "  <tbody>\n",
       "    <tr>\n",
       "      <th>0</th>\n",
       "      <td>.@wesley83 I have a 3G iPhone. After 3 hrs twe...</td>\n",
       "      <td>iPhone</td>\n",
       "      <td>Negative emotion</td>\n",
       "    </tr>\n",
       "    <tr>\n",
       "      <th>1</th>\n",
       "      <td>@jessedee Know about @fludapp ? Awesome iPad/i...</td>\n",
       "      <td>iPad or iPhone App</td>\n",
       "      <td>Positive emotion</td>\n",
       "    </tr>\n",
       "    <tr>\n",
       "      <th>2</th>\n",
       "      <td>@swonderlin Can not wait for #iPad 2 also. The...</td>\n",
       "      <td>iPad</td>\n",
       "      <td>Positive emotion</td>\n",
       "    </tr>\n",
       "    <tr>\n",
       "      <th>3</th>\n",
       "      <td>@sxsw I hope this year's festival isn't as cra...</td>\n",
       "      <td>iPad or iPhone App</td>\n",
       "      <td>Negative emotion</td>\n",
       "    </tr>\n",
       "    <tr>\n",
       "      <th>4</th>\n",
       "      <td>@sxtxstate great stuff on Fri #SXSW: Marissa M...</td>\n",
       "      <td>Google</td>\n",
       "      <td>Positive emotion</td>\n",
       "    </tr>\n",
       "    <tr>\n",
       "      <th>...</th>\n",
       "      <td>...</td>\n",
       "      <td>...</td>\n",
       "      <td>...</td>\n",
       "    </tr>\n",
       "    <tr>\n",
       "      <th>9088</th>\n",
       "      <td>Ipad everywhere. #SXSW {link}</td>\n",
       "      <td>iPad</td>\n",
       "      <td>Positive emotion</td>\n",
       "    </tr>\n",
       "    <tr>\n",
       "      <th>9089</th>\n",
       "      <td>Wave, buzz... RT @mention We interrupt your re...</td>\n",
       "      <td>NaN</td>\n",
       "      <td>No emotion toward brand or product</td>\n",
       "    </tr>\n",
       "    <tr>\n",
       "      <th>9090</th>\n",
       "      <td>Google's Zeiger, a physician never reported po...</td>\n",
       "      <td>NaN</td>\n",
       "      <td>No emotion toward brand or product</td>\n",
       "    </tr>\n",
       "    <tr>\n",
       "      <th>9091</th>\n",
       "      <td>Some Verizon iPhone customers complained their...</td>\n",
       "      <td>NaN</td>\n",
       "      <td>No emotion toward brand or product</td>\n",
       "    </tr>\n",
       "    <tr>\n",
       "      <th>9092</th>\n",
       "      <td>Ï¡Ïàü_ÊÎÒ£Áââ_£â_ÛâRT @...</td>\n",
       "      <td>NaN</td>\n",
       "      <td>No emotion toward brand or product</td>\n",
       "    </tr>\n",
       "  </tbody>\n",
       "</table>\n",
       "<p>9093 rows × 3 columns</p>\n",
       "</div>"
      ],
      "text/plain": [
       "                                             tweet_text  \\\n",
       "0     .@wesley83 I have a 3G iPhone. After 3 hrs twe...   \n",
       "1     @jessedee Know about @fludapp ? Awesome iPad/i...   \n",
       "2     @swonderlin Can not wait for #iPad 2 also. The...   \n",
       "3     @sxsw I hope this year's festival isn't as cra...   \n",
       "4     @sxtxstate great stuff on Fri #SXSW: Marissa M...   \n",
       "...                                                 ...   \n",
       "9088                      Ipad everywhere. #SXSW {link}   \n",
       "9089  Wave, buzz... RT @mention We interrupt your re...   \n",
       "9090  Google's Zeiger, a physician never reported po...   \n",
       "9091  Some Verizon iPhone customers complained their...   \n",
       "9092  Ï¡Ïàü_ÊÎÒ£Áââ_£â_ÛâRT @...   \n",
       "\n",
       "     emotion_in_tweet_is_directed_at  \\\n",
       "0                             iPhone   \n",
       "1                 iPad or iPhone App   \n",
       "2                               iPad   \n",
       "3                 iPad or iPhone App   \n",
       "4                             Google   \n",
       "...                              ...   \n",
       "9088                            iPad   \n",
       "9089                             NaN   \n",
       "9090                             NaN   \n",
       "9091                             NaN   \n",
       "9092                             NaN   \n",
       "\n",
       "     is_there_an_emotion_directed_at_a_brand_or_product  \n",
       "0                                      Negative emotion  \n",
       "1                                      Positive emotion  \n",
       "2                                      Positive emotion  \n",
       "3                                      Negative emotion  \n",
       "4                                      Positive emotion  \n",
       "...                                                 ...  \n",
       "9088                                   Positive emotion  \n",
       "9089                 No emotion toward brand or product  \n",
       "9090                 No emotion toward brand or product  \n",
       "9091                 No emotion toward brand or product  \n",
       "9092                 No emotion toward brand or product  \n",
       "\n",
       "[9093 rows x 3 columns]"
      ]
     },
     "execution_count": 2,
     "metadata": {},
     "output_type": "execute_result"
    }
   ],
   "source": [
    "df = pd.read_csv('/Users/phillipojo24/Desktop/Data Science Course Materiaal/Mod 4 project/judge-1377884607_tweet_product_company.csv',encoding= 'unicode_escape' ,)\n",
    "df"
   ]
  },
  {
   "cell_type": "code",
   "execution_count": 3,
   "metadata": {
    "colab": {
     "base_uri": "https://localhost:8080/"
    },
    "id": "x7Cy1h3mrsHU",
    "outputId": "d7877e8f-9a5b-4321-bdc0-2b8388a30b8f"
   },
   "outputs": [
    {
     "data": {
      "text/plain": [
       "Index(['tweet_text', 'emotion_in_tweet_is_directed_at',\n",
       "       'is_there_an_emotion_directed_at_a_brand_or_product'],\n",
       "      dtype='object')"
      ]
     },
     "execution_count": 3,
     "metadata": {},
     "output_type": "execute_result"
    }
   ],
   "source": [
    "df.columns"
   ]
  },
  {
   "cell_type": "code",
   "execution_count": 4,
   "metadata": {
    "colab": {
     "base_uri": "https://localhost:8080/"
    },
    "id": "_SqFJtxbjWrz",
    "outputId": "defe7852-9c86-4575-d31e-e813f9969481"
   },
   "outputs": [
    {
     "name": "stdout",
     "output_type": "stream",
     "text": [
      "No emotion toward brand or product    5389\n",
      "Positive emotion                      2978\n",
      "Negative emotion                       570\n",
      "I can't tell                           156\n",
      "Name: is_there_an_emotion_directed_at_a_brand_or_product, dtype: int64\n"
     ]
    }
   ],
   "source": [
    "#CHECKING EMOTION UNIQUE VALUES AND VALUE COUNTS\n",
    "print(df['is_there_an_emotion_directed_at_a_brand_or_product'].value_counts())\n",
    "\n",
    "\n"
   ]
  },
  {
   "cell_type": "markdown",
   "metadata": {},
   "source": [
    "# Functions"
   ]
  },
  {
   "cell_type": "code",
   "execution_count": 69,
   "metadata": {},
   "outputs": [],
   "source": [
    "def model_eval_nn(y_test,y_hat_test,classes=None,\n",
    "                           normalize='true',cmap='Blues',label='',\n",
    "                           title='Confusion matrix'):\n",
    "\n",
    "    \n",
    "    dashes = '---'*20\n",
    "\n",
    "    #GETTING ACCURACY SCORE FOR TRAIN AND TEST\n",
    "    \n",
    "    if len(label)>0:\n",
    "        accuracy_header = f'{label} ACCURACY'\n",
    "    else:\n",
    "        accuracy_header = 'MODEL ACCURACY'\n",
    "    print(dashes,accuracy_header,dashes,sep='\\n')\n",
    "#     training_accuracy = accuracy_score(y_train, y_hat_train)\n",
    "    testing_accuracy = accuracy_score(y_test, y_hat_test)\n",
    "    \n",
    "#     print(f'TRAINING ACCURACY: {round(training_accuracy*100,2)}%')\n",
    "    print(f'TESTING ACCURACY: {round(testing_accuracy*100,2)}%')\n",
    "          \n",
    "    #CLASSIFICATION REPORT AND SCORES\n",
    "    test_header = \"CLASSIFICATION REPORT\"\n",
    "    \n",
    "    #ADDING LABEL IF GIVEN\n",
    "    if len(label)>0:\n",
    "        test_header += f\" USING {label}\"\n",
    "    \n",
    "    # PRINT CLASSIFICATION REPORT\n",
    "    \n",
    "    print(dashes,test_header,dashes,sep='\\n')\n",
    "\n",
    "    print(metrics.classification_report(y_test,y_hat_test))#,\n",
    "#                                     target_names=classes))\n",
    "\n",
    "    print(dashes+\"\\n\\n\")\n",
    "        \n",
    "    # MAKE FIGURE\n",
    "    fig, axes = plt.subplots(figsize=(15,5),ncols=3)      \n",
    "   \n",
    "\n",
    "    # PLOTTING CONFUSION MATRIX \n",
    "\n",
    "    cm = confusion_matrix(y_true=y_test, y_pred=y_hat_test,normalize=normalize)\n",
    "    \n",
    "    plt.imshow(cm, interpolation='nearest', cmap=cmap)\n",
    "    plt.title(title)\n",
    "    plt.colorbar(ax=axes[2])\n",
    "    tick_marks = np.arange(len(classes))\n",
    "    plt.xticks(tick_marks, classes, rotation=45)\n",
    "    plt.yticks(tick_marks, classes)\n",
    "\n",
    "    if normalize:\n",
    "        cm = cm.astype('float') / cm.sum(axis=1)[:, np.newaxis]\n",
    "\n",
    "    thresh = cm.max() / 2.\n",
    "    for i, j in itertools.product(range(cm.shape[0]), range(cm.shape[1])):\n",
    "        plt.text(j, i, round(cm[i, j],2),\n",
    "            horizontalalignment=\"center\",\n",
    "            color=\"white\" if cm[i, j] > thresh else \"black\")\n",
    "\n",
    "    plt.tight_layout()\n",
    "    plt.ylabel('True label')\n",
    "    plt.xlabel('Predicted label')\n",
    "    \n",
    "    history_df = pd.DataFrame(history.history)\n",
    "#     plt.subplot(history_df[[col for col in history_df.columns if 'loss' in col]])\n",
    "\n",
    "    loss_df = history_df[[col for col in history_df.columns if 'loss' in col]]\n",
    "    loss_df = loss_df.reset_index()\n",
    "    \n",
    "    acc_df = history_df[[col for col in history_df.columns if 'acc' in col]]\n",
    "    acc_df = acc_df.reset_index()\n",
    "    \n",
    "    sns.lineplot(x='index',y='val_loss',data=loss_df,marker='o',ax=axes[0])\n",
    "    sns.lineplot(x='index',y='loss',data=loss_df,marker='o',ax=axes[0])\n",
    "    \n",
    "    sns.lineplot(x='index',y='val_accuracy',data=acc_df,marker='o',ax=axes[1])\n",
    "    sns.lineplot(x='index',y='accuracy',data=acc_df,marker='o',ax=axes[1])\n",
    "    \n",
    "    fig.tight_layout()\n",
    "    plt.show()\n",
    "\n",
    "    \n",
    "    \n",
    "    \n",
    "def model_eval_rff(model,X_train,y_train,X_test,y_test,classes=None,\n",
    "                           normalize='true',cmap='Blues',label=''):\n",
    "\n",
    "        \n",
    "    #FITTING MODEL WITH TRAIN DATA\n",
    "    model.fit(X_train,y_train)   \n",
    "      \n",
    "    #GETTING TRAIN PREDICTIONS\n",
    "    y_hat_train = model.predict(X_train)\n",
    "    \n",
    "    #GETING TEST PREDICTIONS\n",
    "    y_hat_test = model.predict(X_test)\n",
    "    \n",
    "    dashes = '---'*20\n",
    "    \n",
    "    \n",
    "    \n",
    "    #GETTING ACCURACY SCORE FOR TRAIN AND TEST\n",
    "    \n",
    "    if len(label)>0:\n",
    "        accuracy_header = f'{label} ACCURACY'\n",
    "    else:\n",
    "        accuracy_header = 'MODEL ACCURACY'\n",
    "    print(dashes,accuracy_header,dashes,sep='\\n')\n",
    "    training_accuracy = accuracy_score(y_train, y_hat_train)\n",
    "    testing_accuracy = accuracy_score(y_test, y_hat_test)\n",
    "    \n",
    "    print(f'TRAINING ACCURACY: {round(training_accuracy*100,2)}%')\n",
    "    print(f'TESTING ACCURACY: {round(testing_accuracy*100,2)}%')\n",
    "          \n",
    "    #CLASSIFICATION REPORT AND SCORES\n",
    "    test_header = \"CLASSIFICATION REPORT\"\n",
    "    \n",
    "    #ADDING LABEL IF GIVEN\n",
    "    if len(label)>0:\n",
    "        test_header += f\" USING {label}\"\n",
    "    \n",
    "    # PRINT CLASSIFICATION REPORT\n",
    "    \n",
    "    print(dashes,test_header,dashes,sep='\\n')\n",
    "\n",
    "    print(metrics.classification_report(y_test,y_hat_test,\n",
    "                                    target_names=classes))\n",
    "\n",
    "    print(dashes+\"\\n\\n\")\n",
    "    \n",
    "    \n",
    "\n",
    "    # MAKE FIGURE\n",
    "    fig, axes = plt.subplots(figsize=(10,10),ncols=1)\n",
    "   \n",
    "\n",
    "    # PLOTTING CONFUSION MATRIX \n",
    "\n",
    "    metrics.plot_confusion_matrix(model, X_test,y_test,\n",
    "                                      display_labels=classes,\n",
    "                                      normalize=normalize,\n",
    "                                     cmap=cmap,ax=axes,xticks_rotation=45)\n",
    "    axes.set(title='Confusion Matrix')\n",
    "    \n",
    "    fig.tight_layout()\n",
    "    plt.show()"
   ]
  },
  {
   "cell_type": "code",
   "execution_count": 6,
   "metadata": {
    "colab": {
     "base_uri": "https://localhost:8080/",
     "height": 419
    },
    "id": "pxIeCDDipQ2w",
    "outputId": "c2ee29ad-561c-452f-aadb-8b082814b8e8"
   },
   "outputs": [
    {
     "data": {
      "text/html": [
       "<div>\n",
       "<style scoped>\n",
       "    .dataframe tbody tr th:only-of-type {\n",
       "        vertical-align: middle;\n",
       "    }\n",
       "\n",
       "    .dataframe tbody tr th {\n",
       "        vertical-align: top;\n",
       "    }\n",
       "\n",
       "    .dataframe thead th {\n",
       "        text-align: right;\n",
       "    }\n",
       "</style>\n",
       "<table border=\"1\" class=\"dataframe\">\n",
       "  <thead>\n",
       "    <tr style=\"text-align: right;\">\n",
       "      <th></th>\n",
       "      <th>tweet</th>\n",
       "      <th>Emotion</th>\n",
       "    </tr>\n",
       "  </thead>\n",
       "  <tbody>\n",
       "    <tr>\n",
       "      <th>0</th>\n",
       "      <td>.@wesley83 I have a 3G iPhone. After 3 hrs twe...</td>\n",
       "      <td>Negative emotion</td>\n",
       "    </tr>\n",
       "    <tr>\n",
       "      <th>1</th>\n",
       "      <td>@jessedee Know about @fludapp ? Awesome iPad/i...</td>\n",
       "      <td>Positive emotion</td>\n",
       "    </tr>\n",
       "    <tr>\n",
       "      <th>2</th>\n",
       "      <td>@swonderlin Can not wait for #iPad 2 also. The...</td>\n",
       "      <td>Positive emotion</td>\n",
       "    </tr>\n",
       "    <tr>\n",
       "      <th>3</th>\n",
       "      <td>@sxsw I hope this year's festival isn't as cra...</td>\n",
       "      <td>Negative emotion</td>\n",
       "    </tr>\n",
       "    <tr>\n",
       "      <th>4</th>\n",
       "      <td>@sxtxstate great stuff on Fri #SXSW: Marissa M...</td>\n",
       "      <td>Positive emotion</td>\n",
       "    </tr>\n",
       "    <tr>\n",
       "      <th>...</th>\n",
       "      <td>...</td>\n",
       "      <td>...</td>\n",
       "    </tr>\n",
       "    <tr>\n",
       "      <th>9088</th>\n",
       "      <td>Ipad everywhere. #SXSW {link}</td>\n",
       "      <td>Positive emotion</td>\n",
       "    </tr>\n",
       "    <tr>\n",
       "      <th>9089</th>\n",
       "      <td>Wave, buzz... RT @mention We interrupt your re...</td>\n",
       "      <td>Neutral</td>\n",
       "    </tr>\n",
       "    <tr>\n",
       "      <th>9090</th>\n",
       "      <td>Google's Zeiger, a physician never reported po...</td>\n",
       "      <td>Neutral</td>\n",
       "    </tr>\n",
       "    <tr>\n",
       "      <th>9091</th>\n",
       "      <td>Some Verizon iPhone customers complained their...</td>\n",
       "      <td>Neutral</td>\n",
       "    </tr>\n",
       "    <tr>\n",
       "      <th>9092</th>\n",
       "      <td>Ï¡Ïàü_ÊÎÒ£Áââ_£â_ÛâRT @...</td>\n",
       "      <td>Neutral</td>\n",
       "    </tr>\n",
       "  </tbody>\n",
       "</table>\n",
       "<p>8936 rows × 2 columns</p>\n",
       "</div>"
      ],
      "text/plain": [
       "                                                  tweet           Emotion\n",
       "0     .@wesley83 I have a 3G iPhone. After 3 hrs twe...  Negative emotion\n",
       "1     @jessedee Know about @fludapp ? Awesome iPad/i...  Positive emotion\n",
       "2     @swonderlin Can not wait for #iPad 2 also. The...  Positive emotion\n",
       "3     @sxsw I hope this year's festival isn't as cra...  Negative emotion\n",
       "4     @sxtxstate great stuff on Fri #SXSW: Marissa M...  Positive emotion\n",
       "...                                                 ...               ...\n",
       "9088                      Ipad everywhere. #SXSW {link}  Positive emotion\n",
       "9089  Wave, buzz... RT @mention We interrupt your re...           Neutral\n",
       "9090  Google's Zeiger, a physician never reported po...           Neutral\n",
       "9091  Some Verizon iPhone customers complained their...           Neutral\n",
       "9092  Ï¡Ïàü_ÊÎÒ£Áââ_£â_ÛâRT @...           Neutral\n",
       "\n",
       "[8936 rows x 2 columns]"
      ]
     },
     "execution_count": 6,
     "metadata": {},
     "output_type": "execute_result"
    }
   ],
   "source": [
    "#DROPPING UNNEEDED COLUMNS\n",
    "df.drop(['emotion_in_tweet_is_directed_at'],axis=1,inplace=True)\n",
    "\n",
    "#Rename Colounms and Values\n",
    "\n",
    "df.rename(columns={'tweet_text' : 'tweet' , 'is_there_an_emotion_directed_at_a_brand_or_product': 'Emotion'}, inplace=True)\n",
    "df.replace(to_replace ='No emotion toward brand or product' , value = 'Neutral', regex = True, inplace= True)\n",
    "\n",
    "#Drop \"i cant tell\" emotion\n",
    "\n",
    "# Get indexes where name column doesn't have value john\n",
    "indexNames = df[(df['Emotion'] == \"I can't tell\")].index \n",
    "# Delete these row indexes from dataFrame\n",
    "df.drop(indexNames, inplace= True )\n",
    "\n",
    "df.dropna(inplace=True)\n",
    "\n",
    "df\n"
   ]
  },
  {
   "cell_type": "code",
   "execution_count": 7,
   "metadata": {
    "colab": {
     "base_uri": "https://localhost:8080/"
    },
    "id": "LA481V4ctY-n",
    "outputId": "cd856ba2-e2e7-425d-c065-98c3fc9bdc5e"
   },
   "outputs": [
    {
     "name": "stdout",
     "output_type": "stream",
     "text": [
      "Neutral             5388\n",
      "Positive emotion    2978\n",
      "Negative emotion     570\n",
      "Name: Emotion, dtype: int64\n"
     ]
    }
   ],
   "source": [
    "print(df['Emotion'].value_counts())"
   ]
  },
  {
   "cell_type": "code",
   "execution_count": 8,
   "metadata": {
    "colab": {
     "base_uri": "https://localhost:8080/",
     "height": 419
    },
    "id": "kLz0wwUnXBWO",
    "outputId": "0bfe5891-efac-4e25-b79c-995fa64730c8"
   },
   "outputs": [
    {
     "data": {
      "text/html": [
       "<div>\n",
       "<style scoped>\n",
       "    .dataframe tbody tr th:only-of-type {\n",
       "        vertical-align: middle;\n",
       "    }\n",
       "\n",
       "    .dataframe tbody tr th {\n",
       "        vertical-align: top;\n",
       "    }\n",
       "\n",
       "    .dataframe thead th {\n",
       "        text-align: right;\n",
       "    }\n",
       "</style>\n",
       "<table border=\"1\" class=\"dataframe\">\n",
       "  <thead>\n",
       "    <tr style=\"text-align: right;\">\n",
       "      <th></th>\n",
       "      <th>tweet</th>\n",
       "      <th>Emotion</th>\n",
       "    </tr>\n",
       "  </thead>\n",
       "  <tbody>\n",
       "    <tr>\n",
       "      <th>5</th>\n",
       "      <td>@teachntech00 New iPad Apps For #SpeechTherapy...</td>\n",
       "      <td>Neutral</td>\n",
       "    </tr>\n",
       "    <tr>\n",
       "      <th>16</th>\n",
       "      <td>Holler Gram for iPad on the iTunes App Store -...</td>\n",
       "      <td>Neutral</td>\n",
       "    </tr>\n",
       "    <tr>\n",
       "      <th>32</th>\n",
       "      <td>Attn: All  #SXSW frineds, @mention Register fo...</td>\n",
       "      <td>Neutral</td>\n",
       "    </tr>\n",
       "    <tr>\n",
       "      <th>33</th>\n",
       "      <td>Anyone at  #sxsw want to sell their old iPad?</td>\n",
       "      <td>Neutral</td>\n",
       "    </tr>\n",
       "    <tr>\n",
       "      <th>34</th>\n",
       "      <td>Anyone at  #SXSW who bought the new iPad want ...</td>\n",
       "      <td>Neutral</td>\n",
       "    </tr>\n",
       "    <tr>\n",
       "      <th>...</th>\n",
       "      <td>...</td>\n",
       "      <td>...</td>\n",
       "    </tr>\n",
       "    <tr>\n",
       "      <th>9087</th>\n",
       "      <td>@mention Yup, but I don't have a third app yet...</td>\n",
       "      <td>Neutral</td>\n",
       "    </tr>\n",
       "    <tr>\n",
       "      <th>9089</th>\n",
       "      <td>Wave, buzz... RT @mention We interrupt your re...</td>\n",
       "      <td>Neutral</td>\n",
       "    </tr>\n",
       "    <tr>\n",
       "      <th>9090</th>\n",
       "      <td>Google's Zeiger, a physician never reported po...</td>\n",
       "      <td>Neutral</td>\n",
       "    </tr>\n",
       "    <tr>\n",
       "      <th>9091</th>\n",
       "      <td>Some Verizon iPhone customers complained their...</td>\n",
       "      <td>Neutral</td>\n",
       "    </tr>\n",
       "    <tr>\n",
       "      <th>9092</th>\n",
       "      <td>Ï¡Ïàü_ÊÎÒ£Áââ_£â_ÛâRT @...</td>\n",
       "      <td>Neutral</td>\n",
       "    </tr>\n",
       "  </tbody>\n",
       "</table>\n",
       "<p>5388 rows × 2 columns</p>\n",
       "</div>"
      ],
      "text/plain": [
       "                                                  tweet  Emotion\n",
       "5     @teachntech00 New iPad Apps For #SpeechTherapy...  Neutral\n",
       "16    Holler Gram for iPad on the iTunes App Store -...  Neutral\n",
       "32    Attn: All  #SXSW frineds, @mention Register fo...  Neutral\n",
       "33        Anyone at  #sxsw want to sell their old iPad?  Neutral\n",
       "34    Anyone at  #SXSW who bought the new iPad want ...  Neutral\n",
       "...                                                 ...      ...\n",
       "9087  @mention Yup, but I don't have a third app yet...  Neutral\n",
       "9089  Wave, buzz... RT @mention We interrupt your re...  Neutral\n",
       "9090  Google's Zeiger, a physician never reported po...  Neutral\n",
       "9091  Some Verizon iPhone customers complained their...  Neutral\n",
       "9092  Ï¡Ïàü_ÊÎÒ£Áââ_£â_ÛâRT @...  Neutral\n",
       "\n",
       "[5388 rows x 2 columns]"
      ]
     },
     "execution_count": 8,
     "metadata": {},
     "output_type": "execute_result"
    }
   ],
   "source": [
    "df[df['Emotion'] == \"Neutral\"]\n"
   ]
  },
  {
   "cell_type": "markdown",
   "metadata": {
    "id": "T0T2L3eX-0mQ"
   },
   "source": [
    "Now we will split the data into test and traning data\n"
   ]
  },
  {
   "cell_type": "markdown",
   "metadata": {
    "id": "XNgnsORs4xiG"
   },
   "source": [
    "#Train-Test Split"
   ]
  },
  {
   "cell_type": "code",
   "execution_count": 9,
   "metadata": {
    "id": "9zAbrIF341yW"
   },
   "outputs": [],
   "source": [
    "from sklearn.model_selection import train_test_split"
   ]
  },
  {
   "cell_type": "code",
   "execution_count": 10,
   "metadata": {
    "colab": {
     "base_uri": "https://localhost:8080/"
    },
    "id": "I0GxQUYr5bni",
    "outputId": "5056097b-3c5d-400c-ba2d-feff92cda99d"
   },
   "outputs": [
    {
     "data": {
      "text/plain": [
       "0       0\n",
       "1       1\n",
       "2       1\n",
       "3       0\n",
       "4       1\n",
       "       ..\n",
       "9088    1\n",
       "9089    2\n",
       "9090    2\n",
       "9091    2\n",
       "9092    2\n",
       "Name: Emotion, Length: 8936, dtype: int64"
      ]
     },
     "execution_count": 10,
     "metadata": {},
     "output_type": "execute_result"
    }
   ],
   "source": [
    "X = df['tweet'].copy()\n",
    "y = df['Emotion'].copy()\n",
    "y.replace({'Negative emotion': 0 , 'Positive emotion' : 1 , 'Neutral': 2 }, inplace = True)\n",
    "y"
   ]
  },
  {
   "cell_type": "code",
   "execution_count": 11,
   "metadata": {
    "colab": {
     "base_uri": "https://localhost:8080/"
    },
    "id": "V2mujJxK5u0S",
    "outputId": "8f4ebc33-4927-41c0-fa72-2391431d7fe3"
   },
   "outputs": [
    {
     "data": {
      "text/plain": [
       "2    0.591316\n",
       "1    0.336616\n",
       "0    0.072068\n",
       "Name: Emotion, dtype: float64"
      ]
     },
     "execution_count": 11,
     "metadata": {},
     "output_type": "execute_result"
    }
   ],
   "source": [
    "X_train, X_test, y_train, y_test = train_test_split(X,y,random_state=24) \n",
    "\n",
    "pd.Series(y_test).value_counts(normalize=True)\n",
    "\n"
   ]
  },
  {
   "cell_type": "code",
   "execution_count": 12,
   "metadata": {
    "colab": {
     "base_uri": "https://localhost:8080/"
    },
    "id": "DwDhu1JW6CCz",
    "outputId": "f18b1ac3-5e56-4558-fae2-99b4893079eb"
   },
   "outputs": [
    {
     "data": {
      "text/plain": [
       "2    0.606834\n",
       "1    0.332140\n",
       "0    0.061027\n",
       "Name: Emotion, dtype: float64"
      ]
     },
     "execution_count": 12,
     "metadata": {},
     "output_type": "execute_result"
    }
   ],
   "source": [
    "## Class imbalance\n",
    "y_train.value_counts(1)"
   ]
  },
  {
   "cell_type": "code",
   "execution_count": 13,
   "metadata": {
    "colab": {
     "base_uri": "https://localhost:8080/"
    },
    "id": "kCvw4ZkH6Ptc",
    "outputId": "beeadc97-1378-4496-c8ef-cd850ba11cdf"
   },
   "outputs": [
    {
     "name": "stderr",
     "output_type": "stream",
     "text": [
      "/Users/phillipojo24/opt/anaconda3/lib/python3.7/site-packages/sklearn/utils/validation.py:70: FutureWarning: Pass classes=[0 1 2], y=5581    1\n",
      "5860    2\n",
      "4968    2\n",
      "4080    1\n",
      "1946    2\n",
      "       ..\n",
      "6610    2\n",
      "5344    2\n",
      "3540    1\n",
      "8683    1\n",
      "913     0\n",
      "Name: Emotion, Length: 6702, dtype: int64 as keyword args. From version 0.25 passing these as positional arguments will result in an error\n",
      "  FutureWarning)\n"
     ]
    },
    {
     "data": {
      "text/plain": [
       "{0: 5.462102689486553, 1: 1.0035938903863433, 2: 0.5492992377673961}"
      ]
     },
     "execution_count": 13,
     "metadata": {},
     "output_type": "execute_result"
    }
   ],
   "source": [
    "from sklearn.utils.class_weight import compute_class_weight\n",
    "\n",
    "weights= compute_class_weight(\n",
    "           'balanced',\n",
    "            np.unique(y_train), \n",
    "            y_train)\n",
    "\n",
    "weights_dict = dict(zip( np.unique(y_train),weights))\n",
    "weights_dict"
   ]
  },
  {
   "cell_type": "markdown",
   "metadata": {
    "id": "c8IDFKNe8NiD"
   },
   "source": [
    "#Clean the Tweets"
   ]
  },
  {
   "cell_type": "code",
   "execution_count": 14,
   "metadata": {
    "colab": {
     "base_uri": "https://localhost:8080/"
    },
    "id": "VC-zBr2xjOog",
    "outputId": "04b3e04c-dafe-4dd4-8481-de8680ffd21f"
   },
   "outputs": [
    {
     "data": {
      "text/plain": [
       "5581    bounced over to catch google's marissa mayer s...\n",
       "5860    google smentisce novit in arrivo we're not lau...\n",
       "4968    mayer google will hire 6 000 people this year ...\n",
       "4080    love google analytics thanks to the followers ...\n",
       "1946    i was finally forced to google why can't peopl...\n",
       "                              ...                        \n",
       "6610                      the 2 takes over [video] {link}\n",
       "5344     we have problems_time to stop ******* _ {link} _\n",
       "3540    i agree apple stole what little part of the sh...\n",
       "8683    i picked up a &quot mophie&quot iphone charge ...\n",
       "913     hm do we need another 1 google to launch major...\n",
       "Name: tweet, Length: 6702, dtype: object"
      ]
     },
     "execution_count": 14,
     "metadata": {},
     "output_type": "execute_result"
    }
   ],
   "source": [
    "import re \n",
    "\n",
    "# Create a function to clean the tweets\n",
    "def cleanTxt(text):\n",
    " text = ' '.join(re.sub(\"(@[A-Za-z0-9]+)|(#[A-Za-z0-9]+)\", \" \", str(text)).split()) #Removing @mentions\n",
    " text = re.sub('[^\\x00-\\x7f]','', str(text))  # Removing '#' hash tag\n",
    " text = re.sub('RT[\\s]+', '', str(text)) # Removing RT\n",
    " text = ' '.join(re.sub(\"(\\w+:\\/\\/\\S+)\", \" \", str(text)).split()) # Removing hyperlink\n",
    " text = ' '.join(re.sub(\"[\\.\\,\\!\\?\\:\\;\\-\\=]\", \" \", str(text)).split()) #Removing Punctuation\n",
    " text = str(text).lower() #Make stext \n",
    " #text = ''.join(''.join(s)[:2] for _, s in itertools.groupby(text))\n",
    " return text\n",
    "\n",
    "\n",
    "# Clean the tweets\n",
    "X_train_clean_df = X_train.apply(cleanTxt)\n",
    "X_test_clean_df = X_test.apply(cleanTxt)\n",
    "# Show the cleaned tweets\n",
    "X_train_clean_df"
   ]
  },
  {
   "cell_type": "code",
   "execution_count": 15,
   "metadata": {},
   "outputs": [
    {
     "data": {
      "text/plain": [
       "'2'"
      ]
     },
     "execution_count": 15,
     "metadata": {},
     "output_type": "execute_result"
    }
   ],
   "source": [
    "#CREATING STOPWORDS LIST TO REMOVE FROM CORPUS\n",
    "stopwords_list = stopwords.words('english')\n",
    "\n",
    "# ADDING PUNCTUATION TO STOPWORDS_LIST\n",
    "stopwords_list.extend(string.punctuation)\n",
    "\n",
    "\n",
    "\n",
    "# ADDING ADDITIONAL PUNCTUATION TO STOPWORDS_LIST\n",
    "additional_punc = ['“','”','...',\"''\",'’','``']\n",
    "stopwords_list.extend(additional_punc)\n",
    "\n",
    "#ADDING COMMON WINE RELATED TERMS TO THE LIST\n",
    "stopwords_list.extend(['link', 'SXSW', '2'])\n",
    "\n",
    "#PRINTING LAST ITEM ON LIST TO MAKE SURE IT WORKED\n",
    "stopwords_list[-1]"
   ]
  },
  {
   "cell_type": "code",
   "execution_count": 16,
   "metadata": {},
   "outputs": [],
   "source": [
    "#CREATING CORPUS WITH ALL TEXT IN DESCRIPTION COLUMN\n",
    "corpus = X_train_clean_df.to_list()\n",
    "\n",
    "#TOKENIZING TEXT\n",
    "tokens = word_tokenize(','.join(corpus))\n",
    "\n",
    "#REMOVING STOPWORDS FROM TEXT\n",
    "stopped_tokens= [w.lower() for w in tokens if w.lower() not in stopwords_list]"
   ]
  },
  {
   "cell_type": "code",
   "execution_count": 70,
   "metadata": {
    "colab": {
     "base_uri": "https://localhost:8080/",
     "height": 232
    },
    "id": "XyLXtwSEDqpj",
    "outputId": "752eb5e7-b66c-497c-9e04-64a90fa851ee"
   },
   "outputs": [
    {
     "data": {
      "image/png": "[encoded data removed]",
      "text/plain": [
       "<Figure size 432x288 with 1 Axes>"
      ]
     },
     "metadata": {
      "needs_background": "light"
     },
     "output_type": "display_data"
    }
   ],
   "source": [
    "# word cloud visualization\n",
    "allWords = ' '.join([twts for twts in df['tweet']])\n",
    "wordCloud = WordCloud(width=500, height=300, random_state=21, max_font_size=110).generate(allWords)\n",
    "\n",
    "\n",
    "plt.imshow(wordCloud, interpolation=\"bilinear\")\n",
    "plt.axis('off')\n",
    "plt.show()\n",
    "\n"
   ]
  },
  {
   "cell_type": "code",
   "execution_count": 19,
   "metadata": {
    "colab": {
     "base_uri": "https://localhost:8080/",
     "height": 364
    },
    "id": "gwBoFFYY3EgK",
    "outputId": "5912b40f-8bdb-47f6-e2a6-7ccecb23d4cf"
   },
   "outputs": [
    {
     "name": "stdout",
     "output_type": "stream",
     "text": [
      "Neutral             60.295434\n",
      "Positive emotion    33.325873\n",
      "Negative emotion     6.378693\n",
      "Name: Emotion, dtype: float64\n"
     ]
    },
    {
     "data": {
      "text/plain": [
       "<matplotlib.axes._subplots.AxesSubplot at 0x7f89b8f5a6d0>"
      ]
     },
     "metadata": {},
     "output_type": "display_data"
    },
    {
     "data": {
      "image/png": "[encoded data removed]",
      "text/plain": [
       "<Figure size 432x288 with 1 Axes>"
      ]
     },
     "metadata": {
      "needs_background": "light"
     },
     "output_type": "display_data"
    }
   ],
   "source": [
    "import seaborn as sns\n",
    "\n",
    "print(df['Emotion'].value_counts(normalize=True)*100)\n",
    "\n",
    "display(sns.countplot( y=\"Emotion\", data=df))"
   ]
  },
  {
   "cell_type": "markdown",
   "metadata": {},
   "source": [
    "## Bigrams"
   ]
  },
  {
   "cell_type": "code",
   "execution_count": 20,
   "metadata": {},
   "outputs": [],
   "source": [
    "bigram_measures = nltk.collocations.BigramAssocMeasures()\n",
    "text_finder = nltk.BigramCollocationFinder.from_words(stopped_tokens)\n",
    "review_scored = text_finder.score_ngrams(bigram_measures.raw_freq)"
   ]
  },
  {
   "cell_type": "code",
   "execution_count": 21,
   "metadata": {},
   "outputs": [
    {
     "data": {
      "text/html": [
       "<div>\n",
       "<style scoped>\n",
       "    .dataframe tbody tr th:only-of-type {\n",
       "        vertical-align: middle;\n",
       "    }\n",
       "\n",
       "    .dataframe tbody tr th {\n",
       "        vertical-align: top;\n",
       "    }\n",
       "\n",
       "    .dataframe thead th {\n",
       "        text-align: right;\n",
       "    }\n",
       "</style>\n",
       "<table border=\"1\" class=\"dataframe\">\n",
       "  <thead>\n",
       "    <tr style=\"text-align: right;\">\n",
       "      <th></th>\n",
       "      <th>Word</th>\n",
       "      <th>Freq</th>\n",
       "    </tr>\n",
       "  </thead>\n",
       "  <tbody>\n",
       "    <tr>\n",
       "      <th>0</th>\n",
       "      <td>(apple, store)</td>\n",
       "      <td>0.006242</td>\n",
       "    </tr>\n",
       "    <tr>\n",
       "      <th>1</th>\n",
       "      <td>(social, network)</td>\n",
       "      <td>0.005682</td>\n",
       "    </tr>\n",
       "    <tr>\n",
       "      <th>2</th>\n",
       "      <td>(new, social)</td>\n",
       "      <td>0.005234</td>\n",
       "    </tr>\n",
       "    <tr>\n",
       "      <th>3</th>\n",
       "      <td>(pop, store)</td>\n",
       "      <td>0.004162</td>\n",
       "    </tr>\n",
       "    <tr>\n",
       "      <th>4</th>\n",
       "      <td>(network, called)</td>\n",
       "      <td>0.004065</td>\n",
       "    </tr>\n",
       "    <tr>\n",
       "      <th>5</th>\n",
       "      <td>(google, launch)</td>\n",
       "      <td>0.003985</td>\n",
       "    </tr>\n",
       "    <tr>\n",
       "      <th>6</th>\n",
       "      <td>(major, new)</td>\n",
       "      <td>0.003761</td>\n",
       "    </tr>\n",
       "    <tr>\n",
       "      <th>7</th>\n",
       "      <td>(called, circles)</td>\n",
       "      <td>0.003745</td>\n",
       "    </tr>\n",
       "    <tr>\n",
       "      <th>8</th>\n",
       "      <td>(launch, major)</td>\n",
       "      <td>0.003649</td>\n",
       "    </tr>\n",
       "    <tr>\n",
       "      <th>9</th>\n",
       "      <td>(possibly, today)</td>\n",
       "      <td>0.003089</td>\n",
       "    </tr>\n",
       "    <tr>\n",
       "      <th>10</th>\n",
       "      <td>(circles, possibly)</td>\n",
       "      <td>0.002897</td>\n",
       "    </tr>\n",
       "    <tr>\n",
       "      <th>11</th>\n",
       "      <td>(apple, opening)</td>\n",
       "      <td>0.002449</td>\n",
       "    </tr>\n",
       "    <tr>\n",
       "      <th>12</th>\n",
       "      <td>(temporary, store)</td>\n",
       "      <td>0.002385</td>\n",
       "    </tr>\n",
       "    <tr>\n",
       "      <th>13</th>\n",
       "      <td>(iphone, app)</td>\n",
       "      <td>0.002337</td>\n",
       "    </tr>\n",
       "    <tr>\n",
       "      <th>14</th>\n",
       "      <td>(store, austin)</td>\n",
       "      <td>0.002241</td>\n",
       "    </tr>\n",
       "    <tr>\n",
       "      <th>15</th>\n",
       "      <td>(downtown, austin)</td>\n",
       "      <td>0.002225</td>\n",
       "    </tr>\n",
       "    <tr>\n",
       "      <th>16</th>\n",
       "      <td>(store, downtown)</td>\n",
       "      <td>0.002113</td>\n",
       "    </tr>\n",
       "    <tr>\n",
       "      <th>17</th>\n",
       "      <td>(marissa, mayer)</td>\n",
       "      <td>0.002081</td>\n",
       "    </tr>\n",
       "    <tr>\n",
       "      <th>18</th>\n",
       "      <td>(google, 's)</td>\n",
       "      <td>0.002033</td>\n",
       "    </tr>\n",
       "    <tr>\n",
       "      <th>19</th>\n",
       "      <td>(google, maps)</td>\n",
       "      <td>0.001953</td>\n",
       "    </tr>\n",
       "  </tbody>\n",
       "</table>\n",
       "</div>"
      ],
      "text/plain": [
       "                   Word      Freq\n",
       "0        (apple, store)  0.006242\n",
       "1     (social, network)  0.005682\n",
       "2         (new, social)  0.005234\n",
       "3          (pop, store)  0.004162\n",
       "4     (network, called)  0.004065\n",
       "5      (google, launch)  0.003985\n",
       "6          (major, new)  0.003761\n",
       "7     (called, circles)  0.003745\n",
       "8       (launch, major)  0.003649\n",
       "9     (possibly, today)  0.003089\n",
       "10  (circles, possibly)  0.002897\n",
       "11     (apple, opening)  0.002449\n",
       "12   (temporary, store)  0.002385\n",
       "13        (iphone, app)  0.002337\n",
       "14      (store, austin)  0.002241\n",
       "15   (downtown, austin)  0.002225\n",
       "16    (store, downtown)  0.002113\n",
       "17     (marissa, mayer)  0.002081\n",
       "18         (google, 's)  0.002033\n",
       "19       (google, maps)  0.001953"
      ]
     },
     "execution_count": 21,
     "metadata": {},
     "output_type": "execute_result"
    }
   ],
   "source": [
    "#MAKE DATA FRAME FROM BIGRAMS\n",
    "pd.DataFrame(review_scored, columns=[\"Word\",\"Freq\"]).head(20)"
   ]
  },
  {
   "cell_type": "markdown",
   "metadata": {},
   "source": [
    "## Vanilla Model"
   ]
  },
  {
   "cell_type": "markdown",
   "metadata": {
    "id": "qsyLNERjYQUV"
   },
   "source": [
    "#Tokenizing Words\n"
   ]
  },
  {
   "cell_type": "code",
   "execution_count": 22,
   "metadata": {
    "id": "XWGIc6diYOpP"
   },
   "outputs": [],
   "source": [
    "import tensorflow as tf\n",
    "from tensorflow.keras.layers import Input, Dense, LSTM, Embedding\n",
    "from tensorflow.keras.layers import Dropout, Activation, Bidirectional, GlobalMaxPool1D\n",
    "from tensorflow.keras.models import Sequential\n",
    "from tensorflow.keras import initializers, regularizers, constraints, optimizers, layers\n",
    "from tensorflow.keras.callbacks import EarlyStopping,ModelCheckpoint\n",
    "\n",
    "#import keras_gridsearch as kg\n",
    "\n",
    "from tensorflow.keras.preprocessing import text, sequence\n",
    "from tensorflow.keras.preprocessing.text import Tokenizer\n",
    "from tensorflow.keras.preprocessing.sequence import pad_sequences"
   ]
  },
  {
   "cell_type": "code",
   "execution_count": 23,
   "metadata": {
    "colab": {
     "base_uri": "https://localhost:8080/"
    },
    "id": "TMk6OK9TZhJJ",
    "outputId": "cd16cb67-4009-436b-86e3-515e770c1aa5"
   },
   "outputs": [
    {
     "name": "stdout",
     "output_type": "stream",
     "text": [
      "{'the': 1, 'link': 2, 'to': 3, 'at': 4, 'for': 5, 'a': 6, 'ipad': 7, 'google': 8, 'in': 9, 'apple': 10, 'is': 11, 'quot': 12, 'of': 13, 'and': 14, 'store': 15, 'iphone': 16, 'on': 17, 'up': 18, 'new': 19, '2': 20, 'i': 21, 'you': 22, 'with': 23, 'an': 24, 'austin': 25, 'amp': 26, 'my': 27, 'app': 28, 'it': 29, 'launch': 30, 'social': 31, 'today': 32, 'this': 33, 'pop': 34, 'just': 35, 'be': 36, 'circles': 37, 'by': 38, 'from': 39, 'not': 40, 'out': 41, 'are': 42, 'sxsw': 43, 'network': 44, 'that': 45, 'android': 46, 'your': 47, 'via': 48, 'have': 49, 'will': 50, 'line': 51, 'now': 52, 'about': 53, 'free': 54, 'called': 55, 'if': 56, 'me': 57, 'get': 58, 'so': 59, 'party': 60, 'mobile': 61, 'major': 62, 'but': 63, 'all': 64, 'no': 65, 'has': 66, \"it's\": 67, 'time': 68, 'or': 69, 'can': 70, 'what': 71, 'one': 72, 'like': 73, 'check': 74, 'temporary': 75, 'opening': 76, 'possibly': 77, \"i'm\": 78, 'w': 79, 'they': 80, 'going': 81, 'downtown': 82, 'here': 83, 'people': 84, 'was': 85, 'we': 86, 'our': 87, 'day': 88, 'open': 89, 'more': 90, 'see': 91, 'great': 92, 'apps': 93, 'as': 94, 'mayer': 95, 'go': 96, 'maps': 97, 'how': 98, 'need': 99, 'do': 100, 'there': 101, '3': 102, 'popup': 103, 'marissa': 104, \"don't\": 105, 'know': 106, 'come': 107, 'only': 108, 'their': 109, 'win': 110, \"google's\": 111, 'good': 112, 'think': 113, 'first': 114, 'ipad2': 115, 'got': 116, '4': 117, 'us': 118, 'before': 119, 'game': 120, 'want': 121, 'design': 122, 'cool': 123, 'news': 124, 'best': 125, 'awesome': 126, 'big': 127, 'shop': 128, 'panel': 129, 'who': 130, 'location': 131, 'next': 132, 'around': 133, 'use': 134, '1': 135, 'love': 136, 'than': 137, 'thanks': 138, 'last': 139, 'talk': 140, 'search': 141, 'too': 142, 'music': 143, 'any': 144, 'set': 145, 'during': 146, 'show': 147, 'right': 148, 'over': 149, 'would': 150, 'some': 151, 'make': 152, 'users': 153, 'says': 154, 'when': 155, 'really': 156, \"we're\": 157, 'download': 158, 'gt': 159, 'why': 160, 'rumor': 161, 'video': 162, 'anyone': 163, '5': 164, 'still': 165, 'its': 166, 'using': 167, '11': 168, 'booth': 169, 'even': 170, 'his': 171, 'session': 172, 'u': 173, 'guy': 174, 'year': 175, 'hey': 176, 'congress': 177, 'coming': 178, 'week': 179, 'into': 180, 'launching': 181, 'case': 182, \"apple's\": 183, 'buy': 184, 'through': 185, 'them': 186, 'ipads': 187, '10': 188, 'off': 189, 'digital': 190, 'heard': 191, 'away': 192, \"i've\": 193, 'had': 194, 'com': 195, 'phone': 196, 'twitter': 197, 'products': 198, 'doing': 199, 'designing': 200, '6th': 201, 'very': 202, 'web': 203, 'down': 204, 'bing': 205, 'other': 206, 'most': 207, 'look': 208, 'tweet': 209, 'nice': 210, 'may': 211, 'while': 212, 'future': 213, 'could': 214, \"you're\": 215, 'find': 216, 'everyone': 217, 'way': 218, 'thing': 219, 'also': 220, 'looking': 221, 'team': 222, 'wins': 223, 'where': 224, 'giving': 225, 'does': 226, 'blackberry': 227, 'tonight': 228, 'fun': 229, 'tv': 230, 'already': 231, 'been': 232, 'because': 233, 'live': 234, 'many': 235, 'well': 236, 'yes': 237, 'wait': 238, 'includes': 239, 'interesting': 240, 'facebook': 241, 'uberguide': 242, 'after': 243, 'interactive': 244, 'looks': 245, '2011': 246, 'getting': 247, 'night': 248, 'back': 249, 'tomorrow': 250, 'were': 251, \"can't\": 252, 'better': 253, 'please': 254, 'should': 255, 'available': 256, 'work': 257, '7': 258, 'long': 259, '12': 260, 'temp': 261, 'fast': 262, 'am': 263, 'much': 264, 'tech': 265, 'ever': 266, 'post': 267, 'he': 268, \"i'll\": 269, 'friends': 270, 'did': 271, 'sure': 272, 'others': 273, 'action': 274, 'saw': 275, 'ready': 276, 'rt': 277, 'wow': 278, 'made': 279, 'being': 280, 'sell': 281, 'take': 282, 'details': 283, 'gets': 284, 'based': 285, 'itunes': 286, 'street': 287, 'someone': 288, 'product': 289, 'meet': 290, 'sponsored': 291, 'updates': 292, 'two': 293, 'laptop': 294, '30': 295, 'keep': 296, 'oh': 297, 'every': 298, 't': 299, 'heading': 300, 'platform': 301, 'japan': 302, 'left': 303, 'days': 304, 'relief': 305, 'battery': 306, 'lt': 307, 'photos': 308, 'smart': 309, 'service': 310, 'yet': 311, 'hotpot': 312, 'few': 313, 'q': 314, '20': 315, 'room': 316, 'stop': 317, \"they're\": 318, 'media': 319, 'give': 320, 'physical': 321, 'white': 322, 'technology': 323, 'waiting': 324, 'own': 325, 'art': 326, '40': 327, \"that's\": 328, 'join': 329, 'far': 330, 'connect': 331, '03': 332, 'comes': 333, 'cc': 334, 'codes': 335, 'sampler': 336, 'seen': 337, 'd': 338, 'guide': 339, 'building': 340, 'help': 341, \"there's\": 342, 'navigation': 343, 'vs': 344, 'block': 345, 'must': 346, 'person': 347, 'say': 348, 'else': 349, 'might': 350, 'core': 351, 'geek': 352, 'hope': 353, 'those': 354, 'map': 355, 'begins': 356, 'let': 357, 'content': 358, 'release': 359, 'marketing': 360, 'valid': 361, '00': 362, '59': 363, 'making': 364, \"doesn't\": 365, 'convention': 366, 'events': 367, 'group': 368, 'working': 369, 'charger': 370, 'flipboard': 371, 'trying': 372, 'money': 373, 'excited': 374, 'hours': 375, '1st': 376, 'info': 377, 'follow': 378, 'gave': 379, 'guys': 380, 'worlds': 381, 'hot': 382, 'amazing': 383, 'demo': 384, \"2's\": 385, 'event': 386, 'her': 387, 'sold': 388, 'business': 389, 'texas': 390, 'attendees': 391, 'having': 392, 'showing': 393, 'world': 394, 'launched': 395, 'taking': 396, 'crowd': 397, 'data': 398, 'something': 399, 'parties': 400, 'then': 401, 'takes': 402, 'blog': 403, 'without': 404, 'watch': 405, 'life': 406, 'again': 407, 'outside': 408, 'center': 409, 'pic': 410, 'cont': 411, 'launches': 412, 'hootsuite': 413, 'front': 414, 'screen': 415, 'wifi': 416, 'hour': 417, 'things': 418, 'presentation': 419, 's': 420, 'morning': 421, 'speak': 422, '6': 423, 'interfaces': 424, 'lot': 425, 'man': 426, 'view': 427, 'million': 428, 'wonder': 429, 'instead': 430, 'idea': 431, 'which': 432, 'another': 433, 'giveaway': 434, 'brain': 435, 'happy': 436, 'weekend': 437, 'foursquare': 438, 'true': 439, 'website': 440, 'preview': 441, 'full': 442, 'lol': 443, \"what's\": 444, 'traffic': 445, 'saving': 446, 'used': 447, 'opens': 448, 'version': 449, 'sets': 450, 'daily': 451, 'pretty': 452, 'both': 453, '59p': 454, 'needs': 455, 'tell': 456, 'usage': 457, 'artists': 458, 'bad': 459, 'code': 460, 'bit': 461, 'update': 462, 'makes': 463, 'sign': 464, 'talking': 465, 'stuff': 466, 'play': 467, 'hand': 468, 'places': 469, 'industry': 470, 'bring': 471, 'experience': 472, 'conferences': 473, 'buzz': 474, 'company': 475, 'food': 476, 'start': 477, 'meetup': 478, 'featured': 479, 'same': 480, 'playing': 481, 'share': 482, 'headaches': 483, 'soon': 484, 'developers': 485, 'phones': 486, 'friday': 487, 'feel': 488, 'm': 489, 'ranking': 490, 'said': 491, 'listening': 492, 'huge': 493, 'these': 494, 'town': 495, '30pm': 496, 'brilliant': 497, 'lost': 498, 'able': 499, \"one's\": 500, '2s': 501, 'site': 502, '15': 503, 'seems': 504, 'rock': 505, 'experts': 506, 'seeing': 507, 'gowalla': 508, 'read': 509, 'turn': 510, 'folks': 511, 'local': 512, 'selling': 513, 'ballroom': 514, \"'s\": 515, 'enter': 516, 'found': 517, 'place': 518, 'probably': 519, 'march': 520, 'starting': 521, 'trade': 522, 'behind': 523, 'lines': 524, 'b': 525, 'bought': 526, 'schools': 527, 'plenty': 528, 'user': 529, 'strategy': 530, 'pics': 531, 'stores': 532, 'call': 533, 'including': 534, 'camera': 535, 'years': 536, 'market': 537, 'home': 538, 'power': 539, 'nerds': 540, 'microsoft': 541, 'times': 542, 'forward': 543, 'built': 544, \"here's\": 545, 'south': 546, 'hear': 547, '3g': 548, 'analytics': 549, 'since': 550, '9': 551, 'chance': 552, 'boomers': 553, 'updated': 554, 'devices': 555, 'put': 556, 'hilton': 557, 'official': 558, \"you'll\": 559, 'photo': 560, 'maybe': 561, 'report': 562, 'dev': 563, 'developer': 564, 'ppl': 565, 'access': 566, 'ios': 567, 'wish': 568, 'checking': 569, 'information': 570, 'route': 571, \"didn't\": 572, 'real': 573, 'everything': 574, 'space': 575, 'keynote': 576, 'setting': 577, 'mom': 578, 'minutes': 579, 'brand': 580, 'walking': 581, 'tweeting': 582, 'forget': 583, '0': 584, 'lounge': 585, 'choice': 586, 'o': 587, 'congrats': 588, 'apparently': 589, 'started': 590, 'diller': 591, 'belinsky': 592, 'tx': 593, 'visit': 594, 'schedule': 595, 'book': 596, '8': 597, 'track': 598, 'house': 599, 'rewards': 600, 'festival': 601, 'security': 602, 'yesterday': 603, 'gonna': 604, 'wants': 605, 'page': 606, 'actually': 607, 'beta': 608, 'each': 609, 'schemas': 610, 'bar': 611, 'living': 612, 'searches': 613, 'anything': 614, 'city': 615, 'old': 616, 'sxswi': 617, 'try': 618, 'thought': 619, 'conference': 620, 'top': 621, 'until': 622, 'cnn': 623, 'packed': 624, 'mac': 625, 'always': 626, 'took': 627, 'won': 628, 'late': 629, 'hard': 630, 'per': 631, 'ly': 632, 'everywhere': 633, 'tweets': 634, 'sweet': 635, 'cases': 636, 'goes': 637, 'sale': 638, 'head': 639, 'bands': 640, 'tip': 641, 'dude': 642, 'opened': 643, 'special': 644, 'interview': 645, 'fb': 646, \"isn't\": 647, 'crazy': 648, 'wanna': 649, 'lots': 650, 'scheduled': 651, 'genius': 652, 'tablets': 653, 'standing': 654, '150': 655, 'almost': 656, 'gsd': 657, 'holler': 658, 'gram': 659, 'r': 660, 'mark': 661, '13': 662, 'attending': 663, 'hall': 664, 'thank': 665, 'nothing': 666, 'ago': 667, 'sharing': 668, 'mike': 669, 'internet': 670, 'aclu': 671, 'ask': 672, 'interrupt': 673, 'regularly': 674, 'programming': 675, 'added': 676, 'least': 677, 'verizon': 678, 'little': 679, 'important': 680, 'god': 681, 'never': 682, 'juice': 683, 'audience': 684, 'question': 685, 'finally': 686, 'early': 687, 'course': 688, 'rumors': 689, 'features': 690, 'review': 691, 'exhibit': 692, 'earthquake': 693, 'queue': 694, 'across': 695, 'talks': 696, 'attend': 697, 'grab': 698, 'job': 699, 'windows': 700, 'shot': 701, 'x': 702, 'stock': 703, 'league': 704, 'extraordinary': 705, 'speech': 706, 'pm': 707, 'picture': 708, 'drink': 709, 'charge': 710, 'song': 711, 'etc': 712, 'contextual': 713, 'discovery': 714, 'went': 715, 'ok': 716, 'move': 717, \"won't\": 718, 'released': 719, 'watching': 720, 'red': 721, 'awards': 722, '000': 723, 'killer': 724, 'point': 725, 'success': 726, 'learn': 727, 'part': 728, 'less': 729, 'works': 730, 'coffee': 731, 'card': 732, 'blogger': 733, 'end': 734, 'employees': 735, 'macbook': 736, 'picked': 737, 'enjoy': 738, 'bigger': 739, 'friend': 740, 'ipod': 741, 'plus': 742, 'v': 743, 'buying': 744, 'peeps': 745, 'development': 746, 'stay': 747, 'showcased': 748, 'html5': 749, 'sounds': 750, 'later': 751, 'him': 752, 'america': 753, 'believe': 754, 'type': 755, 'dj': 756, 'pick': 757, 'tracks': 758, 'project': 759, 'pack': 760, 'catch': 761, 'stream': 762, 'barry': 763, 'omg': 764, 'means': 765, 'deal': 766, \"let's\": 767, 'except': 768, 'together': 769, 'notes': 770, \"i'd\": 771, 'thinks': 772, 'register': 773, 'ins': 774, 'funny': 775, 'netflix': 776, 'plan': 777, 'heads': 778, 'communication': 779, \"we'll\": 780, 'useful': 781, 'online': 782, \"who's\": 783, 'badge': 784, 'startups': 785, 'super': 786, 'done': 787, 'hands': 788, 'month': 789, 'calendar': 790, 'text': 791, 'she': 792, 'ur': 793, 'contact': 794, 'geeks': 795, 'asked': 796, 'name': 797, 'droid': 798, '80s': 799, 'run': 800, 'enough': 801, 'st': 802, 'sessions': 803, 'pay': 804, 'bag': 805, 'hipsters': 806, 'miss': 807, 'kind': 808, 'privacy': 809, 'cards': 810, 'such': 811, 'p': 812, 'tyson': 813, 'enjoying': 814, 'maggie': 815, 'gotta': 816, 'touch': 817, 'wondering': 818, 'mistakes': 819, 'list': 820, 'band': 821, 'uses': 822, 'saved': 823, 'ride': 824, 'beyond': 825, 'tim': 826, '14': 827, 'e': 828, 'seo': 829, 'haha': 830, 'flash': 831, 'offers': 832, 'support': 833, 'kawasaki': 834, 'fan': 835, 'black': 836, 'recommendations': 837, 'southwest': 838, \"haven't\": 839, 'tablet': 840, 'reading': 841, 'flight': 842, 'earth': 843, 'holding': 844, 'winning': 845, 'value': 846, '50': 847, 'shows': 848, 'hit': 849, 'miles': 850, '24': 851, 'acc': 852, 'guess': 853, 'tried': 854, 'drinks': 855, 'saves': 856, 'plans': 857, 'computer': 858, 'chris': 859, '5pm': 860, 'consider': 861, 'giant': 862, 'latest': 863, \"year's\": 864, 'stupid': 865, 'jealous': 866, 'engine': 867, 'rankings': 868, 'non': 869, 'original': 870, 'interface': 871, 'source': 872, 'airport': 873, 'tattoo': 874, 'story': 875, 'ad': 876, 'ux': 877, 'improve': 878, 'customer': 879, 'rumored': 880, 'cab': 881, 'control': 882, 'tool': 883, 'plane': 884, 'dead': 885, 'putting': 886, 'co': 887, 'bringing': 888, 're': 889, 'surprise': 890, 'nfc': 891, 'hello': 892, 'past': 893, 'charging': 894, 'create': 895, 'busy': 896, 'pre': 897, 'results': 898, 'test': 899, 'hoot': 900, 'saying': 901, 'japanese': 902, 'leave': 903, 'www': 904, 'walked': 905, 'gen': 906, 'retail': 907, 'chat': 908, 'appears': 909, 'circle': 910, 'near': 911, 'send': 912, 'hackers': 913, 'stories': 914, '1986': 915, 'model': 916, 'lonely': 917, 'thinking': 918, '437': 919, 'sitting': 920, 'happens': 921, 'therapy': 922, 'shirt': 923, 'meeting': 924, 'public': 925, 'reality': 926, 'anywhere': 927, 'explorer': 928, 'groupon': 929, 'double': 930, 'ha': 931, 'air': 932, 'yelp': 933, '3d': 934, 'glad': 935, 'welcome': 936, 'chrome': 937, 'myself': 938, 'film': 939, 'hmm': 940, 'among': 941, 'spent': 942, 'agree': 943, 'samsung': 944, 'kick': 945, 'deals': 946, 'qr': 947, 'bet': 948, 'kindle': 949, 'drive': 950, 'confirmed': 951, 'biggest': 952, 'dont': 953, 'car': 954, 'door': 955, 'hi': 956, '2nd': 957, 'likely': 958, 'finding': 959, 'hanging': 960, 'secret': 961, 'sat': 962, 'panels': 963, 'mention': 964, 'podcast': 965, 'loving': 966, 'jobs': 967, \"ipad's\": 968, 'steve': 969, 'mind': 970, 'existence': 971, 'face': 972, 'starts': 973, 'spot': 974, 'device': 975, 'interested': 976, 'youre': 977, 'friendly': 978, 'change': 979, 'totally': 980, 'magazines': 981, 'pc': 982, 'pro': 983, 'feature': 984, 'til': 985, 'midnight': 986, 'blue': 987, 'augmented': 988, 'three': 989, 'saturday': 990, 'hmmm': 991, 'issue': 992, '4g': 993, 'expect': 994, 'companies': 995, 'suggestions': 996, 'josh': 997, \"bing's\": 998, 'tips': 999, 'worth': 1000, 'survive': 1001, 'hipster': 1002, 'weird': 1003, 'circus': 1004, 'album': 1005, 'abt': 1006, 'owners': 1007, 'fam': 1008, 'tools': 1009, 'games': 1010, 'doodle': 1011, 'running': 1012, 'pearl': 1013, 'ipad2s': 1014, 'trip': 1015, 'donating': 1016, 'shit': 1017, 'yep': 1018, 'came': 1019, 'pr': 1020, 'couple': 1021, 'de': 1022, 'leaving': 1023, 'shiny': 1024, 'inside': 1025, 'cloud': 1026, 'heat': 1027, 'reader': 1028, 'killing': 1029, 'small': 1030, 'testing': 1031, 'software': 1032, 'doodles': 1033, 'afford': 1034, 'yay': 1035, 'mean': 1036, '70': 1037, 'lucky': 1038, 'headed': 1039, 'disaster': 1040, 'credit': 1041, 'different': 1042, \"mae's\": 1043, 'officially': 1044, 'disc': 1045, 'mix': 1046, 'reason': 1047, 'lunch': 1048, 'walk': 1049, \"you'd\": 1050, 'native': 1051, 'streaming': 1052, 'hosted': 1053, 'browser': 1054, 'challenge': 1055, 'gives': 1056, 'wild': 1057, '100': 1058, 'ui': 1059, 'upgrade': 1060, 'focus': 1061, 'fascist': 1062, 'handle': 1063, 'brought': 1064, 'networking': 1065, 'mon': 1066, 'founder': 1067, '22': 1068, 'fight': 1069, 'changed': 1070, 'sixth': 1071, 'months': 1072, 'spending': 1073, 'stage': 1074, 'dear': 1075, 'heart': 1076, 'html': 1077, 'connected': 1078, 'cross': 1079, 'vip': 1080, 'knows': 1081, 'fades': 1082, 'image': 1083, 'blocks': 1084, 'fans': 1085, 'though': 1086, 'fail': 1087, 'mophie': 1088, 'finder': 1089, 'hobo': 1090, 'lustre': 1091, 'hiring': 1092, 'valuable': 1093, 'spend': 1094, 'themed': 1095, 'g03mzb': 1096, 'history': 1097, 'anybody': 1098, \"he's\": 1099, 'listen': 1100, 'paper': 1101, 'actsofsharing': 1102, 'cant': 1103, 'feed': 1104, 'present': 1105, 'button': 1106, 'stand': 1107, 'examples': 1108, 'missed': 1109, '64gig': 1110, 'gift': 1111, 'sunday': 1112, 'tons': 1113, 'staring': 1114, 'unofficial': 1115, 'care': 1116, 'texting': 1117, 'seriously': 1118, 'techcrunch': 1119, 'announcing': 1120, 'announce': 1121, 'publishing': 1122, 'definitely': 1123, 'floor': 1124, 'preso': 1125, 'hyatt': 1126, 'cnet': 1127, 'john': 1128, 'mine': 1129, 'extra': 1130, '7pm': 1131, 'announces': 1132, 'favorite': 1133, 'force': 1134, 'biz': 1135, 'rad': 1136, 'community': 1137, 'price': 1138, 'push': 1139, 'whole': 1140, 'met': 1141, 'limited': 1142, 'minute': 1143, 'purchase': 1144, 'announced': 1145, 'sales': 1146, 'article': 1147, 'mashable': 1148, 'personalized': 1149, 'speakeasy': 1150, 'realtime': 1151, 'c': 1152, 'services': 1153, 'ass': 1154, 'class': 1155, 'longer': 1156, 'hearing': 1157, 'hold': 1158, 'under': 1159, 'advice': 1160, 'between': 1161, 'expected': 1162, 'girl': 1163, 'custom': 1164, 'ridiculous': 1165, 'salon': 1166, 'directions': 1167, 'exclusive': 1168, 'indie': 1169, 'concert': 1170, 'grill': 1171, 'checkins': 1172, 'nexus': 1173, 'created': 1174, 'novelty': 1175, 'downloading': 1176, 'doubt': 1177, 'word': 1178, 'response': 1179, 'easy': 1180, 'yeah': 1181, 'ideas': 1182, 'creative': 1183, 'envy': 1184, 'baby': 1185, \"'80s\": 1186, 'costume': 1187, 'bbq': 1188, 'wrong': 1189, 'likes': 1190, 'damn': 1191, 'dark': 1192, '1pm': 1193, 'hotel': 1194, 'learning': 1195, \"ipad2's\": 1196, 'celebrate': 1197, 'light': 1198, 'doc': 1199, 'high': 1200, 'closes': 1201, 'concept': 1202, 'ht': 1203, \"we've\": 1204, 'locations': 1205, 'impressive': 1206, 'side': 1207, 'size': 1208, 'impact': 1209, 'whrrl': 1210, 'thoughts': 1211, 'style': 1212, 'debut': 1213, 'currently': 1214, 'lady': 1215, 'instagram': 1216, 'station': 1217, 'entire': 1218, 'cash': 1219, 'kinda': 1220, 'strong': 1221, 'pls': 1222, 'player': 1223, 'realize': 1224, 'half': 1225, 'matter': 1226, 'crowley': 1227, '3gs': 1228, 'def': 1229, 'dwnld': 1230, 'talked': 1231, 'figure': 1232, 'seem': 1233, 'moving': 1234, 'galaxy': 1235, 'barton': 1236, 'beer': 1237, 'links': 1238, 'chances': 1239, 'against': 1240, 'npr': 1241, 'songs': 1242, 'vinh': 1243, 'packing': 1244, 'passes': 1245, 'arrived': 1246, 'popular': 1247, 'six': 1248, 'single': 1249, 'recharge': 1250, 'handing': 1251, 'step': 1252, \"wasn't\": 1253, 'bizzy': 1254, 'sad': 1255, 'vp': 1256, 'consumer': 1257, 'waited': 1258, 'magic': 1259, 'discovr': 1260, 'smackdown': 1261, 'bloody': 1262, 'classiest': 1263, 'desktop': 1264, 'spots': 1265, 'sleep': 1266, 'roll': 1267, 'signing': 1268, 'survival': 1269, 'serve': 1270, 'latitude': 1271, 'prizes': 1272, 'keeps': 1273, 'ya': 1274, 'instant': 1275, \"80's\": 1276, 'yourself': 1277, 'prefer': 1278, 'devs': 1279, 'random': 1280, 'n': 1281, 'mail': 1282, 'reveal': 1283, 'water': 1284, 'gone': 1285, 'tap': 1286, '64gb': 1287, 'cover': 1288, 'becoming': 1289, 'beautiful': 1290, 'yr': 1291, 'ice': 1292, 'cream': 1293, 'speaking': 1294, 'downloads': 1295, 'dl': 1296, \"y'all\": 1297, 'delegates': 1298, 'smartphone': 1299, 'potential': 1300, 'js': 1301, 'forming': 1302, 'developing': 1303, 'videos': 1304, 'adoption': 1305, 'amazon': 1306, 'build': 1307, 'facetime': 1308, 'iron': 1309, 'webdoc': 1310, 'geo': 1311, 'ceo': 1312, 'la': 1313, 'grape': 1314, 'denies': 1315, 'marketplace': 1316, 'return': 1317, 'joins': 1318, 'worry': 1319, 'lets': 1320, 'fix': 1321, '99': 1322, 'needed': 1323, 'downloaded': 1324, 'apples': 1325, 'rocking': 1326, \"they'll\": 1327, 'insane': 1328, 'tomlinson': 1329, 'views': 1330, 'provide': 1331, 'hopefully': 1332, 'sayin': 1333, 'area': 1334, 'gadget': 1335, \"circles'\": 1336, 'theme': 1337, 'bb': 1338, 'ups': 1339, 'lose': 1340, 'ran': 1341, 'offer': 1342, '75': 1343, 'ave': 1344, 'mr': 1345, 'sound': 1346, 'save': 1347, 'youll': 1348, 'anymore': 1349, 'entered': 1350, 'remember': 1351, 'breaking': 1352, 'ladies': 1353, 'whats': 1354, 'planet': 1355, 'announcement': 1356, 'issues': 1357, 'guard': 1358, 'prize': 1359, 'york': 1360, 'confession': 1361, 'afar': 1362, 'gym': 1363, 'false': 1364, 'alarm': 1365, 'options': 1366, 'fave': 1367, 'curious': 1368, 'attendance': 1369, 'otherwise': 1370, 'avoid': 1371, 'yrs': 1372, 'challenges': 1373, \"o'reilly\": 1374, 'matt': 1375, 'drop': 1376, 'basically': 1377, 'table': 1378, 'square': 1379, 'im': 1380, 'longest': 1381, 'questions': 1382, 'youtube': 1383, 'dashboard': 1384, 'following': 1385, 'bus': 1386, 'mechanics': 1387, 'kara': 1388, 'swisher': 1389, 'final': 1390, 'self': 1391, \"couldn't\": 1392, 'wearing': 1393, 'j': 1394, 'reminder': 1395, 'happen': 1396, 'robot': 1397, 'demand': 1398, 'missing': 1399, 'discuss': 1400, \"she's\": 1401, 'dudes': 1402, 'featuring': 1403, 'crew': 1404, 'corner': 1405, 'helping': 1406, 'tests': 1407, 'cause': 1408, 'contest': 1409, 'copy': 1410, 'california': 1411, 'presented': 1412, 'war': 1413, 'geekfest': 1414, 'alone': 1415, 'email': 1416, 'keyboard': 1417, 'observer': 1418, 'simple': 1419, 'society': 1420, 'computers': 1421, 'luck': 1422, 'aron': 1423, 'pilhofer': 1424, '200': 1425, 'winner': 1426, 'clearly': 1427, 'die': 1428, 'click': 1429, 'surprised': 1430, 'ireport': 1431, 'battle': 1432, 'mp3': 1433, 'wrote': 1434, 'startup': 1435, 'cooler': 1436, \"'google\": 1437, 'fire': 1438, 'wars': 1439, 'tradeshow': 1440, 'short': 1441, 'despite': 1442, 'dancing': 1443, 'rise': 1444, 'taken': 1445, 'ie': 1446, 'swarms': 1447, 'sorry': 1448, 'discussion': 1449, 'trumps': 1450, 'possible': 1451, 'staying': 1452, 'san': 1453, 'hang': 1454, 'starbucks': 1455, 'unboxing': 1456, 'andoid': 1457, 'promo': 1458, 'quick': 1459, 'conf': 1460, 'recap': 1461, 'quite': 1462, 'stumbling': 1463, 'voice': 1464, '615ab': 1465, 'object': 1466, 'min': 1467, 'weather': 1468, 'groups': 1469, 'hire': 1470, 'jr': 1471, 'spreadsheet': 1472, 'held': 1473, 'paid': 1474, 'order': 1475, 'billion': 1476, 'fi': 1477, 'family': 1478, 'exists': 1479, 'closed': 1480, 'launchrock': 1481, 'invite': 1482, 'lynn': 1483, 'beards': 1484, 'charles': 1485, 'chen': 1486, 'charlie': 1487, 'sheen': 1488, 'goddesses': 1489, 'drivers': 1490, 'changes': 1491, 'pocket': 1492, 'hilarious': 1493, 'system': 1494, 'alive': 1495, 'g': 1496, 'hate': 1497, \"austin's\": 1498, 'rocks': 1499, 'canadian': 1500, 'reviews': 1501, 'quality': 1502, 'makeshift': 1503, 'wtf': 1504, 'park': 1505, 'promote': 1506, 'spilled': 1507, 'beans': 1508, 'whoa': 1509, 'wave': 1510, 'raises': 1511, 'perfect': 1512, 'registration': 1513, 'especially': 1514, 'trend': 1515, 'ex': 1516, 'strange': 1517, 'slap': 1518, '59a': 1519, 'personal': 1520, 'context': 1521, 'movie': 1522, 'aapl': 1523, 'epic': 1524, 'showed': 1525, \"today's\": 1526, 'signal': 1527, '19': 1528, 'rumours': 1529, 'feeling': 1530, 'exciting': 1531, 'towards': 1532, 'torrents': 1533, 'paul': 1534, 'atx': 1535, 'outlet': 1536, 'sense': 1537, 'difference': 1538, 'onto': 1539, 'spotted': 1540, 'happening': 1541, 'madness': 1542, 'borders': 1543, 'switch': 1544, 'slides': 1545, 'ii': 1546, 'keeping': 1547, 'caring': 1548, 'hollow': 1549, 'cameron': 1550, 'sinclair': 1551, 'tacos': 1552, 'fri': 1553, 'wordpress': 1554, 'pass': 1555, 'allow': 1556, 'print': 1557, 'steps': 1558, 'khoi': 1559, 'reporting': 1560, 'board': 1561, 'foot': 1562, 'purchased': 1563, 'account': 1564, 'form': 1565, 'along': 1566, 'wknd': 1567, 'school': 1568, 'tweeted': 1569, 'sketch': 1570, 'drinking': 1571, 'explanation': 1572, 'driving': 1573, 'pi': 1574, 'bunch': 1575, 'number': 1576, 'beat': 1577, 'easier': 1578, 'ratio': 1579, 'hosting': 1580, 'fill': 1581, 'mins': 1582, 'answer': 1583, 'hashtag': 1584, 'computing': 1585, 'dennis': 1586, 'kicking': 1587, 'clark': 1588, 'trustworthiness': 1589, 'proof': 1590, 'checked': 1591, 'banality': 1592, 'spin': 1593, 'customers': 1594, 'rate': 1595, 'covered': 1596, \"tomorrow's\": 1597, 'lead': 1598, '4sq': 1599, 'wp7': 1600, 'charged': 1601, 'posterous': 1602, 'pile': 1603, 'chargers': 1604, 'finished': 1605, 'backup': 1606, 'kid': 1607, 'wall': 1608, 'gadgets': 1609, 'wired': 1610, 'inventory': 1611, 'higher': 1612, '98': 1613, 'homeless': 1614, 'suck': 1615, 'concertgoers': 1616, 'drawing': 1617, 'conversation': 1618, 'screw': 1619, 'deep': 1620, 'coverage': 1621, 'endorsed': 1622, 'mapping': 1623, 'attention': 1624, 'decision': 1625, 'hoping': 1626, 'timing': 1627, 'sync': 1628, 'shout': 1629, 'somebody': 1630, 'research': 1631, 'competitors': 1632, 'award': 1633, 'shared': 1634, 'office': 1635, 'setup': 1636, 'thousands': 1637, 'liked': 1638, 'program': 1639, 'docs': 1640, 'factor': 1641, 'agencies': 1642, 'cst': 1643, 'refrigerator': 1644, 'known': 1645, 'weeks': 1646, \"'\": 1647, 'exist': 1648, 'include': 1649, 'headline': 1650, 'score': 1651, 'lightbox': 1652, 'evening': 1653, 'solving': 1654, 'forgot': 1655, 'protecting': 1656, 'fellow': 1657, 'management': 1658, 'recommendation': 1659, 'fantastic': 1660, 'mentioned': 1661, 'rather': 1662, 'rsvp': 1663, 'fake': 1664, 'gps': 1665, 'prep': 1666, 'shotgun': 1667, '35': 1668, 'second': 1669, 'women': 1670, 'solution': 1671, 'birthday': 1672, \"users'\": 1673, 'broken': 1674, 'west': 1675, 'domain': 1676, 'helps': 1677, '23': 1678, 'ahead': 1679, 'learned': 1680, 'happened': 1681, 'quickly': 1682, 'sucks': 1683, 'reward': 1684, 'successful': 1685, 'supposedly': 1686, 'qrafter': 1687, 'wi': 1688, 'evidence': 1689, 'stats': 1690, 'influence': 1691, 'showcase': 1692, 'lame': 1693, 'chromeos': 1694, 'releasing': 1695, 'blogging': 1696, 'auto': 1697, 'students': 1698, 'allowing': 1699, 'five': 1700, 'traveling': 1701, 'brings': 1702, 'browsing': 1703, '300': 1704, \"aren't\": 1705, 'competition': 1706, 'meyer': 1707, 'covering': 1708, 'noon': 1709, 'bread': 1710, 'stopped': 1711, \"mayer's\": 1712, 'calls': 1713, 'megastore': 1714, 'regular': 1715, 'entry': 1716, 'function': 1717, 'l': 1718, 'feels': 1719, 'offering': 1720, 'titles': 1721, 'cisco': 1722, 'radio': 1723, 'mostly': 1724, 'zazzle': 1725, 'automatically': 1726, 'fiona': 1727, \"woman's\": 1728, 'fuss': 1729, 'artist': 1730, 'heck': 1731, 'kids': 1732, 'bars': 1733, 'pull': 1734, 'adds': 1735, 'compete': 1736, 'wiley': 1737, 'chief': 1738, 'autocorrect': 1739, 'cannot': 1740, 'goggles': 1741, 'touching': 1742, 'presenting': 1743, 'knitted': 1744, 'staircase': 1745, 'tomo': 1746, 'once': 1747, 'rank': 1748, 'surrounded': 1749, 'boxes': 1750, 'spearheads': 1751, 'books': 1752, 'quotables': 1753, \"where's\": 1754, 'according': 1755, 'become': 1756, 'discover': 1757, 'title': 1758, 'tag': 1759, 'awesomely': 1760, 'rest': 1761, 'magazine': 1762, 'bulletproof': 1763, 'safari': 1764, 'literally': 1765, 'designers': 1766, 'knew': 1767, 'girls': 1768, '16gb': 1769, 'fly': 1770, 'viewed': 1771, 'sites': 1772, 'preferences': 1773, 'elegant': 1774, 'continued': 1775, 'desk': 1776, 'presence': 1777, 'complete': 1778, 'dominance': 1779, 'note': 1780, 'intro': 1781, 'playlist': 1782, 'interaction': 1783, 'percent': 1784, 'pot': 1785, 'fell': 1786, 'fingers': 1787, 'fashion': 1788, 'crowded': 1789, 'example': 1790, '65': 1791, 'topic': 1792, 'retweet': 1793, 'twit': 1794, 'robots': 1795, 'hackathon': 1796, 'elusive': 1797, 'etsy': 1798, 'cough': 1799, 'begin': 1800, 'ways': 1801, 'follower': 1802, 'effort': 1803, 'systems': 1804, 'wife': 1805, 'dropped': 1806, 'hashable': 1807, 'nuts': 1808, \"they've\": 1809, 'melissa': 1810, 'patterns': 1811, 'passed': 1812, 'pagemaker': 1813, 'cell': 1814, 'wanted': 1815, 'flying': 1816, 'problem': 1817, 'democracy': 1818, 'lined': 1819, 'guardian': 1820, 'extended': 1821, 'speakers': 1822, 'decided': 1823, 'urinal': 1824, 'edition': 1825, 'zaarly': 1826, 'holy': 1827, 'impressed': 1828, 'driven': 1829, 'pepsi': 1830, 'revenue': 1831, 'virtual': 1832, 'stole': 1833, 'gap': 1834, 'unique': 1835, 'creating': 1836, 'within': 1837, 'level': 1838, 'woman': 1839, 'clear': 1840, 'spy': 1841, 'add': 1842, 'understand': 1843, 'borrow': 1844, 'opera': 1845, 'hint': 1846, 'comment': 1847, \"'circles'\": 1848, 'blogs': 1849, 'patio': 1850, 'recording': 1851, 'excellent': 1852, 'category': 1853, 'shirts': 1854, 'alert': 1855, 'discussing': 1856, 'gun': 1857, 'messaging': 1858, 'body': 1859, 'gearing': 1860, 'rules': 1861, 'autocorrects': 1862, 'stickers': 1863, 'clever': 1864, 'scarborough': 1865, 'bldg': 1866, 'cursor': 1867, 'arduino': 1868, 'accessibility': 1869, 'shades': 1870, 'author': 1871, 'etch': 1872, 'piece': 1873, 'gaga': 1874, 'audio': 1875, 'technical': 1876, 'tune': 1877, \"ain't\": 1878, 'innovation': 1879, 'private': 1880, 'either': 1881, 'showcasing': 1882, 'dang': 1883, 'planning': 1884, 'composed': 1885, 'plaid': 1886, 'groupme': 1887, 'gear': 1888, 'beluga': 1889, 'international': 1890, 'rww': 1891, 'f6bcet': 1892, 'told': 1893, 'woohoo': 1894, 'multi': 1895, 'charity': 1896, 'moment': 1897, 'young': 1898, 'fonts': 1899, 'cheese': 1900, 'sacca': 1901, 'ensues': 1902, '9abc': 1903, 'path': 1904, 'logos': 1905, '101': 1906, 'hair': 1907, 'insights': 1908, 'fear': 1909, 'fav': 1910, 'bout': 1911, 'wed': 1912, 'engagement': 1913, 'lovely': 1914, 'integration': 1915, 'pauly': 1916, 'celebs': 1917, 'buyers': 1918, 'yahoo': 1919, 'urthots': 1920, 'till': 1921, '18': 1922, 'mozilla': 1923, 'host': 1924, 'ie9': 1925, 'semantic': 1926, 'meetings': 1927, 'logo': 1928, 'corporate': 1929, 'govt': 1930, 'worst': 1931, 'arriving': 1932, 'large': 1933, 'engaging': 1934, 'sketchup': 1935, 'retrollect': 1936, 'death': 1937, 'masses': 1938, 'followers': 1939, 'xoom': 1940, 'utility': 1941, 'process': 1942, 'scan': 1943, 'vids': 1944, 'okay': 1945, 'popping': 1946, 'display': 1947, 'country': 1948, 'surely': 1949, 'il': 1950, 'accidentally': 1951, 'huh': 1952, 'participating': 1953, 'comp': 1954, 'due': 1955, 'accessible': 1956, 'glow': 1957, 'teo': 1958, 'useless': 1959, 'platforms': 1960, 'close': 1961, 'calvin': 1962, \"iphone's\": 1963, 'letting': 1964, 'travels': 1965, 'continues': 1966, 'ebay': 1967, 'current': 1968, '512': 1969, \"you've\": 1970, 'jonathan': 1971, 'river': 1972, 'lone': 1973, 'awaits': 1974, 'engineer': 1975, 'activity': 1976, 'usa': 1977, 'buttons': 1978, 'panelist': 1979, 'tues': 1980, 'joke': 1981, 'pen': 1982, 'ink': 1983, 'mags': 1984, 'sees': 1985, 'tonite': 1986, 'fyi': 1987, 'summer': 1988, 'aim': 1989, 'porn': 1990, 'perfectly': 1991, 'valley': 1992, 'players': 1993, 'chips': 1994, 'client': 1995, 'result': 1996, 'looms': 1997, \"'get'\": 1998, 'digging': 1999, 'businesses': 2000, 'hotspot': 2001, 'interact': 2002, 'christmas': 2003, 'thrilled': 2004, 'snap': 2005, 'payments': 2006, 'tuesday': 2007, 'grateful': 2008, 'ventured': 2009, 'panhandling': 2010, 'grille': 2011, 'worked': 2012, 'bored': 2013, 'cutts': 2014, 'woah': 2015, 'branded': 2016, 'aquent': 2017, '1413': 2018, 'changing': 2019, 'posted': 2020, 'convince': 2021, 'fact': 2022, 'dt': 2023, 'celebrating': 2024, 'charm': 2025, 'spazmatics': 2026, 'afternoon': 2027, 'silly': 2028, 'ordered': 2029, 'routes': 2030, 'mindjet': 2031, 'scrape': 2032, 'colleague': 2033, 'indoor': 2034, 'clean': 2035, 'sf': 2036, 'respect': 2037, 'passing': 2038, 'hack': 2039, 'ux5': 2040, 'sony': 2041, 'mashup': 2042, 'typing': 2043, 'boy': 2044, 'answering': 2045, 'ecosystem': 2046, 'fully': 2047, 'courtesy': 2048, '400': 2049, 'experimenting': 2050, 'ads': 2051, 'flip': 2052, 'h2o': 2053, '8th': 2054, 'scoping': 2055, 'recommend': 2056, 'banks': 2057, 'dutch': 2058, 'staff': 2059, 'ugh': 2060, 'anyway': 2061, 'nonprofits': 2062, 'promotion': 2063, 'jeans': 2064, 'anatomy': 2065, 'pure': 2066, \"gold's\": 2067, 'direct': 2068, 'fires': 2069, 'designed': 2070, 'actual': 2071, 'lego': 2072, 'redeem': 2073, 'checkout': 2074, 'partnership': 2075, 'overload': 2076, 'fresh': 2077, 'shipment': 2078, 'listened': 2079, \"we'd\": 2080, 'boom': 2081, 'dm': 2082, 'appreciate': 2083, 'likeability': 2084, 'zappos': 2085, 'excuse': 2086, \"world's\": 2087, 'reports': 2088, 'api': 2089, 'hmmmm': 2090, 'canada': 2091, 'teacher': 2092, 'academy': 2093, 'hs': 2094, 'ironic': 2095, 'tee': 2096, \"'fast\": 2097, \"future'\": 2098, 'reactions': 2099, 'range': 2100, 'boi': 2101, 'bed': 2102, 'box': 2103, 'eat': 2104, 'admits': 2105, 'gallery': 2106, 'fascinating': 2107, 'showdown': 2108, 'teams': 2109, 'drunk': 2110, 'thx': 2111, 'cult': 2112, 'yup': 2113, 'recharging': 2114, 'yellow': 2115, 'ers': 2116, 'grooving': 2117, 'machines': 2118, 'challenged': 2119, 'four': 2120, 'walks': 2121, 'chevy': 2122, 'trailer': 2123, \"2'\": 2124, 'stars': 2125, 'insight': 2126, 'sticker': 2127, 'accuracy': 2128, 'venue': 2129, 'hrs': 2130, 'demos': 2131, 'spec': 2132, 'functionality': 2133, 'ones': 2134, 'owns': 2135, 'generated': 2136, 'tough': 2137, 'racing': 2138, 'webmaster': 2139, 'partying': 2140, 'microsim': 2141, 'pac': 2142, 'included': 2143, 'lp': 2144, 'tshirt': 2145, 'invades': 2146, 'former': 2147, 'talent': 2148, 'convinced': 2149, 'scavenger': 2150, 'hunt': 2151, 'doo': 2152, 'dah': 2153, 'ton': 2154, 'larger': 2155, 'hollergram': 2156, '48': 2157, 'pages': 2158, 'shortly': 2159, 'swag': 2160, 'claim': 2161, 'marketers': 2162, 'points': 2163, 'images': 2164, 'campbell': 2165, 'rage': 2166, 'broke': 2167, 'demonstrates': 2168, 'pause': 2169, 'records': 2170, 'hitlantis': 2171, 'losers': 2172, 'purpose': 2173, 'wilderness': 2174, 'newspaper': 2175, 'middle': 2176, 'installing': 2177, 'woot': 2178, 'org': 2179, 'pubsubhubbub': 2180, 'developed': 2181, 'techies': 2182, 'goog': 2183, 'loyalty': 2184, 'fanboys': 2185, 'tho': 2186, 'marketshare': 2187, 'driver': 2188, 'streetview': 2189, 'b4': 2190, 'advance': 2191, 'taxi': 2192, 'stranger': 2193, 'write': 2194, 'peeing': 2195, 'presenters': 2196, 'photography': 2197, 'crashes': 2198, 'acoustic': 2199, 'solo': 2200, 'thursday': 2201, 'gr8': 2202, 'flaming': 2203, 'skulls': 2204, 'speaks': 2205, 'k': 2206, 'given': 2207, 'meant': 2208, 'hide': 2209, 'guest': 2210, 'aware': 2211, 'loaded': 2212, 'chatting': 2213, 'compatible': 2214, 'capture': 2215, 'intel': 2216, 'immersive': 2217, 'esp': 2218, 'propping': 2219, 'sent': 2220, 'brightness': 2221, 'server': 2222, 'bottle': 2223, 'key': 2224, 'asks': 2225, 'creativity': 2226, 'medical': 2227, 'que': 2228, 'health': 2229, 'majority': 2230, 'michael': 2231, 'cera': 2232, 'completely': 2233, 'printed': 2234, 'thats': 2235, 'earlier': 2236, 'lab': 2237, 'press': 2238, 'above': 2239, 'incl': 2240, 'tries': 2241, 'enterprise': 2242, 'tables': 2243, 'lam': 2244, 'load': 2245, 'nyt': 2246, 'row': 2247, 'photobooth': 2248, 'somehow': 2249, 'tsunami': 2250, 'sunny': 2251, 'suppose': 2252, 'mint': 2253, 'visualization': 2254, 'minds': 2255, 'foodspotting': 2256, 'appearance': 2257, 'googletv': 2258, 'essential': 2259, 'loved': 2260, 'swarm': 2261, 'wrapping': 2262, 'tuned': 2263, 'guards': 2264, 'compared': 2265, 'stuck': 2266, 'netbook': 2267, 'bc': 2268, 'dongle': 2269, 'reel': 2270, 'bible': 2271, 'assume': 2272, 'born': 2273, 'solutions': 2274, 'deck': 2275, 'fo': 2276, 'multiple': 2277, 'btw': 2278, 'scarbrough': 2279, 'scene': 2280, 'xperia': 2281, 'kill': 2282, 'mode': 2283, 'voluntarily': 2284, 'badges': 2285, 'dropping': 2286, 'badass': 2287, 'bracket': 2288, 'cut': 2289, 'schwag': 2290, 'amount': 2291, 'goers': 2292, 'roaming': 2293, 'dollars': 2294, 'rating': 2295, 'advertising': 2296, 'itself': 2297, 'performance': 2298, 'footage': 2299, 'schedules': 2300, 'director': 2301, 'eg': 2302, 'presentations': 2303, 'jokes': 2304, 'enchantment': 2305, 'fogo': 2306, 'cho': 2307, 'nearby': 2308, '60': 2309, 'creator': 2310, 'filling': 2311, 'several': 2312, 'recommends': 2313, 'trending': 2314, 'experiment': 2315, 'hp': 2316, 'yobongo': 2317, \"wouldn't\": 2318, 'ground': 2319, 'iphones': 2320, 'turned': 2321, 'talented': 2322, 'child': 2323, '100s': 2324, 'emails': 2325, 'replies': 2326, 'shuttle': 2327, 'airports': 2328, 'imacs': 2329, 'spark': 2330, 'total': 2331, 'overheard': 2332, 'bots': 2333, 'heats': 2334, 'realized': 2335, 'gsdm': 2336, 'cameras': 2337, 'fandango': 2338, 'f': 2339, \"flipboard's\": 2340, 'grabs': 2341, 'highlight': 2342, 'terrible': 2343, 'nerd': 2344, 'played': 2345, 'fado': 2346, 'mt': 2347, 'intelligent': 2348, 'providing': 2349, 'traded': 2350, 'boyfriend': 2351, 'aw': 2352, 'simplicity': 2353, 'ps': 2354, 'leaves': 2355, 'eric': 2356, 'savvy': 2357, 'fair': 2358, 'lining': 2359, 'cinema': 2360, 'venture': 2361, 'di': 2362, 'studying': 2363, 'cup': 2364, 'carry': 2365, 'effing': 2366, 'clip': 2367, \"akqa's\": 2368, 'geolocation': 2369, 'background': 2370, 'loud': 2371, 'correct': 2372, 'meets': 2373, '4pm': 2374, 'victims': 2375, 'cable': 2376, 'joy': 2377, 'anti': 2378, 'theft': 2379, 'flood': 2380, 'beauty': 2381, 'msft': 2382, 'theirs': 2383, 'hungry': 2384, 'mekong': 2385, 'suns': 2386, 'highlights': 2387, '16': 2388, 'lmk': 2389, '15k': 2390, 'ap': 2391, '360': 2392, 'direction': 2393, 'giveaways': 2394, 'gatekeeper': 2395, 'socially': 2396, 'latina': 2397, 'impression': 2398, 'kiosk': 2399, 'kidding': 2400, 'blind': 2401, 'portable': 2402, 'travel': 2403, 'east': 2404, 'mtg': 2405, 'willing': 2406, 'woods': 2407, 'alot': 2408, 'brethren': 2409, 'archive': 2410, 'rim': 2411, 'insanely': 2412, 'blame': 2413, 'fucking': 2414, 'h4ckers': 2415, 'draw': 2416, 'boots': 2417, \"insider's\": 2418, 'hipstamatic': 2419, 'em': 2420, 'webinar': 2421, '30th': 2422, 'stopping': 2423, 'smaller': 2424, 'genentech': 2425, 'jesus': 2426, 'plug': 2427, 'pros': 2428, 'sighting': 2429, 'delightful': 2430, 'invites': 2431, 'hundreds': 2432, 'donates': 2433, 'trucks': 2434, 'sort': 2435, 'cry': 2436, 'servers': 2437, 'parakeets': 2438, 'employed': 2439, 'untrue': 2440, 'arthaus': 2441, 'police': 2442, 'mini': 2443, 'topicality': 2444, 'keys': 2445, 'approved': 2446, 'popped': 2447, 'mystery': 2448, 'effective': 2449, 'exchange': 2450, 'separate': 2451, 'feelings': 2452, 'partner': 2453, 'chasing': 2454, 'tent': 2455, 'filming': 2456, 'cam': 2457, 'normal': 2458, 'third': 2459, 'grand': 2460, 'essentials': 2461, 'linking': 2462, 'closely': 2463, 'conversations': 2464, 'awareness': 2465, 'dell': 2466, 'pressure': 2467, 'alternate': 2468, 'battelle': 2469, 'performers': 2470, 'jquery': 2471, 'library': 2472, 'adventure': 2473, 'install': 2474, 'venues': 2475, 'curated': 2476, 'worries': 2477, 'upgrading': 2478, 'bump': 2479, 'ability': 2480, 'websites': 2481, 'graph': 2482, 'green': 2483, 'upload': 2484, 'lives': 2485, 'smartphones': 2486, 'smarter': 2487, 'blows': 2488, 'ustream': 2489, 'conde': 2490, \"nast's\": 2491, 'rush': 2492, 'fundamental': 2493, 'misunderstanding': 2494, 'tshirts': 2495, 'sun': 2496, 'skype': 2497, 'mass': 2498, 'steal': 2499, 'bear': 2500, 'ah': 2501, 'fit': 2502, 'suggest': 2503, 'essentially': 2504, 'iphone4': 2505, 'pak': 2506, 'nike': 2507, 'sprint': 2508, 'serving': 2509, 'lineup': 2510, 'mashbash': 2511, 'dammit': 2512, 'layer': 2513, '106': 2514, 'sam': 2515, 'unlocked': 2516, 'submitting': 2517, 'toast': 2518, \"sxsw's\": 2519, 'watched': 2520, 'buddy': 2521, 'hopping': 2522, 'linux': 2523, 'resist': 2524, 'sneakers': 2525, 'fwd': 2526, 'coolest': 2527, 'impulse': 2528, 'i41h53': 2529, 'cheers': 2530, 'underneath': 2531, 'beard': 2532, 'nokia': 2533, 'applications': 2534, 'piss': 2535, 'promoting': 2536, 'moma': 2537, 'serious': 2538, 'premium': 2539, 'giggle': 2540, 'laugh': 2541, 'handy': 2542, 'hooray': 2543, '97': 2544, 'virgin': 2545, 'alarms': 2546, 'richard': 2547, '32gb': 2548, 'spoke': 2549, 'ar': 2550, 'classics': 2551, 'tempting': 2552, \"'power\": 2553, 'rescue': 2554, 'owl': 2555, 'unloading': 2556, 'leisurely': 2557, 'doctor': 2558, 'bank': 2559, 'wishing': 2560, 'alerts': 2561, 'restaurants': 2562, 'um': 2563, 'helpful': 2564, '5th': 2565, 'daniel': 2566, 'poor': 2567, 'visits': 2568, 'networks': 2569, 'surpassed': 2570, 'turning': 2571, 'redesigned': 2572, 'exactly': 2573, 'informal': 2574, 'unscientific': 2575, 'observation': 2576, 'edit': 2577, 'leo': 2578, 'gb': 2579, 'jones': 2580, 'pictures': 2581, 'woke': 2582, 'tea': 2583, 'vodka': 2584, 'restaurant': 2585, 'cute': 2586, 'bathroom': 2587, 'bound': 2588, 'eye': 2589, 'joe': 2590, 'theres': 2591, 'ouch': 2592, 'conan': 2593, 'fedora': 2594, 'predict': 2595, 'ben': 2596, 'pecan': 2597, 'ultimately': 2598, 'uber': 2599, 'ajax': 2600, 'eats': 2601, 'locks': 2602, 'heywire': 2603, 'informed': 2604, 'unveiled': 2605, 'standard': 2606, 'andro': 2607, 'thin': 2608, 'definition': 2609, 'fueling': 2610, 'fare': 2611, 'referrals': 2612, 'torrent': 2613, 'enjoyed': 2614, 'guidelines': 2615, 'fest': 2616, 'recreated': 2617, \"'humorous\": 2618, \"bees'\": 2619, 'releases': 2620, 'dope': 2621, 'subscriptions': 2622, 'broadcast': 2623, 'peak': 2624, 'tastes': 2625, 'cuz': 2626, 'sigh': 2627, 'tuxedo': 2628, 'kek': 2629, 'strangers': 2630, 'deadline': 2631, 'mistake': 2632, 'tab': 2633, 'study': 2634, 'crap': 2635, 'jc': 2636, 'rerouted': 2637, \"'i'm\": 2638, 'java': 2639, 'professionals': 2640, 'ive': 2641, 'neck': 2642, 'weight': 2643, 'heavier': 2644, 'bumped': 2645, 'temptation': 2646, 'hunts': 2647, 'jcpenney': 2648, 'macys': 2649, 'innovative': 2650, 'tiff': 2651, 'mbp': 2652, 'politics': 2653, 'atari': 2654, 'tumblr': 2655, 'moonbot': 2656, 'studios': 2657, 'louisiana': 2658, 'kidnap': 2659, 'studio': 2660, 'emergency': 2661, 'wandering': 2662, 'frm': 2663, 'forgotten': 2664, 'grown': 2665, 'demonstrate': 2666, 'mar': 2667, 'debuting': 2668, 'bajillions': 2669, 'hired': 2670, 'poked': 2671, 'quit': 2672, 'linkedin': 2673, 'rain': 2674, 'operators': 2675, \"'your\": 2676, 'quicker': 2677, 'avenue': 2678, 'offsite': 2679, 'basis': 2680, 'interviewed': 2681, 'prepared': 2682, 'begging': 2683, 'lift': 2684, 'eww': 2685, 'shoes': 2686, 'learnt': 2687, 'star': 2688, 'theatre': 2689, 'steampunk': 2690, 'electronics': 2691, 'yo': 2692, 'denying': 2693, 'liberty': 2694, 'connects': 2695, 'irl': 2696, 'mission': 2697, 'unveiling': 2698, '41': 2699, 'colors': 2700, 'scale': 2701, 'accounts': 2702, 'jam': 2703, 'simply': 2704, 'movement': 2705, '8am': 2706, 'scored': 2707, 'dangerous': 2708, 'dual': 2709, 'fuck': 2710, 'googled': 2711, 'ended': 2712, 'collection': 2713, 'williams': 2714, 'default': 2715, 'fine': 2716, \"amy's\": 2717, 'papa': 2718, 'sangre': 2719, 'highly': 2720, 'mother': 2721, 'british': 2722, 'xbox': 2723, 'detail': 2724, 'audi': 2725, 'cars': 2726, 'nyc': 2727, 'barely': 2728, 'protect': 2729, 'css': 2730, 'snack': 2731, 'models': 2732, '270': 2733, 'laptops': 2734, 'vast': 2735, 'ft': 2736, 'heavenly': 2737, 'crisis': 2738, 'peek': 2739, 'slated': 2740, 'pulling': 2741, 'closures': 2742, 'soft': 2743, 'failed': 2744, 'hordes': 2745, 'purchasers': 2746, 'props': 2747, 'museums': 2748, 'starry': 2749, 'meat': 2750, \"c'mon\": 2751, 'whiteboarding': 2752, 'v5': 2753, 'dogs': 2754, 'farmers': 2755, 'catching': 2756, 'mypov': 2757, 'investors': 2758, 'naomi': 2759, 'boys': 2760, 'horror': 2761, 'truck': 2762, 'seat': 2763, 'advantage': 2764, 'tweeps': 2765, 'implications': 2766, 'demoing': 2767, 'recipes': 2768, 'awkward': 2769, 'global': 2770, 'extend': 2771, 'kicked': 2772, 'appolicious': 2773, 'navigating': 2774, 'hacking': 2775, 'teases': 2776, 'craving': 2777, 'wiebe': 2778, 'conceptual': 2779, 'graphing': 2780, 'bot': 2781, 'jump': 2782, 'newspapers': 2783, 'readers': 2784, 'survey': 2785, 'gratification': 2786, 'absolutely': 2787, 'disney': 2788, 'pickup': 2789, 'downstairs': 2790, 'american': 2791, 'dream': 2792, \"that'll\": 2793, 'breath': 2794, 'quantter': 2795, 'pies': 2796, 'lies': 2797, 'magnet': 2798, 'max': 2799, '150m': 2800, '32': 2801, 'fuel': 2802, 'assisted': 2803, 'crashing': 2804, 'scared': 2805, 'exp': 2806, 'versions': 2807, 'buildings': 2808, 'fruit': 2809, 'mall': 2810, '10x': 2811, 'diff': 2812, 'whatever': 2813, 'clipcon': 2814, 'comfort': 2815, 'googles': 2816, \"shouldn't\": 2817, 'mic': 2818, 'human': 2819, 'previews': 2820, 'season': 2821, 'clothes': 2822, 'tops': 2823, 'producers': 2824, 'biomimicry': 2825, 'english': 2826, 'wraps': 2827, 'hashtags': 2828, 'rocked': 2829, 'ping': 2830, 'obsolete': 2831, 'metrics': 2832, 'claimed': 2833, 'logged': 2834, 'sq': 2835, 'txt': 2836, 'redcross': 2837, '90999': 2838, 'simultaneously': 2839, 'awesomeness': 2840, 'profits': 2841, 'rule': 2842, '64': 2843, 'protip': 2844, 'agreed': 2845, '12b': 2846, 'clarity': 2847, 'density': 2848, 'quantity': 2849, 'evangelist': 2850, 'common': 2851, 'somewhere': 2852, 'hell': 2853, 'wednesday': 2854, '7th': 2855, 'lil': 2856, 'detailed': 2857, 'aka': 2858, 'brother': 2859, 'relevant': 2860, \"'pop\": 2861, \"up'\": 2862, 'viewing': 2863, 'w00t': 2864, 'greater': 2865, 'field': 2866, 'europe': 2867, 'charges': 2868, '2010': 2869, 'delicious': 2870, 'geeking': 2871, '96': 2872, 'surprising': 2873, 'paradigms': 2874, 'drives': 2875, 'bearded': 2876, 'sadly': 2877, 'throwing': 2878, 'scvngr': 2879, 'wine': 2880, \"how's\": 2881, 'packs': 2882, 'efficient': 2883, 'acquired': 2884, 'husband': 2885, 'select': 2886, 'streams': 2887, 'timely': 2888, 'intimate': 2889, \"planet's\": 2890, 'javascript': 2891, 'constant': 2892, 'bike': 2893, 'task': 2894, 'extension': 2895, 'outs': 2896, 'convenient': 2897, 'writing': 2898, 'faster': 2899, 'actions': 2900, 'museum': 2901, '3rd': 2902, 'base': 2903, 'planned': 2904, 'status': 2905, 'unveil': 2906, 'posts': 2907, 'skinny': 2908, 'educational': 2909, 'theory': 2910, 'growing': 2911, 'takeaway': 2912, '25': 2913, 'pitch': 2914, 'bird': 2915, \"it'll\": 2916, 'signs': 2917, 'dinosaur': 2918, 'powered': 2919, 'ipad1': 2920, 'remove': 2921, 'chatter': 2922, 'ie6': 2923, 'en': 2924, 'th': 2925, 'wear': 2926, 'portion': 2927, 'reps': 2928, 'parking': 2929, 'mess': 2930, 'domo': 2931, 'ser': 2932, 'flights': 2933, 'tiny': 2934, 'messina': 2935, 'lying': 2936, 'opposite': 2937, 'storm': 2938, 'splash': 2939, 'tour': 2940, 'nicely': 2941, 'au': 2942, 'fatigue': 2943, 'amazingly': 2944, 'wrapped': 2945, 'tribes': 2946, 'americans': 2947, 'thurs': 2948, 'complex': 2949, 'discovered': 2950, 'application': 2951, 'spazzmatics': 2952, 'dumb': 2953, 'dan': 2954, 'produced': 2955, 'scenes': 2956, 'age': 2957, 'purchases': 2958, 'employers': 2959, 'slow': 2960, 'request': 2961, 'monday': 2962, 'filter': 2963, 'signed': 2964, 'zuckerberg': 2965, 'opportunity': 2966, 'grilled': 2967, 'toy': 2968, 'webkit': 2969, 'poole': 2970, 'terms': 2971, 'positive': 2972, 'environment': 2973, 'tracker': 2974, 'massive': 2975, 'usb': 2976, 'ea': 2977, 'zynga': 2978, 'intuit': 2979, 'goodness': 2980, 'emotional': 2981, 'crowds': 2982, 'straight': 2983, 'filmaster': 2984, 'tired': 2985, 'wooooo': 2986, 'beginning': 2987, 'umm': 2988, 'handsome': 2989, 'pops': 2990, 'solve': 2991, 'parenting': 2992, 'teaching': 2993, 'attended': 2994, 'horrible': 2995, 'thumbs': 2996, 'machine': 2997, 'words': 2998, 'goods': 2999, 'irrelevant': 3000, 'optimistic': 3001, 'drafthouse': 3002, 'lenewz': 3003, 'quiet': 3004, 'burn': 3005, '1415': 3006, 'exploiting': 3007, \"buy's\": 3008, 'policy': 3009, 'fcc': 3010, 'delayed': 3011, 'heh': 3012, 'integrated': 3013, 'puts': 3014, 'prob': 3015, 'bpm': 3016, 'sheraton': 3017, 'vid': 3018, '4th': 3019, 'sauce': 3020, 'radisson': 3021, 'recipe': 3022, 'bounced': 3023, 'admired': 3024, 'classy': 3025, 'smentisce': 3026, 'novit': 3027, 'arrivo': 3028, 'monthly': 3029, 'nu': 3030, 'earned': 3031, 'cost': 3032, '27': 3033, 'lcd': 3034, 'closing': 3035, 'finishing': 3036, 'united': 3037, 'states': 3038, '150mm': 3039, 'jon': 3040, 'edu': 3041, 'mixing': 3042, 'ixd': 3043, 'annuncia': 3044, 'versione': 3045, 'taught': 3046, 'oooorkut': 3047, \"stuff'\": 3048, 'cops': 3049, 'barring': 3050, 'huzzah': 3051, 'summary': 3052, 'havent': 3053, 'relic': 3054, 'monitoring': 3055, 'radian6': 3056, 'kyping': 3057, 'patch': 3058, 'taste': 3059, 'craigslist': 3060, 'alumni': 3061, 'wew': 3062, 'donate': 3063, 'synced': 3064, 'expecting': 3065, 'corrected': 3066, 'merrier': 3067, 'nerdier': 3068, 'singapore': 3069, \"roar's\": 3070, 'delete': 3071, 'boost': 3072, 'malady': 3073, 'elbow': 3074, 'lug': 3075, 'bloggers': 3076, 'pdf': 3077, 'dance': 3078, 'ihop': 3079, 'fond': 3080, \"anna's\": 3081, 'picks': 3082, 'communal': 3083, 'fundraising': 3084, '1m': 3085, 'ea1zgd': 3086, 'act': 3087, 'viporbit': 3088, 'dock': 3089, 'motorola': 3090, 'atrix': 3091, 'sliced': 3092, 'revolutionary': 3093, 'lived': 3094, 'mist': 3095, 'participants': 3096, '2day': 3097, 'creators': 3098, 'theatlantic': 3099, '72296': 3100, 'photoes': 3101, 'mixed': 3102, 'pacific': 3103, 'recaps': 3104, 'fixing': 3105, 'drowning': 3106, 'profile': 3107, 'digg': 3108, 'shopping': 3109, 'nav': 3110, 'ning': 3111, 'roadie': 3112, 'vegas': 3113, 'douche': 3114, 'apply': 3115, 'tsk': 3116, 'worse': 3117, 'macbooks': 3118, 'evil': 3119, 'giddy': 3120, 'psfk': 3121, 'applause': 3122, 'attempt': 3123, 'crashy': 3124, 'plugged': 3125, 'flat': 3126, 'bless': 3127, 'monitor': 3128, 'freaking': 3129, 'adele': 3130, 'solace': 3131, 'egyptian': 3132, 'introduced': 3133, 'mingle': 3134, 'whether': 3135, 'legal': 3136, 'related': 3137, 'rm': 3138, 'sick': 3139, '95': 3140, 'reputation': 3141, 'steals': 3142, 'stereo': 3143, 'grow': 3144, 'relationship': 3145, 'dodgeball': 3146, 'noticed': 3147, 'dst': 3148, 'powerhouse': 3149, 'steady': 3150, 'amigos': 3151, 'adams': 3152, 'presenter': 3153, 'franchised': 3154, 'shift': 3155, 'greet': 3156, 'coworkers': 3157, 'visigoths': 3158, 'podcasts': 3159, 'bottom': 3160, 'rare': 3161, 'formula': 3162, 'goal': 3163, 'manufacturing': 3164, 'serendipity': 3165, 'originally': 3166, 'experimentation': 3167, 'barcode': 3168, 'collectively': 3169, 'condense': 3170, 'nine': 3171, 'canvas': 3172, 'mullenweg': 3173, 'government': 3174, 'workshop': 3175, 'centers': 3176, 'hottest': 3177, 'quotes': 3178, 'entertaining': 3179, 'kenny': 3180, 'enjoys': 3181, 'spanking': 3182, 'road': 3183, 'con': 3184, 'trajan': 3185, 'destroyed': 3186, 'protocol': 3187, 'creatures': 3188, 'shipments': 3189, 'bay': 3190, 'boundaries': 3191, 'offline': 3192, 'swapping': 3193, 'newest': 3194, 'dig': 3195, 'neither': 3196, 'nor': 3197, 'buffalo': 3198, 'skyfire': 3199, 'headlong': 3200, 'readwriteweb': 3201, 'influx': 3202, 'wasnt': 3203, 'shinmy': 3204, '40min': 3205, 'nfl': 3206, 'period': 3207, 'mexican': 3208, 'mavis': 3209, 'stood': 3210, 'improvements': 3211, 'shuffling': 3212, 'slim': 3213, 'tinkering': 3214, 'nineties': 3215, 'hee': 3216, 'feeding': 3217, 'rival': 3218, 'penetrates': 3219, 'bubble': 3220, 'tvs': 3221, 'aol': 3222, 'hardware': 3223, 'buds': 3224, 'relevance': 3225, 'couch': 3226, 'statement': 3227, 'seth': 3228, 'ventures': 3229, 'tightasstraveler': 3230, 'achievement': 3231, 'transit': 3232, 'instructions': 3233, \"o'\": 3234, 'net': 3235, 'preparation': 3236, 'pumped': 3237, '5000': 3238, 'sqft': 3239, 'heavy': 3240, 'bandwagon': 3241, 'bookselling': 3242, 'underway': 3243, 'sky': 3244, 'downside': 3245, 'mocked': 3246, 'mp': 3247, 'priority': 3248, 'crop': 3249, 'messages': 3250, 'unadulterated': 3251, 'browse': 3252, 'nutshell': 3253, 'rough': 3254, 'calculation': 3255, 'prompt': 3256, 'childhood': 3257, 'illustrated': 3258, \"iphone'\": 3259, 'zinio': 3260, '00am': 3261, 'tidbit': 3262, 'reid': 3263, \"'very'\": 3264, 'uh': 3265, 'wake': 3266, 'ourselves': 3267, 'pissing': 3268, 'kiiiiiilling': 3269, 'headsets': 3270, 'acquisition': 3271, 'impromptu': 3272, 'folk': 3273, 'ending': 3274, 'benefit': 3275, 'target': 3276, 'conv': 3277, 'cluster': 3278, '80': 3279, 'facts': 3280, 'admit': 3281, 'questioner': 3282, 'caused': 3283, 'cue': 3284, 'ts': 3285, 'enchanting': 3286, 'generate': 3287, 'salgado': 3288, 'expensive': 3289, 'day2': 3290, 'impulsive': 3291, '30am': 3292, 'competing': 3293, 'socialflow': 3294, 'resonant': 3295, 'makery': 3296, 'glass': 3297, 'climbing': 3298, 'charts': 3299, 'everyday': 3300, 'item': 3301, 'stomach': 3302, 'cedar': 3303, 'courtyard': 3304, 'delivered': 3305, 'slower': 3306, 'depressed': 3307, '250k': 3308, 'reserve': 3309, 'ala': 3310, 'recos': 3311, 'johnston': 3312, 'nuanced': 3313, 'imminent': 3314, 'panned': 3315, 'trumping': 3316, 'rightfully': 3317, 'rana': 3318, 'interviewing': 3319, 'coincides': 3320, 'weeping': 3321, 'brick': 3322, '58': 3323, '967': 3324, 'ranked': 3325, '2nite': 3326, 'extolling': 3327, 'coolness': 3328, 'ebook': 3329, 'vector': 3330, 'appreciation': 3331, 'granted': 3332, '4square': 3333, 'presents': 3334, 'revealed': 3335, 'asleep': 3336, 'zombies': 3337, 'followings': 3338, '457': 3339, '8800': 3340, 'pillow': 3341, 'lightning': 3342, 'vaccines': 3343, 'onset': 3344, 'prostate': 3345, 'cancer': 3346, \"chortler's\": 3347, 'mustachepox': 3348, 'intrigued': 3349, 'wary': 3350, 'perhaps': 3351, 'vending': 3352, 'exploring': 3353, 'xml': 3354, '4chan': 3355, 'lord': 3356, 'vortex': 3357, 'smugness': 3358, 'unbearable': 3359, 'land': 3360, 'connectivity': 3361, 'berry': 3362, \"rsvp'd\": 3363, 'cnnmoney': 3364, 'thirsty': 3365, 'volt': 3366, 'epicurious': 3367, 'tractor': 3368, 'asst': 3369, \"'lots\": 3370, 'innovators': 3371, 'ears': 3372, 'honesty': 3373, 'divorce': 3374, \"'saving\": 3375, 'personality': 3376, 'gmail': 3377, 'trinity': 3378, 'plugin': 3379, 'stations': 3380, 'bright': 3381, 'eating': 3382, 'joining': 3383, 'adwords': 3384, 'louis': 3385, 'vuitton': 3386, 'amble': 3387, 'tasks': 3388, 'managed': 3389, 'allows': 3390, 'volunteer': 3391, 'parsing': 3392, 'shoot': 3393, 'ubiquitous': 3394, '1k': 3395, 'deviantabuys': 3396, 'muro': 3397, 'danny': 3398, 'sullivan': 3399, 'duane': 3400, 'forrester': 3401, 'journalsim': 3402, 'populous': 3403, 'geared': 3404, 'toward': 3405, 'workplace': 3406, 'strike': 3407, 'bloke': 3408, 'lists': 3409, 'syncs': 3410, 'gruber': 3411, 'discontinued': 3412, '1991': 3413, '169': 3414, 'writes': 3415, 'race': 3416, 'survived': 3417, 'controls': 3418, 'hollrback': 3419, 'earplugs': 3420, '12th': 3421, 'drops': 3422, 'funniest': 3423, 'explain': 3424, 'debating': 3425, 'brands': 3426, 'publishers': 3427, 'bugs': 3428, 'easily': 3429, 'smyle': 3430, 'amen': 3431, 'burner': 3432, 'framework': 3433, 'elevator': 3434, 'awake': 3435, 'dat': 3436, 'glowing': 3437, 'cups': 3438, 'lock': 3439, 'spotlighting': 3440, 'scheduling': 3441, 'crave': 3442, 'guitar': 3443, 'officer': 3444, 'advisory': 3445, 'haves': 3446, 'kit': 3447, 'shame': 3448, 'discusses': 3449, 'ratings': 3450, 'accessory': 3451, 'margarita': 3452, 'gather': 3453, 'glimpse': 3454, 'engines': 3455, 'tht': 3456, 'favorited': 3457, 'date': 3458, 'glenda': 3459, 'watson': 3460, 'cerebral': 3461, 'palsy': 3462, 'communicate': 3463, 'spoken': 3464, 'powerful': 3465, 'headphones': 3466, 'cables': 3467, 'cutsies': 3468, 'whispergram': 3469, 'retweeting': 3470, 'wk': 3471, 'lewis': 3472, 'visiting': 3473, 'count': 3474, 'sounded': 3475, 'authoritzed': 3476, 'republish': 3477, 'rig': 3478, 'empty': 3479, 'void': 3480, 'replaced': 3481, 'served': 3482, 'penney': 3483, 'mobs': 3484, 'hive': 3485, 'truly': 3486, 'material': 3487, 'awaiting': 3488, \"tyson's\": 3489, 'punchout': 3490, 'rolled': 3491, 'surprises': 3492, 'someday': 3493, 'accelerater': 3494, 'principles': 3495, 'throughout': 3496, 'trashy': 3497, 'restraunts': 3498, 'artwork': 3499, 'independent': 3500, 'screaming': 3501, 'lakers': 3502, 'throw': 3503, \"tchin'\": 3504, 'organize': 3505, 'itineraries': 3506, 'celeb': 3507, 'destination': 3508, 'powerglove': 3509, 'organizing': 3510, 'rumour': 3511, 'died': 3512, 'os': 3513, 'incorrect': 3514, 'connections': 3515, 'sidewalk': 3516, 'cart': 3517, 'bull': 3518, 'beach': 3519, 'sched': 3520, 'pedicab': 3521, 'treatment': 3522, 'mocking': 3523, 'metaphor': 3524, 'men': 3525, 'terminal': 3526, 'toting': 3527, 'cord': 3528, \"mcree's\": 3529, 'comfortable': 3530, 'brooklyn': 3531, 'disrupt': 3532, 'carriers': 3533, 'fin': 3534, 'serv': 3535, 'responses': 3536, 'energy': 3537, '365plusmedia': 3538, 'scrub': 3539, 'reference': 3540, 'hackerspace': 3541, 'rackspace': 3542, 'ze': 3543, 'frank': 3544, 'revelations': 3545, 'er': 3546, 'spam': 3547, 'busiest': 3548, 'comic': 3549, 'answered': 3550, 'prototyping': 3551, 'worried': 3552, 'ne': 3553, 'sapete': 3554, 'qualcosa': 3555, 'blurs': 3556, 'ogilvy': 3557, 'ubiquity': 3558, 'structured': 3559, 'potentially': 3560, 'margin': 3561, 'cpa': 3562, 'denial': 3563, 'boxing': 3564, 'borrowing': 3565, 'leather': 3566, 'owner': 3567, 'publicly': 3568, 'faulty': 3569, 'mahalo': 3570, 'decide': 3571, 'capabilities': 3572, 'y': 3573, 'imac': 3574, 'barbarian': 3575, 'anonymous': 3576, 'nearly': 3577, 'ski': 3578, 'reportedly': 3579, 'yaynew': 3580, '45': 3581, 'striking': 3582, 'confess': 3583, 'volunteers': 3584, 'issued': 3585, 'supporting': 3586, 'smarty': 3587, \"ears'\": 3588, 'winssxsw': 3589, 'wakeup': 3590, 'webber': 3591, 'snotty': 3592, 'dbag': 3593, 'lake': 3594, 'shark': 3595, 'poster': 3596, 'deciding': 3597, 'craziness': 3598, 'recommended': 3599, 'licences': 3600, 'pushsxsw11': 3601, 'preparing': 3602, \"'you\": 3603, 'teeth': 3604, 'wii': 3605, 'opener': 3606, 'beating': 3607, 'ispyart': 3608, 'grrr': 3609, 'lie': 3610, 'rob': 3611, 'truth': 3612, 'joint': 3613, 'nest': 3614, 'corners': 3615, \"'til\": 3616, 'clone': 3617, 'swiss': 3618, '90': 3619, 'spanish': 3620, 'scout': 3621, 'attitudes': 3622, 'hotspots': 3623, 'hitchery': 3624, 'el': 3625, 'cow': 3626, 'hooked': 3627, 'paolo': 3628, 'alex': 3629, 'powermat': 3630, 'unite': 3631, 'hip': 3632, 'desperate': 3633, 'articles': 3634, 'attn': 3635, 'nook': 3636, 'approaching': 3637, 'flyers': 3638, 'shape': 3639, 'proud': 3640, 'dad': 3641, 'irish': 3642, 'pub': 3643, 'newbies': 3644, 'hits': 3645, '2yrs': 3646, 'inspiration': 3647, 'installed': 3648, 'proper': 3649, 'willpower': 3650, 'monster': 3651, 'mash': 3652, 'ref': 3653, 'meetingwave': 3654, \"app's\": 3655, 'pixel': 3656, 'flawless': 3657, 'arm': 3658, 'pointer': 3659, 'refine': 3660, 'recounts': 3661, 'batshit': 3662, 'insanity': 3663, 'doubling': 3664, 'ensures': 3665, \"'michaels\": 3666, \"groupon'\": 3667, 'crashed': 3668, 'someones': 3669, 'dog': 3670, 'cruze': 3671, 'frothy': 3672, 'closer': 3673, 'logic': 3674, 'agency': 3675, 'behaviour': 3676, 'monkey': 3677, 'beechwood': 3678, 'attracted': 3679, 'spearheading': 3680, 'deaddd': 3681, 'reunite': 3682, 'das': 3683, 'verpixelungsrechtthe': 3684, 'pixelated': 3685, 'acceptable': 3686, 'delivering': 3687, 'fret': 3688, 'gatorade': 3689, 'drag': 3690, \"spin's\": 3691, 'whatcha': 3692, 'magnetic': 3693, 'behaving': 3694, 'nifty': 3695, 'speed': 3696, 'freak': 3697, \"hasn't\": 3698, 'xmas': 3699, 'asking': 3700, '78': 3701, 'tnooz': 3702, 'although': 3703, 'minded': 3704, 'innovate': 3705, 'walkin': 3706, 'yelping': 3707, 'scar': 3708, 'foreshadowing': 3709, 'sayeth': 3710, 'karateka': 3711, 'castle': 3712, 'wolfenstein': 3713, 'choplifter': 3714, 'helped': 3715, 'disabilities': 3716, 'insightful': 3717, 'everytime': 3718, 'shut': 3719, 'antonio': 3720, 'shipped': 3721, 'engage': 3722, 'inbox': 3723, '30p': 3724, 'finkelstein': 3725, '206k': 3726, 'maes': 3727, 'failing': 3728, 'tronlegacy': 3729, 'r3conf1gur3d': 3730, 'soundtrax': 3731, 'internetonlinewebsite': 3732, '1406': 3733, 'edge': 3734, 'ftw': 3735, 'heathcare': 3736, 'doors': 3737, 'unless': 3738, 'audioboo': 3739, \"everyone's\": 3740, 'dies': 3741, '32g': 3742, '64g': 3743, 'mag': 3744, 'slowly': 3745, 'sbux': 3746, 'focusing': 3747, 'painful': 3748, 'apis': 3749, 'strawberry': 3750, 'rhubarb': 3751, 'circumferences': 3752, 'connection': 3753, 'touched': 3754, 'rebecca': 3755, 'autocorrected': 3756, \"ass's\": 3757, 'stops': 3758, 'condesa': 3759, 'alright': 3760, 'rechristening': 3761, 'msc': 3762, 'snarky': 3763, '900': 3764, 'germ': 3765, 'towel': 3766, 'ditto': 3767, 'login': 3768, 'desperately': 3769, 'juicepack': 3770, 'pity': 3771, 'gadgetzilla': 3772, 'liquid': 3773, 'gamechanger': 3774, 'evo': 3775, 'priorities': 3776, 'compass': 3777, 'gem': 3778, 'north': 3779, 'bizgym': 3780, 'newly': 3781, \"'enchanted'\": 3782, 'sters': 3783, 'lax': 3784, 'yur': 3785, 'reminds': 3786, 'priest': 3787, 'ditch': 3788, 'previous': 3789, 'visual': 3790, 'chilling': 3791, 'mays': 3792, \"here'\": 3793, 'reasons': 3794, 'denim': 3795, 'holds': 3796, 'visuals': 3797, 'skip': 3798, '10k': 3799, 'imo': 3800, \"imo's\": 3801, 'shaping': 3802, 'memories': 3803, 'encourage': 3804, 'practitioners': 3805, 'dwelling': 3806, 'crucial': 3807, 'monetization': 3808, 'flocking': 3809, 'swarming': 3810, 'behavior': 3811, 'collab': 3812, 'wsj': 3813, 'hubby': 3814, 'incredible': 3815, 'signals': 3816, 'salsa': 3817, 'ingredients': 3818, 'avail': 3819, 'casa': 3820, 'passport': 3821, 'train': 3822, 'eh': 3823, 'imagines': 3824, 'flop': 3825, 'shat': 3826, 'whale': 3827, 'ridiculously': 3828, 'billboards': 3829, 'h4ackers': 3830, 'introduces': 3831, '8pm': 3832, 'gotto': 3833, 'aos': 3834, 'happily': 3835, 'mmm': 3836, 'files': 3837, 'earphones': 3838, 'loose': 3839, 'dieing': 3840, 'hunger': 3841, 'lovers': 3842, 'disappointingly': 3843, 'wannabe': 3844, 'gig': 3845, 'australian': 3846, 'pan': 3847, 'compilation': 3848, 'dunno': 3849, 'un': 3850, 'chunky': 3851, 'elements': 3852, 'generous': 3853, 'apptrophy': 3854, \"man's\": 3855, 'neat': 3856, 'reasonable': 3857, 'knowing': 3858, 'nytimes': 3859, 'optiscan': 3860, 'surui': 3861, 'carbon': 3862, 'valhalla': 3863, 'whiskey': 3864, 'demolition': 3865, 'pinball': 3866, 'ai': 3867, 'sm': 3868, 'supposed': 3869, 'mingly': 3870, 'gtug': 3871, '00pm': 3872, 'badger': 3873, 'angel': 3874, 'taptu': 3875, 'marisa': 3876, 'jazz': 3877, 'divasanddorks': 3878, 'cmty': 3879, 'mngr': 3880, '8p': 3881, 'aiding': 3882, 'unpack': 3883, 'hearts': 3884, 'v1': 3885, 'arrive': 3886, 'sit': 3887, 'teach': 3888, 'tax': 3889, 'moderator': 3890, '3000': 3891, 'sneaky': 3892, 'usual': 3893, 'struggle': 3894, 'hollywood': 3895, 'silicon': 3896, 'pool': 3897, 'cowboy': 3898, 'vibe': 3899, 'eyeballed': 3900, 'ip4': 3901, '43': 3902, '33': 3903, 'drumroll': 3904, 'hbd': 3905, 'donated': 3906, 'dime': 3907, 'crappy': 3908, 'w3c': 3909, 'ahem': 3910, 'millions': 3911, 'hawk': 3912, 'denotes': 3913, 'focuses': 3914, 'succeed': 3915, 'rolling': 3916, 'mo': 3917, 'janecek': 3918, 'sister': 3919, 'v2': 3920, 'fr': 3921, 'recs': 3922, 'icebreaker': 3923, 'hangover': 3924, 'confused': 3925, 'cbs': 3926, 'hairy': 3927, 'butts': 3928, 'mktg': 3929, 'effectively': 3930, 'vote': 3931, 'makeup': 3932, 'ms': 3933, 'gamesalad': 3934, 'shhhh': 3935, 'sxsw2011': 3936, 'embracing': 3937, 'checkin': 3938, 'documented': 3939, 'morphie': 3940, 'banana': 3941, 'causing': 3942, '130': 3943, 'entirely': 3944, 'zomg': 3945, 'baseball': 3946, 'stoked': 3947, 'decks': 3948, 'comparing': 3949, 'jargon': 3950, 'translate': 3951, 'wozniak': 3952, 'liking': 3953, 'plunge': 3954, 'belong': 3955, 'marc': 3956, 'ecko': 3957, 'autodial': 3958, 'political': 3959, 'woo': 3960, 'hoo': 3961, 'rendering': 3962, 'foodies': 3963, 'arw': 3964, 'dine': 3965, 'hacker': 3966, 'debuts': 3967, '37': 3968, 'crossing': 3969, '1300': 3970, 'dow': 3971, 'mood': 3972, 'address': 3973, \"'physical\": 3974, \"platform'\": 3975, 'cheeky': 3976, 'selection': 3977, 'overwhelming': 3978, 'swsx': 3979, 'peps': 3980, 'evolve': 3981, 'impossible': 3982, 'wrap': 3983, 'seekers': 3984, 'subscription': 3985, 'impediment': 3986, 'kills': 3987, 'lugging': 3988, 'streamlined': 3989, 'depth': 3990, 'unbelievable': 3991, 'conserve': 3992, \"brazil's\": 3993, 'orkut': 3994, 'sea': 3995, 'disappointed': 3996, 'error': 3997, 'thus': 3998, 'experiences': 3999, 'layar': 4000, 'prepping': 4001, \"coyne's\": 4002, 'equal': 4003, 'reported': 4004, 'searching': 4005, 'creek': 4006, 'clients': 4007, 'soundcloud': 4008, 'kxan': 4009, 'jim': 4010, 'spencer': 4011, 'gapminder': 4012, 'homies': 4013, 'leading': 4014, 'spectacle': 4015, 'webtrends': 4016, 'chzbrgr': 4017, 'mpls': 4018, 'hm': 4019, 'arcade': 4020, 'ninja': 4021, 'grew': 4022, 'wut': 4023, 'ge': 4024, 'solar': 4025, 'carousel': 4026, \"'n\": 4027, 'break': 4028, 'wipes': 4029, 'mrs': 4030, 'macs': 4031, 'boooo': 4032, '21': 4033, 'ignite': 4034, 'lobby': 4035, 'problems': 4036, 'quibids': 4037, 'openbeta': 4038, 'instruments': 4039, 'overcome': 4040, 'earbuds': 4041, 'patented': 4042, 'bahrain': 4043, 'pink': 4044, 'transparency': 4045, 'fabulous': 4046, 'toptweets': 4047, 'booths': 4048, 'waffling': 4049, 'dressed': 4050, 'characters': 4051, 'glued': 4052, 'minivan': 4053, '350': 4054, 'consulting': 4055, 'navigate': 4056, 'lovin': 4057, 'plays': 4058, 'record': 4059, 'cierto': 4060, 'ecodriving': 4061, 'habits': 4062, \"weren't\": 4063, 'persistent': 4064, 'chased': 4065, 'enabled': 4066, '64mb': 4067, 'college': 4068, 'identity': 4069, 'accessories': 4070, 'nah': 4071, 'begun': 4072, 'boyfriends': 4073, 'dynamic': 4074, 'sides': 4075, 'seatmate': 4076, 'realizing': 4077, 'qualified': 4078, 'consciously': 4079, 'achieve': 4080, 'tom': 4081, 'cr': 4082, 'frostwire': 4083, 'matching': 4084, 'planes': 4085, 'nobody': 4086, 'browsers': 4087, 'mappers': 4088, 'jen': 4089, 'swoon': 4090, 'debugging': 4091, '11am': 4092, 'evernote': 4093, 'smartest': 4094, 'imho': 4095, 'att': 4096, 'refresh': 4097, 'splendor': 4098, 'dancin': 4099, 'throttled': 4100, '420': 4101, 'errors': 4102, 'poisoning': 4103, 'fools': 4104, 'wonders': 4105, 'manage': 4106, 'stroke': 4107, 'slice': 4108, 'exploration': 4109, '55': 4110, 'showcases': 4111, 'tear': 4112, 'paypal': 4113, 'turns': 4114, 'douchebag': 4115, 'dirty': 4116, 'sneak': 4117, 'gary': 4118, 'facing': 4119, 'lesson': 4120, 'african': 4121, 'contingent': 4122, 'purchasing': 4123, 'yours': 4124, \"people's\": 4125, 'brazos': 4126, 'movies': 4127, 'anonymity': 4128, \"4chan's\": 4129, 'moot': 4130, 'nowand': 4131, 'pulled': 4132, 'rooftop': 4133, 'brief': 4134, 'exhibitors': 4135, 'explaining': 4136, 'realistic': 4137, 'gee': 4138, 'blood': 4139, 'speaker': 4140, 'spokewoman': 4141, 'nadja': 4142, 'blagojevic': 4143, 'sim': 4144, \"'ipad'\": 4145, 'naked': 4146, \"'simply\": 4147, 'gaimed': 4148, \"free'\": 4149, 'banking': 4150, 'tron': 4151, 'directors': 4152, 'wasted': 4153, 'ambassador': 4154, 'chinese': 4155, 'bff': 4156, 'goings': 4157, 'ons': 4158, 'greatest': 4159, 'egomaniacs': 4160, 'policies': 4161, 'digi': 4162, 'phenomenal': 4163, 'moose': 4164, 'moves': 4165, 'stays': 4166, 'extras': 4167, 'afraid': 4168, 'practical': 4169, 'statistics': 4170, 'admob': 4171, 'booze': 4172, 'documentary': 4173, 'frustration': 4174, \"sayin'\": 4175, 'utter': 4176, 'roof': 4177, 'braille': 4178, '17': 4179, '32000': 4180, 'font': 4181, 'webfonts': 4182, 'oooh': 4183, 'bat': 4184, 'rigeur': 4185, \"dawn's\": 4186, 'upon': 4187, 'srsly': 4188, 'drooling': 4189, \"hands'\": 4190, 'mouse': 4191, 'quadroid': 4192, 'qualcomm': 4193, 'wintel': 4194, 'filled': 4195, 'forbes': 4196, 'shall': 4197, 'sketchily': 4198, 'lurking': 4199, 'googlers': 4200, 'id': 4201, 'karaoke': 4202, 'tkts': 4203, 'vuvuzela': 4204, 'geeky': 4205, 'grouped': 4206, 'ummmm': 4207, '2b': 4208, 'collaboration': 4209, 'projects': 4210, 'motherboard': 4211, 'breakdown': 4212, 'apple2': 4213, 'sandwich': 4214, 'regions': 4215, 'choir': 4216, 'austinjs': 4217, 'monopoly': 4218, 'ooing': 4219, 'ahing': 4220, 'everybody': 4221, 'thier': 4222, 'coincide': 4223, 'gain': 4224, 'guilty': 4225, 'galore': 4226, 'average': 4227, 'finalists': 4228, 'commercial': 4229, 'tempted': 4230, 'replacement': 4231, 'grows': 4232, \"who've\": 4233, 'newbie': 4234, 'heatmap': 4235, 'killers': 4236, 'coupons': 4237, 'dodo': 4238, 'fantasy': 4239, 'journalism': 4240, 'umshini': 4241, 'wam': 4242, 'fishing': 4243, 'minor': 4244, 'worn': 4245, 'kthxbai': 4246, 'mad': 4247, 'ooooo': 4248, 'largest': 4249, 'strength': 4250, 'peer': 4251, 'central': 4252, 'donuts': 4253, 'massage': 4254, 'remaining': 4255, 'vietnamese': 4256, '11pm': 4257, 'units': 4258, 'alternative': 4259, 'abnormal': 4260, 'creatives': 4261, 'gathering': 4262, 'ticket': 4263, '3x': 4264, 'speedup': 4265, 'tagging': 4266, 'mapquest': 4267, 'sketchy': 4268, 'tribute': 4269, 'pengairborne': 4270, 'ami': 4271, \"demo'ing\": 4272, 'es': 4273, 'ordering': 4274, 'urs': 4275, 'indeed': 4276, 'paste': 4277, 'likability': 4278, 'david': 4279, 'fanboy': 4280, 'dictators': 4281, 'scary': 4282, 'message': 4283, 'marcelosomers': 4284, 'loosing': 4285, 'spread': 4286, 'hop': 4287, 'cha': 4288, 'upcoming': 4289, 'triple': 4290, '313': 4291, 'sustainability': 4292, 'driskill': 4293, 'counting': 4294, 'dollar': 4295, 'fetch': 4296, 'poynter': 4297, 'feedback': 4298, 'worldwide': 4299, 'brown': 4300, 'hundred': 4301, 'crowdsourcing': 4302, 'parents': 4303, 'bounds': 4304, 'gcal': 4305, 'claims': 4306, 'ginger': 4307, 'latin': 4308, 'natural': 4309, 'nextflix': 4310, 'collaborate': 4311, 'warning': 4312, \"takin'\": 4313, 'yall': 4314, 'internets': 4315, 'lack': 4316, 'zoom': 4317, 'rated': 4318, 'plancast': 4319, 'opinions': 4320, 'tells': 4321, 'cashmore': 4322, 'softlayer': 4323, 'resulting': 4324, 'shameless': 4325, 'sounding': 4326, 'dfp': 4327, 'h': 4328, 'influencers': 4329, 'tree': 4330, 'da': 4331, 'nadya': 4332, 'direkova': 4333, 'shallow': 4334, 'badgeless': 4335, 'snakeheead': 4336, 'inspiring': 4337, 'h264': 4338, 'collecting': 4339, '2h': 4340, 'cardless': 4341, 'murphy': 4342, 'adi': 4343, 'forced': 4344, '2100': 4345, 'categorized': 4346, 'alphabetically': 4347, 'cr48': 4348, 'awwww': 4349, 'ludicon': 4350, 'ossum': 4351, \"'designing\": 4352, \"schemes'\": 4353, \"queue's\": 4354, \"front's\": 4355, '5am': 4356, 'shooting': 4357, 'qs': 4358, 'poo': 4359, 'poos': 4360, 'tipping': 4361, 'low': 4362, 'tg': 4363, 'perma': 4364, 'pepsico': 4365, 'playground': 4366, \"company's\": 4367, 'stretching': 4368, 'inane': 4369, 'southby': 4370, 'kolko': 4371, 'accelerator': 4372, 'critically': 4373, 'dialy': 4374, 'carefully': 4375, 'n00b': 4376, 'sd': 4377, 'storage': 4378, 'ohh': 4379, 'marrisa': 4380, 'hating': 4381, 'premier': 4382, 'leaked': 4383, 'goo': 4384, 'finger': 4385, 'engadget': 4386, 'republicans': 4387, 'alcohol': 4388, 'bookbook': 4389, 'sm2': 4390, 'convo': 4391, 'connecting': 4392, 'in1102': 4393, 'whirlwind': 4394, 'spider': 4395, 'bryce': 4396, 'manor': 4397, 'cents': 4398, 'avoided': 4399, 'pesky': 4400, 'fees': 4401, 'spell': 4402, 'startuptribe': 4403, 'cope': 4404, 'usability': 4405, \"'freak\": 4406, \"jet'\": 4407, 'donations': 4408, 'emerging': 4409, 'mirroring': 4410, 'hdmi': 4411, 'gents': 4412, 'devastation': 4413, 'artifacts': 4414, 'recollections': 4415, 'protection': 4416, 'latte': 4417, 'stepping': 4418, 'den': 4419, 'avro': 4420, 'sx': 4421, 'honors': 4422, 'dahl': 4423, 'clipboard': 4424, 'carny': 4425, 'ittttt': 4426, 'chip': 4427, 'pep': 4428, 'upc': 4429, 'unplugged': 4430, 'bursting': 4431, 'seams': 4432, 'networkcircles': 4433, 'posbly': 4434, 'holla': 4435, 'butt': 4436, 'bisot': 4437, '06': 4438, 'venturebeat': 4439, 'impedimenta': 4440, 'leaning': 4441, 'conventions': 4442, 'portlanders': 4443, 'investment': 4444, 'formerly': 4445, 'obs': 4446, 'lifetime': 4447, 'panorama': 4448, 'mis': 4449, 'fictitious': 4450, 'incubator': 4451, 'constructs': 4452, 'obviously': 4453, 'shell': 4454, '1500': 4455, 'zeus': 4456, 'promises': 4457, 'gamification': 4458, 'krug': 4459, 'explains': 4460, 'apaan': 4461, 'nih': 4462, 'anticipation': 4463, 'meal': 4464, 'miller': 4465, 'ducks': 4466, 'lawn': 4467, 'chair': 4468, 'keyboards': 4469, \"dan's\": 4470, 'drummer': 4471, 'glut': 4472, 'rec': 4473, 'voluntary': 4474, 'implementing': 4475, 'brightens': 4476, 'blackberr': 4477, 'exposing': 4478, 'horrendous': 4479, '4android': 4480, 'evan': 4481, 'threat': 4482, 'deny': 4483, 'ballrooms': 4484, 'spammers': 4485, 'nuclear': 4486, 'compute': 4487, 'i41': 4488, 'ate': 4489, 'gourdoughs': 4490, \"'em\": 4491, 'bluefly': 4492, 'stresses': 4493, 'chimpit': 4494, 'plutopia': 4495, 'locked': 4496, 'warmer': 4497, 'uj': 4498, 'djs': 4499, '3am': 4500, 'bags': 4501, 'james': 4502, 'franco': 4503, 'expert': 4504, 'vamos': 4505, 'probar': 4506, 'synthetic': 4507, 'entertain': 4508, 'hockey': 4509, 'mask': 4510, 'zaggle': 4511, 'zms': 4512, 'notebooks': 4513, 'juiced': 4514, 'disgusted': 4515, 'reprieve': 4516, 'compact': 4517, 'disk': 4518, 'illegal': 4519, 'deforestation': 4520, 'obama': 4521, 'proceeds': 4522, 'ho': 4523, 'hum': 4524, 'ther': 4525, 'convore': 4526, 'proven': 4527, 'delay': 4528, 'drug': 4529, 'pusher': 4530, 'attys': 4531, 'lovefresh': 4532, 'trust': 4533, 'lda': 4534, 'competitor': 4535, 'abound': 4536, 'curation': 4537, 'aggregated': 4538, 'audiences': 4539, 'industries': 4540, \"kid's\": 4541, 'alt': 4542, 'universe': 4543, 'fastest': 4544, 'reach': 4545, 'autism': 4546, '30min': 4547, 'obsession': 4548, 'pawn': 4549, 'enviro': 4550, 'bin': 4551, 'inofficial': 4552, 'amused': 4553, 'teeny': 4554, 'notetaking': 4555, 'bingo': 4556, 'moleskin': 4557, 'consideration': 4558, 'high5': 4559, 'spirit': 4560, 'topping': 4561, 'junkie': 4562, 'skipping': 4563, 'financially': 4564, 'cpmpetition': 4565, 'prespective': 4566, 'cords': 4567, 'phoenix': 4568, 'besides': 4569, 'finagles': 4570, 'earn': 4571, 'finance': 4572, 'i11': 4573, 'petricone': 4574, 'flaw': 4575, 'wasting': 4576, 'fellowship': 4577, \"'goodguide'\": 4578, 'scans': 4579, 'environmental': 4580, 'responsibility': 4581, 'snapping': 4582, 'reubens': 4583, 'tabs': 4584, 'avoiding': 4585, 'pitfalls': 4586, 'easeljs': 4587, '10x2': 4588, 'culinary': 4589, 'chicken': 4590, 'waffle': 4591, 'goals': 4592, 'knock': 4593, 'sdk': 4594, 'pray': 4595, 'concierge': 4596, 'incredibly': 4597, 'et': 4598, 'i38': 4599, 'lookalike': 4600, \"l'express\": 4601, 'nowhere': 4602, 'visto': 4603, 'primo': 4604, 'ora': 4605, 'cast': 4606, 'automatic': 4607, 'dispenser': 4608, 'main': 4609, 'factors': 4610, 'authority': 4611, 'habit': 4612, 'ctrs': 4613, 'outpaced': 4614, 'darker': 4615, 'clicks': 4616, 'redirect': 4617, 'ireports': 4618, 'nailed': 4619, 'aaron': 4620, 'approach': 4621, 'skepticism': 4622, 'heating': 4623, 'zite': 4624, 'deliciousness': 4625, 'discriminate': 4626, 'contacted': 4627, 'billards': 4628, 'ding': 4629, 'dong': 4630, 'listings': 4631, 'asap': 4632, 'historical': 4633, 'meetups': 4634, 'conversing': 4635, 'dorks': 4636, 'flypost': 4637, 'bulletin': 4638, 'ftp': 4639, 'cloudapp': 4640, 'offic': 4641, 'itc': 4642, 'umbrella': 4643, 'miins': 4644, 'directly': 4645, 'sabotaged': 4646, 'recharged': 4647, 'worthwhile': 4648, 'github': 4649, 'drip': 4650, 'jaloux': 4651, 'bandwidth': 4652, 'dawdled': 4653, 'manager': 4654, 'bose': 4655, 'mifi': 4656, 'focused': 4657, 'increased': 4658, 'stellar': 4659, 'smooth': 4660, 'aun': 4661, 'twitterstream': 4662, 'empathy': 4663, 'concern': 4664, 'maple': 4665, 'leaf': 4666, 'tokii': 4667, 'quarter': 4668, 'corporation': 4669, 'c40': 4670, \"'closed'\": 4671, 'crowdbeacon': 4672, 'outsold': 4673, 'paired': 4674, 'rudy': 4675, 'belgiums': 4676, 'skylines': 4677, 'chaof': 4678, 'asddieu': 4679, 'facepalmed': 4680, 'kool': 4681, 'aid': 4682, 'hardcore': 4683, 'cashmere': 4684, 'parachute': 4685, 'compels': 4686, \"frickin'\": 4687, 'preparations': 4688, 'stacks': 4689, 'hassle': 4690, 'handled': 4691, 'sans': 4692, 'sweeeeet': 4693, 'seemed': 4694, 'affiliated': 4695, 'firefighter': 4696, 'coder': 4697, 'members': 4698, 'raise': 4699, 'pie': 4700, 'toddlers': 4701, 'trapped': 4702, 'metaphors': 4703, 'hacks': 4704, 'memory': 4705, 'describe': 4706, 'sometimes': 4707, \"'this\": 4708, 'ballrm': 4709, 'alan': 4710, 'turing': 4711, 'jadi': 4712, 'penasaran': 4713, 'cites': 4714, 'jenny': 4715, 'iava': 4716, 'deserve': 4717, 'swoop': 4718, 'flatulence': 4719, 'nope': 4720, 'breakouts': 4721, 'xwave': 4722, 'pointed': 4723, 'nearing': 4724, 'crossed': 4725, 'technologies': 4726, 'implement': 4727, 'eventually': 4728, 'bberry': 4729, 'fireside': 4730, 'pictionary': 4731, 'tinyurl': 4732, '6gjmypj': 4733, 'nba': 4734, 'courtside': 4735, 'cntr': 4736, 'anyways': 4737, 'hype': 4738, 'adding': 4739, 'z1': 4740, 'dawn': 4741, 'command': 4742, 'aha': 4743, 'lactation': 4744, \"mother's\": 4745, 'layed': 4746, \"'registers'\": 4747, \"'checkout\": 4748, \"line'\": 4749, 'yawn': 4750, 'classic': 4751, 'consultation': 4752, 'day1': 4753, 'earthquakes': 4754, 'tsunamis': 4755, 'paraormal': 4756, 'sanctuary': 4757, 'sketching': 4758, 'interactivity': 4759, 'lense': 4760, 'macallan': 4761, 'malt': 4762, 'fiting': 4763, 'm4blog': 4764, 'boxee': 4765, 'keg': 4766, 'ferris': 4767, 'oppty': 4768, 'ehphone': 4769, 'txts': 4770, 'usurped': 4771, 'chic': 4772, 'brats': 4773, 'cheesesteaks': 4774, 'glasser': 4775, 'batch': 4776, 'dis': 4777, \"magazine's\": 4778, 'waaaambulance': 4779, 'carlson': 4780, 'matthew': 4781, 'davis': 4782, 'indexed': 4783, 'checklist': 4784, 'myturnstone': 4785, 'hometown': 4786, 'channels': 4787, 'absolutley': 4788, 'warps': 4789, 'experiential': 4790, 'shops': 4791, 'precedent': 4792, 'donkey': 4793, 'poss': 4794, 'rg': 4795, 'itme': 4796, 'intermittent': 4797, 'producs': 4798, 'teamed': 4799, 'mindstorm': 4800, '12am': 4801, 'leader': 4802, 'paintings': 4803, 'exhibited': 4804, 'movers': 4805, 'shakers': 4806, 'poke': 4807, 'involved': 4808, 'panning': 4809, 'gasps': 4810, 'lecture': 4811, 'stove': 4812, 'zap': 4813, 'kno': 4814, 'laporte': 4815, 'pledges': 4816, \"fan's\": 4817, 'fuzzy': 4818, 'jake': 4819, 'gyllenhaal': 4820, 'duncan': 4821, 'bigdplace': 4822, 'evacuation': 4823, 'bail': 4824, \"butt's\": 4825, 'wider': 4826, 'detect': 4827, 'mistakenly': 4828, 'brisk': 4829, 'enchanted': 4830, 'glowstick': 4831, 'scream': 4832, 'baller': 4833, 'trees': 4834, 'novels': 4835, 'tandy': 4836, 'grandfather': 4837, 'iap5507': 4838, 'mails': 4839, 'eagerly': 4840, 'combines': 4841, 'individuals': 4842, 'ipoo': 4843, \"internet's\": 4844, 'breakout': 4845, 'whore': 4846, 'pcs': 4847, 'carrie': 4848, 'tdg': 4849, 'reminded': 4850, 'zeitgeist': 4851, 'soo': 4852, 'horizon': 4853, 'shoots': 4854, 'mcgraw': 4855, 'cafe': 4856, '6thish': 4857, 'intrestin': 4858, 'restock': 4859, \"day's\": 4860, 'rfid': 4861, 'believes': 4862, 'caveats': 4863, 'kelt': 4864, 'likened': 4865, 'spasmatics': 4866, \"rockin'\": 4867, 'iamtimbaker': 4868, \"1980's\": 4869, 'critical': 4870, 'cocktail': 4871, 'respectfully': 4872, 'disagree': 4873, 'chilcott': 4874, 'mentioning': 4875, 'experiments': 4876, 'lyfe': 4877, 'ip': 4878, 'gtd': 4879, \"fin'ly\": 4880, 'grabbed': 4881, 'mindshare': 4882, 'msn': 4883, 'garage': 4884, 'notice': 4885, 'tore': 4886, 'suggestion': 4887, \"evr's\": 4888, \"'shows'\": 4889, 'ming': 4890, 'lengthy': 4891, 'presumably': 4892, 'rolls': 4893, 'eve': 4894, 'z6': 4895, 'cuts': 4896, 'convoluted': 4897, 'analogy': 4898, \"america's\": 4899, 'volumes': 4900, 'automation': 4901, 'moly': 4902, \"'create\": 4903, \"principles'\": 4904, 'dissapointment': 4905, 'role': 4906, 'length': 4907, 'penalty': 4908, 'severity': 4909, 'breach': 4910, 'bgr': 4911, 'ness': 4912, 'slick': 4913, 'conveniently': 4914, 'rf': 4915, 'everbody': 4916, 'revolutions': 4917, 'whiteboard': 4918, 'luster': 4919, 'dwindled': 4920, 'melodies': 4921, 'bass': 4922, \"startup's\": 4923, 'pitches': 4924, 'ep5': 4925, 'rescuing': 4926, 'envisioning': 4927, 'organised': 4928, 'dilemma': 4929, 'tweegos': 4930, 'jailbreak': 4931, \"foodspotting's\": 4932, 'finds': 4933, 'foods': 4934, \"'ware\": 4935, 'ides': 4936, 'sharp': 4937, 'strums': 4938, 'kicks': 4939, 'clif': 4940, 'provided': 4941, 'flu': 4942, 'hardly': 4943, 'predicts': 4944, 'piccraft': 4945, \"1's\": 4946, 'festivalexplorer': 4947, 'solves': 4948, 'followed': 4949, 'broadcaster': 4950, 'recognize': 4951, 'artificial': 4952, 'intelligence': 4953, 'takers': 4954, 'whom': 4955, \"tech's\": 4956, 'motivator': 4957, 'earbud': 4958, 'shakedown': 4959, 'brewing': 4960, 'consolidate': 4961, 'namely': 4962, 'cabbies': 4963, 'christian': 4964, 'reasoning': 4965, 'zone': 4966, 'court': 4967, 'popoup': 4968, 'mayhem': 4969, 'chelsea': 4970, 'handler': 4971, 'merchandise': 4972, 'detouring': 4973, 'turkey': 4974, 'snatch': 4975, 'hahawoke': 4976, 'loko': 4977, 'cans': 4978, 'yobongoed': 4979, 'pit': 4980, 'prices': 4981, 'brutal': 4982, \"macy's\": 4983, 'uncomfortable': 4984, \"apple'\": 4985, \"drupal'\": 4986, 'tribe': 4987, 'children': 4988, 'priestess': 4989, 'markets': 4990, 'comers': 4991, 'controlling': 4992, 'urge': 4993, 'portfolio': 4994, 'pieces': 4995, \"sites'\": 4996, 'rel': 4997, 'unimitated': 4998, 'fingerprint': 4999, 'raised': 5000, 'murray': 5001, 'tipped': 5002, 'bastards': 5003, 'strive': 5004, 'complement': 5005, 'sundance': 5006, 'transparently': 5007, '800': 5008, 'activations': 5009, 'dry': 5010, 'wacky': 5011, 'combining': 5012, 'law': 5013, 'averages': 5014, 'lemonade': 5015, 'positioning': 5016, 'aclus': 5017, 'finish': 5018, 'superseded': 5019, 'i10': 5020, 'pigs': 5021, 'gotten': 5022, 'buggy': 5023, 'lately': 5024, 'clueless': 5025, 'basic': 5026, 'bootleg': 5027, 'adapters': 5028, 'counts': 5029, 'guidance': 5030, 'behave': 5031, 'often': 5032, 'slate': 5033, 'legos': 5034, 'pukey': 5035, 'jet': 5036, 'smelling': 5037, 'farts': 5038, 'slices': 5039, 'shpeal': 5040, 'wise': 5041, 'objects': 5042, 'robert': 5043, 'ives': 5044, 'dtph': 5045, 'unemployed': 5046, 'catfight': 5047, 'houston': 5048, 'hysterical': 5049, 'coveting': 5050, 'electric': 5051, 'visitors': 5052, 'painfully': 5053, 'vacuous': 5054, 'interviews': 5055, 'visa': 5056, 'master': 5057, 'quoi': 5058, 'neuf': 5059, 'sur': 5060, \"boomers'\": 5061, 'meeping': 5062, \"o'reily\": 5063, 'locals': 5064, 'sunglasses': 5065, 'rainjacket': 5066, 'pg': 5067, 'script': 5068, 'regards': 5069, 'uidesignguide': 5070, 'era': 5071, 'correction': 5072, \"u've\": 5073, 'sketchbooks': 5074, 'sharpie': 5075, 'pens': 5076, 'photoshop': 5077, 'balsamic': 5078, 'axsure': 5079, 'brains': 5080, '1of': 5081, 'statesman': 5082, 'plucked': 5083, 'rental': 5084, '81': 5085, 'startupbus': 5086, 'addictive': 5087, 'addition': 5088, 'soho': 5089, 'pairs': 5090, 'thunk': 5091, 'idiocy': 5092, \"don'\": 5093, \"else's\": 5094, 'febuary': 5095, 'illa': 5096, 'autographs': 5097, 'mighty': 5098, 'fallen': 5099, 'tub': 5100, 'uppward': 5101, 'jerk': 5102, '699': 5103, 'optional': 5104, '69': 5105, 'punched': 5106, 'prez': 5107, 'autograph': 5108, 'unlike': 5109, \"wife's\": 5110, 'tripping': 5111, 'wcag': 5112, 'applies': 5113, 'tested': 5114, 'nuances': 5115, 'straw': 5116, 'beautifully': 5117, 'l8er': 5118, 'inferior': 5119, 'anyones': 5120, 'female': 5121, 'alien': 5122, 'sanders': 5123, 'severely': 5124, 'autistic': 5125, 'mastered': 5126, 'puzzles': 5127, 'hill': 5128, 'laying': 5129, 'elapsed': 5130, 'skiiers': 5131, 'lotsa': 5132, 'importantly': 5133, 'occasionally': 5134, 'foriphone': 5135, 'btwn': 5136, 'tipb': 5137, 'cheap': 5138, 'excel': 5139, 'buzzmetrics': 5140, 'altimeter': 5141, 'prepare': 5142, 'pants': 5143, 'extremely': 5144, 'crapped': 5145, 'acknowledge': 5146, 'increase': 5147, 'custome': 5148, 'blackbook': 5149, 'crisiscommons': 5150, 'datasets': 5151, 'farmville': 5152, 'omfg': 5153, 'dionne': 5154, 'warwick': 5155, 'smokes': 5156, 'replacing': 5157, 'skiing': 5158, 'tahoe': 5159, 'jumped': 5160, 'partial': 5161, 'unveils': 5162, 'icarradio': 5163, 'baracades': 5164, 'plze': 5165, 'tammi': 5166, 'soooooo': 5167, 'initiate': 5168, 'carpooling': 5169, 'ridonkulous': 5170, 'silent': 5171, 'ships': 5172, 'travelled': 5173, 'bryan': 5174, 'chill': 5175, 'overrun': 5176, 'ps3': 5177, 'qa': 5178, 'inevitable': 5179, 'mccue': 5180, 'seta': 5181, 'pix': 5182, \"'i'\": 5183, 'booby': 5184, 'bomb': 5185, 'adopters': 5186, 'localmind': 5187, 'techno': 5188, 'priests': 5189, 'hatched': 5190, 'rounding': 5191, 'input': 5192, 'advent': 5193, 'ebooks': 5194, 'generations': 5195, 'landmark': 5196, 'omega': 5197, 'hub': 5198, 'fascinated': 5199, 'klout': 5200, 'kept': 5201, 'tha': 5202, 'nxdc': 5203, 'alice': 5204, \"siggi's\": 5205, 'skyr': 5206, 'schema': 5207, 'dbut': 5208, 'klick': 5209, 'straps': 5210, 'creo': 5211, 'sers': 5212, 'primero': 5213, 'targeted': 5214, 'unexpected': 5215, \"gov't\": 5216, 'verge': 5217, 'patientslikeme': 5218, 'theem': 5219, 'spazmatic': 5220, \"kill'n\": 5221, 'hoooooooooooooo': 5222, 'distant': 5223, 'cheaper': 5224, 'hallway': 5225, 'ia': 5226, 'observations': 5227, 'mister': 5228, 'induced': 5229, 'toilet': 5230, 'scheduler': 5231, 'communications': 5232, 'din': 5233, 'shocked': 5234, 'frineds': 5235, 'cobra': 5236, 'iradar': 5237, 'curve': 5238, 'purse': 5239, 'enlightening': 5240, 'aps': 5241, 'expand': 5242, 'contract': 5243, 'encourages': 5244, 'bd': 5245, \"riley's\": 5246, 'pp': 5247, 'locating': 5248, 'wabi': 5249, 'sabi': 5250, 'n3': 5251, 'cdr': 5252, 'shindig': 5253, 'general': 5254, 'raging': 5255, 'marathon': 5256, 'bookmark': 5257, 'onerous': 5258, 'omgz': 5259, 'golds': 5260, 'plush': 5261, 'telegraph': 5262, 'favour': 5263, 'organization': 5264, \"'popping\": 5265, \"in'\": 5266, 'niceness': 5267, \"'to\": 5268, \"may'\": 5269, 'snackers': 5270, 'popchicks': 5271, 'smut': 5272, 'acerbic': 5273, 'cynical': 5274, 'dumped': 5275, 'sosososo': 5276, 'cuteeeeee': 5277, 'jalen': 5278, 'rose': 5279, 'geogames': 5280, 'stealing': 5281, 'mkt': 5282, 'amex': 5283, 'frabjous': 5284, 'callooh': 5285, 'callay': 5286, 'baaah': 5287, 'carroll': 5288, 'lisa': 5289, 'rinna': 5290, 'fewer': 5291, 'crossroads': 5292, 'liz': 5293, 'phair': 5294, 'realllllllly': 5295, 'replicate': 5296, 'warner': 5297, 'partake': 5298, 'miami': 5299, 'marys': 5300, 'crush': 5301, 'rounded': 5302, 'realizes': 5303, 'stocked': 5304, 'appropriately': 5305, 'sending': 5306, 'lorry': 5307, 'riots': 5308, 'ensue': 5309, 'thisisdare': 5310, 'unlisted': 5311, 'suddenly': 5312, 'warmth': 5313, 'topics': 5314, 'comparison': 5315, 'furniture': 5316, 'omar': 5317, 'dms': 5318, 'resurgence': 5319, 'grid': 5320, 'layouts': 5321, 'fedex': 5322, 'reserved': 5323, 'fourth': 5324, 'overall': 5325, 'improvemnt': 5326, 'ferriss': 5327, 'jinx': 5328, 'foursquares': 5329, 'revamped': 5330, 'automated': 5331, 'merchant': 5332, 'boss': 5333, 'bahahahaha': 5334, 'minus': 5335, 'mavens': 5336, 'performing': 5337, 'degrading': 5338, 'sex': 5339, 'acts': 5340, '681': 5341, 'unopened': 5342, 'mobil': 5343, 'workers': 5344, 'skills': 5345, 'exceeded': 5346, 'damm': 5347, 'bro': 5348, 'posed': 5349, 'feedly': 5350, 'clock': 5351, 'thrown': 5352, 'possibility': 5353, 'penneys': 5354, 'routed': 5355, 'ianything': 5356, 'stow': 5357, 'nvidia': 5358, 'gaming': 5359, 'interest': 5360, 'logical': 5361, 'progression': 5362, 'fathom': 5363, 'insatiable': 5364, 'awhile': 5365, \"everything's\": 5366, \"why's\": 5367, 'superhappydevhouse': 5368, \"labs'\": 5369, 'fusion': 5370, 'election': 5371, \"line's\": 5372, '12bn': 5373, 'whither': 5374, 'fields': 5375, 'coinsidence': 5376, 'allthingsd': 5377, 'evolved': 5378, 'adaptive': 5379, 'skillfully': 5380, 'cupertino': 5381, 'restore': 5382, 'dali': 5383, 'split': 5384, 'fucker': 5385, 'stalks': 5386, 'kh': 5387, 'throwin': 5388, 'studentsforcleanwater': 5389, 'looked': 5390, 'lighters': 5391, 'geniuses': 5392, 'sorta': 5393, 'sux': 5394, 'ahoy': 5395, 'confirms': 5396, \"ev'ry\": 5397, \"hustlin'\": 5398, 'ubersocial': 5399, 'failure': 5400, 'concentrate': 5401, 'readable': 5402, 'vanessa': 5403, 'saver': 5404, 'siren': 5405, 'obi': 5406, 'wan': 5407, 'harry': 5408, 'pun': 5409, 'intended': 5410, 'bummer': 5411, 'crackberry': 5412, 'i21': 5413, 'wicked': 5414, 'inventing': 5415, 'dislike': 5416, 'bust': 5417, 'cleared': 5418, 'limit': 5419, 'specific': 5420, 'hoax': 5421, 'emarketer': 5422, 'snooping': 5423, \"it'\": 5424, 'bridging': 5425, 'divide': 5426, 'autonomous': 5427, 'trenches': 5428, 'sleek': 5429, 'schooling': 5430, 'execs': 5431, 'dtwn': 5432, 'overview': 5433, 'glasses': 5434, 'handsfree': 5435, 'costs': 5436, 'hates': 5437, 'portal': 5438, '779': 5439, 'ck': 5440, 'vectors': 5441, 'dimensional': 5442, 'innovating': 5443, 'congratulation': 5444, 'dw': 5445, 'maths': 5446, 'vintage': 5447, 'format': 5448, 'ipods': 5449, \"apple'd\": 5450, 'bandcamp': 5451, 'sessi': 5452, 'meetchu': 5453, 'lykwxhpyterh': 5454, 'tt66h9tjn4ye': 5455, 'rt6n79xp37ff': 5456, 'typ63mmam7w3': 5457, 'consequences': 5458, 'dying': 5459, 'banged': 5460, 'hungover': 5461, 'advil': 5462, 'radar': 5463, 'invited': 5464, 'cleveland': 5465, 'hopkins': 5466, 'pk': 5467, 'rich': 5468, 'brilliance': 5469, 'solid': 5470, 'resource': 5471, 'sprout': 5472, 'quotable': 5473, 'token': 5474, 'simplegeo': 5475, 'sensor': 5476, 'sensors': 5477, 'fighting': 5478, 'lookin': 5479, 'certificate': 5480, 'nonprofit': 5481, 'idol': 5482, 'z8': 5483, 'zlf': 5484, 'assignment': 5485, 'standardization': 5486, 'casbah': 5487, 'rights': 5488, '2x': 5489, 'applauds': 5490, 'shoulda': 5491, 'bummed': 5492, 'quarantined': 5493, 'kiddie': 5494, 'cold': 5495, 'garageband': 5496, 'lonelyplanet': 5497, 'matters': 5498, 'rallies': 5499, 'seemingly': 5500, 'relive': 5501, 'duckett': 5502, 'instrumental': 5503, 'commons': 5504, 'breathtaking': 5505, \"night's\": 5506, 'squeal': 5507, \"in's\": 5508, \"crowd's\": 5509, '45am': 5510, 'memolane': 5511, 'confusion': 5512, 'stevecase': 5513, 'withme': 5514, 'veterans': 5515, 'quash': 5516, 'meanness': 5517, 'hypocrisy': 5518, 'vicariously': 5519, \"marcin's\": 5520, 'nth': 5521, \"air's\": 5522, 'batteries': 5523, 'clover': 5524, 'tramplings': 5525, 'shrink': 5526, 'stem': 5527, 'hooking': 5528, 'socks': 5529, 'blowing': 5530, 'knockout': 5531, 'narcissism': 5532, 'coupled': 5533, 'sho': 5534, '39': 5535, 'virtually': 5536, 'fhdcfn': 5537, 'reproducing': 5538, 'digitally': 5539, 'organically': 5540, 'consume': 5541, 'guru': 5542, 'express': 5543, 'scepticism': 5544, 'pals': 5545, \"fuckin'\": 5546, '157': 5547, 'geekdom': 5548, 'approaches': 5549, 'cheapen': 5550, 'i32': 5551, 'cruisin': 5552, 'looong': 5553, 'widely': 5554, 'publicized': 5555, 'idle': 5556, 'hirer': 5557, 'hershel': 5558, 'surprisingly': 5559, 'doh': 5560, 'wankery': 5561, 'warm': 5562, 'subject': 5563, 'perks': 5564, 'preferrably': 5565, 'deficit': 5566, 'customization': 5567, 'dvrs': 5568, \"kanye's\": 5569, 'vevo': 5570, 'methinks': 5571, 'capitol': 5572, 'fulltime': 5573, 'writer': 5574, 'recipient': 5575, \"'wait\": 5576, '2012': 5577, \"'i\": 5578, \"knickers'\": 5579, \"'so\": 5580, \"year'\": 5581, 'tattooed': 5582, 'rofl': 5583, \"sharing'\": 5584, 'crash': 5585, '10mins': 5586, 'onsulting': 5587, 'stimulating': 5588, 'al': 5589, 'franken': 5590, 'justin': 5591, 'timberlake': 5592, 'decisions': 5593, 'crickets': 5594, 'actionable': 5595, 'idiot': 5596, 'omarg': 5597, 'withdrawal': 5598, 'fluffertrax': 5599, 'transient': 5600, 'bursts': 5601, \"'after\": 5602, \"couch'\": 5603, 'picking': 5604, 'steam': 5605, 'positively': 5606, 'adobe': 5607, 'convert': 5608, 'swf': 5609, 'existing': 5610, 'oversized': 5611, 'pluged': 5612, 'laws': 5613, \"lovin'\": 5614, 'familiarize': 5615, 'submitted': 5616, 'continue': 5617, '1100': 5618, 'roughly': 5619, 'tanks': 5620, 'gas': 5621, \"engine's\": 5622, 'projecting': 5623, 'slip': 5624, 'promise': 5625, 'fantastico': 5626, 'luv': 5627, 'n31': 5628, 'frying': 5629, 'depeche': 5630, 'jeez': 5631, 'aesthetic': 5632, 'dedication': 5633, 'visited': 5634, '73': 5635, '66': 5636, '31': 5637, 'wikimedia': 5638, 'coined': 5639, 'term': 5640, 'unused': 5641, 'disuse': 5642, 'implementation': 5643, \"who'll\": 5644, 'hahahahah': 5645, 'hoffman': 5646, 'scanner': 5647, 'joined': 5648, 'heaving': 5649, 'flow': 5650, 's2': 5651, 'nosql': 5652, 'db': 5653, 'argues': 5654, \"'where'\": 5655, 'exceptionally': 5656, 'virginity': 5657, 'diabetes': 5658, 'plate': 5659, 'parcelgenie': 5660, 'hears': 5661, 'frankenstein': 5662, 'amalgamation': 5663, 'fragmented': 5664, 'identities': 5665, 'schizophrenic': 5666, 'sci': 5667, 'jamin': 5668, '85': 5669, 'ken': 5670, 'colour': 5671, 'coded': 5672, 'proving': 5673, 'organized': 5674, 'remedied': 5675, 'compliment': 5676, 'orin': 5677, 'hatch': 5678, 'streetvview': 5679, 'hd': 5680, 'stabilizer': 5681, 'wanting': 5682, 'unconfirmed': 5683, 'imagine': 5684, 'mmod': 5685, 'livesteam': 5686, 'mute': 5687, 'cocaine': 5688, 'mel': 5689, 'gibson': 5690, 'jqtouch': 5691, 'nat': 5692, 'arctic': 5693, 'explorers': 5694, 'cellular': 5695, 'gesturing': 5696, 'registers': 5697, 'thoora': 5698, 'biyt': 5699, '86': 5700, 'wishes': 5701, 'homework': 5702, 'punch': 5703, 'ellen': 5704, 'reduced': 5705, '2rd': 5706, 'lulling': 5707, 'smittys': 5708, 'entrepreneurs': 5709, 'techdirt': 5710, 'bill': 5711, 'refused': 5712, 'hierarchical': 5713, 'fork': 5714, 'injury': 5715, 'bicycle': 5716, 'concrete': 5717, 'fortunately': 5718, 'techie': 5719, \"hotpot'\": 5720, 'powerpad': 5721, '1850': 5722, 'contraption': 5723, 'fortuitous': 5724, 'shiner': 5725, 'xipad': 5726, 'chick': 5727, 'ample': 5728, 'delivery': 5729, 'crazyfest': 5730, 'swing': 5731, 'bij': 5732, 'incenticize': 5733, 'trouble': 5734, '605': 5735, \"nothin'\": 5736, 'messing': 5737, 'z9': 5738, 'chord': 5739, 'servicestory': 5740, 'stone': 5741, 'jony': 5742, 'hmmzies': 5743, 'sway': 5744, 'globalbestaward': 5745, 'danger': 5746, 'heartbreaker': 5747, 'tonigh': 5748, 'messed': 5749, 'yonkers': 5750, 'recognition': 5751, 'variety': 5752, 'waves': 5753, 'euphoria': 5754, 'centric': 5755, 'pdanet': 5756, 'rhapsody': 5757, 'echo': 5758, 'struggles': 5759, 'boil': 5760, 'gigantic': 5761, 'unfortunate': 5762, 'structures': 5763, 'bliss': 5764, 'retiring': 5765, 'brave': 5766, 'vestibule': 5767, 'replenished': 5768, 'supply': 5769, 'appstore': 5770, 'wholistic': 5771, 'rely': 5772, 'jg': 5773, 'buat': 5774, 'beats': 5775, 'mcree': 5776, 'perserverance': 5777, 'worship': 5778, 'backupify': 5779, 'cloudsight': 5780, 'searchable': 5781, 'dispatches': 5782, 'recorder': 5783, 'flipcam': 5784, 'tmrw': 5785, 'amusing': 5786, 'starbu': 5787, 'cks': 5788, 'acrosse': 5789, 'tessie': 5790, 'frontwoman': 5791, 'isis': 5792, 'tmobile': 5793, 'verifone': 5794, 'payment': 5795, 'ios5': 5796, '360idev': 5797, 'screenings': 5798, 'snoring': 5799, 'busted': 5800, 'cpap': 5801, 'homie': 5802, 'factory': 5803, 'torturous': 5804, 'leg': 5805, 'alphagraphics': 5806, 'laser': 5807, 'prints': 5808, 'milyoni': 5809, '1223': 5810, \"'major'\": 5811, 'remake': 5812, 'initial': 5813, 'impressions': 5814, 'shitty': 5815, 'insist': 5816, 'tragedy': 5817, 'smearing': 5818, 'retarded': 5819, 'ape': 5820, 'promos': 5821, 'korean': 5822, 'revolution': 5823, 'ep3': 5824, 'toolkit': 5825, 'rei': 5826, 'resourceful': 5827, 'nfb': 5828, 'films': 5829, 'agenda': 5830, 'reminding': 5831, 'genetic': 5832, 'latter': 5833, 'myopia': 5834, 'eloquently': 5835, 'naive': 5836, 'grrrr': 5837, 'muting': 5838, 'z17': 5839, 'innocent': 5840, 'en6p2e': 5841, 'fitting': 5842, 'reclaimed': 5843, 'copper': 5844, 'piping': 5845, 'maglight': 5846, 'customizable': 5847, 'develop': 5848, 'meyers': 5849, 'hopeful': 5850, 'log': 5851, 'ssxsw': 5852, 'writin': 5853, 'makin': 5854, 'casually': 5855, 'forecast': 5856, 'analysis': 5857, 'demonstration': 5858, 'painting': 5859, 'blahzay': 5860, 'hookers': 5861, 'accept': 5862, 'coochie': 5863, 'yeasayer': 5864, 'hv': 5865, 'grt': 5866, 'foliot': 5867, 'hq': 5868, 'tenets': 5869, 'corrects': 5870, 'eff': 5871, 'reliving': 5872, 'pats': 5873, 'julia': 5874, 'sweeney': 5875, 'hr': 5876, 'mixtape': 5877, 'flannel': 5878, 'dailies': 5879, 'mb': 5880, 'culture': 5881, 'tracy': 5882, 'shea': 5883, 'rick': 5884, 'bobby': 5885, 'liebling': 5886, 'rows': 5887, 'fab': 5888, 'workin': 5889, 'rabid': 5890, 'pad': 5891, 'tunehopper': 5892, 'shown': 5893, 'sucked': 5894, 'sake': 5895, 'c43': 5896, 'specimen': 5897, 'hurt': 5898, 'zation': 5899, 'indexing': 5900, 'assets': 5901, 'uncatalogued': 5902, 'materials': 5903, 'eventful': 5904, 'moms': 5905, 'recreate': 5906, 'headache': 5907, 'ridic': 5908, 'tutorial': 5909, 'touchpad': 5910, 'ughhh': 5911, 'icanhas': 5912, 'mackbook': 5913, 'pleased': 5914, 'recomds': 5915, 'disgrace': 5916, '30mio': 5917, 'ubuntu': 5918, \"t's\": 5919, 'trigger': 5920, 'abuzz': 5921, 'bucket': 5922, 'distance': 5923, '68': 5924, 'smartypants': 5925, 'i18': 5926, 'zombie': 5927, 'ttye': 5928, 'n37': 5929, 'scent': 5930, 'amer': 5931, 'geotagging': 5932, 'incognito': 5933, 'trusted': 5934, 'nieuwe': 5935, 'regel': 5936, 'playbook': 5937, 'hahah': 5938, 'itinerary': 5939, 'require': 5940, \"n't\": 5941, 'sleeves': 5942, 'hints': 5943, 'ny': 5944, 'gauntlet': 5945, 'overflowing': 5946, '200m': 5947, \"sync'd\": 5948, 'perimeter': 5949, 'overthere': 5950, \"u're\": 5951, 'rings': 5952, 'ummm': 5953, 'pirate': 5954, 'gaslamp': 5955, 'strip': 5956, 'yoroshiku': 5957, 'onegai': 5958, 'itashimasu': 5959, 'compan': 5960, 'television': 5961, 'expierence': 5962, 'ripping': 5963, 'joomla': 5964, 'recyclematch': 5965, 'kindda': 5966, '450': 5967, 'affair': 5968, 'sandwiched': 5969, 'spring': 5970, 'atleast': 5971, 'noh': 5972, 'donlot': 5973, 'vencorps': 5974, '30k': 5975, 'frozen': 5976, 'teathering': 5977, 'g2': 5978, 'zip': 5979, 'deed': 5980, 'returned': 5981, '2am': 5982, 'food4thought': 5983, 'juxtaposed': 5984, 'lybian': 5985, 'rebels': 5986, 'thwarted': 5987, 'gorgeous': 5988, 'reeling': 5989, 'aug': 5990, 'explore': 5991, 'palo': 5992, 'alto': 5993, 'accompanied': 5994, 'fedoras': 5995, 'haircuts': 5996, 'foing': 5997, 'bestie': 5998, 'becomes': 5999, 'career': 6000, 'sms': 6001, 'slips': 6002, 'luckily': 6003, 'color': 6004, 'preference': 6005, 'springing': 6006, 'define': 6007, 'thereby': 6008, 'defining': 6009, 'values': 6010, \"firm's\": 6011, 'countering': 6012, 'jetlag': 6013, 'shares': 6014, 'patients': 6015, 'physicians': 6016, 'cocktails': 6017, 'midday': 6018, 'mid': 6019, 'blocked': 6020, 'immobile': 6021, 'serves': 6022, 'taunt': 6023, 'club': 6024, 'n25': 6025, 'dmi': 6026, 'wif': 6027, 'demoed': 6028, 'clouds': 6029, 'multicolor': 6030, 'thunderbolts': 6031, 'deshi80227': 6032, 'bannka': 6033, 'index': 6034, 'jaysis': 6035, \"consumerist's\": 6036, 'tournament': 6037, 'pitted': 6038, 'round': 6039, 'approves': 6040, 'irelay': 6041, 'selective': 6042, 'rents': 6043, 'radius': 6044, 'hated': 6045, 'ubertwitter': 6046, 'cabbie': 6047, 'natives': 6048, 'state': 6049, 'contemplative': 6050, 'sings': 6051, \"'hack'\": 6052, 'screens': 6053, 'bother': 6054, 'generally': 6055, 'doubly': 6056, 'handicapped': 6057, 'surfing': 6058, 'summon': 6059, 'nothin': 6060, 'tinfoil': 6061, 'puppy': 6062, 'fawning': 6063, 'quarters': 6064, 'percentage': 6065, 'authorization': 6066, 'pal': 6067, 'honor': 6068, 'improving': 6069, 'engineering': 6070, 'intuition': 6071, 'overuse': 6072, 'wings': 6073, 'continuous': 6074, 'registering': 6075, 'publicize': 6076, 'stds': 6077, 'techstars': 6078, '5hrs': 6079, 'complicated': 6080, 'june': 6081, 'reks': 6082, 'estoy': 6083, 'contradicting': 6084, 'statements': 6085, 'donation': 6086, 'plz': 6087, 'fairy': 6088, 'airs': 6089, 'knowledge': 6090, 'midway': 6091, 'toured': 6092, 'sh': 6093, 'v7jwekn': 6094, 'hurrah': 6095, 'festivities': 6096, 'basket': 6097, 'hulu': 6098, 'intentions': 6099, 'tremendous': 6100, 'conflict': 6101, 'auth': 6102, 'playstation': 6103, 'aus': 6104, 'backpacking': 6105, 'shill': 6106, 'underestimate': 6107, 'appeal': 6108, 'hipstapaks': 6109, 'creatively': 6110, 'socialmediabum': 6111, 'succumb': 6112, 'channel': 6113, 'bizness': 6114, 'subscribe': 6115, 'crowdsource': 6116, 'arab': 6117, 'voices': 6118, 'egyptians': 6119, 'shifts': 6120, 'wikitude': 6121, 'flar': 6122, 'argon': 6123, 'distract': 6124, 'pubs': 6125, 'sez': 6126, 'roamed': 6127, 'mugged': 6128, 'vatornews': 6129, 'tunes': 6130, 'agents': 6131, 'phillip': 6132, 'dickish': 6133, 'haz': 6134, 'ifrom': 6135, 'wil': 6136, 'realty': 6137, 'stolen': 6138, 'ceviche': 6139, 'mojitos': 6140, '49': 6141, 'explosion': 6142, 'chosen': 6143, \"skream's\": 6144, 'appropriate': 6145, 'needle': 6146, 'haystack': 6147, 'surface': 6148, 'intricate': 6149, 'stretches': 6150, 'refreshing': 6151, 'liveley': 6152, 'informative': 6153, 'tcrn': 6154, 'ch': 6155, 'eb5fjs': 6156, 'vacation': 6157, 'punctuate': 6158, \"ridley's\": 6159, 'waze': 6160, 'duking': 6161, 'usefulness': 6162, 'approval': 6163, 'woes': 6164, 'interoperability': 6165, 'solved': 6166, 'blast': 6167, 'skiers': 6168, 'capitalist': 6169, 'healthcare': 6170, 'africa': 6171, 'maar': 6172, 'doen': 6173, 'recorded': 6174, 'exclusively': 6175, 'auerbach': 6176, 'pdparticle': 6177, 'indigenous': 6178, 'statuses': 6179, 'forests': 6180, 'thru': 6181, 'tunage': 6182, 'congratulations': 6183, 'creeps': 6184, 'aisle': 6185, 'earns': 6186, 'unusual': 6187, 'siliconvalley': 6188, 'speakermeetup': 6189, 'dogpatch': 6190, 'labs': 6191, 'mob': 6192, \"smartphone's\": 6193, 'signup': 6194, \"'matt\": 6195, 'fricking': 6196, 'damon': 6197, 'paywall': 6198, 'bernard': 6199, 'frictionless': 6200, 'nose': 6201, 'waitress': 6202, 'guessing': 6203, 'googleto': 6204, 'stakes': 6205, 'resting': 6206, 'desktops': 6207, 'cache': 6208, 'loading': 6209, 'rises': 6210, \"auntie's\": 6211, 'voxpop': 6212, 'calculate': 6213, 'losing': 6214, 'farmer': 6215, 'monger': 6216, 'shoe': 6217, 'jared': 6218, 'mental': 6219, 'lonelyboy15': 6220, 'slowpoke': 6221, 'greaaat': 6222, 'mascots': 6223, 'retro': 6224, 'trek': 6225, 'atv': 6226, 'ona': 6227, 'flatbead': 6228, 'plied': 6229, 'stogies': 6230, 'weasel': 6231, 'rear': 6232, 'beyondbroadcast': 6233, 'hooting': 6234, 'operation': 6235, 'tweetdeck': 6236, 'distribution': 6237, 'mayers': 6238, 'juicing': 6239, 'boothe': 6240, 'queueing': 6241, 'honestly': 6242, 'grip': 6243, 'productive': 6244, \"done'\": 6245, \"get'm\": 6246, \"car'\": 6247, 'zimride': 6248, 'rides': 6249, 'beast': 6250, 'newsweek': 6251, 'jules': 6252, 'verne': 6253, '59pm': 6254, 'pst': 6255, 'yeaayyy': 6256, 'witnessed': 6257, 'passerby': 6258, 'anxious': 6259, 'istock': 6260, 'oy': 6261, 'mock': 6262, 'remembered': 6263, 'themostist': 6264, 'profiles': 6265, 'champ': 6266, 'cluttered': 6267, 'ray': 6268, 'switching': 6269, 'fad': 6270, 'upside': 6271, 'rachael': 6272, 'harris': 6273, 'eyeing': 6274, \"larry's\": 6275, 'elevation': 6276, 'ingenious': 6277, 'skifta': 6278, 'shifting': 6279, 'mechanical': 6280, 'jetpacks': 6281, 'infact': 6282, 'aussies': 6283, 'siva': 6284, 'faces': 6285, 'buried': 6286, 'hadnt': 6287, 'fisting': 6288, 'crapkit': 6289, 'gecko': 6290, 'bandwaggoners': 6291, 'apptastic': 6292, 'sudden': 6293, 'realization': 6294, 'loves': 6295, 'chk': 6296, 'mindtouchers': 6297, 'mindtouch': 6298, 'tcs': 6299, 'n14': 6300, 'updating': 6301, 'v3': 6302, 'stepped': 6303, 'assumes': 6304, 'livetapp': 6305, 'raffling': 6306, '812': 6307, 'motley': 6308, 'fool': 6309, 'prepares': 6310, 'appeared': 6311, 'wanw': 6312, 'lasts': 6313, 'swish': 6314, 'blueray': 6315, 'routing': 6316, 'psycho': 6317, 'rechargeable': 6318, 'burning': 6319, 'sapo': 6320, 'festgoers': 6321, 'gah': 6322, 'torture': 6323, \"5'6\": 6324, 'effen': 6325, 'sterling': 6326, 'symbol': 6327, \"dosen't\": 6328, 'heal': 6329, 'te': 6330, 'dije': 6331, 'wey': 6332, 'overlapping': 6333, 'linkdown': 6334, \"poopin'\": 6335, 'cactus': 6336, 'balcony': 6337, 'shatter': 6338, 'bart': 6339, 'macbookpro': 6340, 'geekest': 6341, 'hidden': 6342, 'palette': 6343, 'parked': 6344, 'creates': 6345, 'owle': 6346, 'bubo': 6347, 'coupon': 6348, 'sbsw2011': 6349, 'suspense': 6350, 'waste': 6351, 'sizzle': 6352, 'numbers': 6353, 'limo': 6354, 'spotify': 6355, 'pandora': 6356, 'lease': 6357, \"signs'\": 6358, 'aight': 6359, 'possibilities': 6360, 'bloggable': 6361, 'legacy': 6362, 'micro': 6363, 'budget': 6364, 'trips': 6365, 'yai': 6366, 'discriminatory': 6367, 'fc': 6368, 'forgo': 6369, 'revenge': 6370, 'ridicule': 6371, 'techs': 6372, 'appointments': 6373, 'wilting': 6374, 'stress': 6375, 'hewlitt': 6376, 'packard': 6377, 'goiing': 6378, \"clark's\": 6379, 'objective': 6380, 'critiques': 6381, 'documents': 6382, 'wean': 6383, 'addiction': 6384, 'akabuzz': 6385, 'outa': 6386, 'maps2': 6387, 'boo': 6388, 'fodder': 6389, 'gains': 6390, 'traction': 6391, 'investor': 6392, 'toooo': 6393, 'receive': 6394, 'entice': 6395, 'ras': 6396, 'consumerization': 6397, 'bluezoom': 6398, 'cab4me': 6399, 'xcitng': 6400, 'yen': 6401, 'moody': 6402, 'attracting': 6403, 'downer': 6404, 'demonstrating': 6405, 'intense': 6406, 'affirmative': 6407, 'recycled': 6408, 'skateboards': 6409, 'whoohoo': 6410, 'mexico': 6411, 'mpact': 6412, 'smell': 6413, 'synched': 6414, 'excludes': 6415, 'insists': 6416, \"'why\": 6417, 'enables': 6418, 'stunning': 6419, 'hook': 6420, 'listed': 6421, 'relaxing': 6422, 'cicles': 6423, 'ukraine': 6424, 'validation': 6425, 'optimized': 6426, 'revolt': 6427, 'teleporting': 6428, 'zeiger': 6429, 'decade': 6430, 'mindmanager': 6431, 'fleeces': 6432, 'kitchen': 6433, 'counter': 6434, 'stacked': 6435, 'pizza': 6436, 'fencing': 6437, \"user's\": 6438, 'overshadowing': 6439, 'arrives': 6440, 'frustrating': 6441, 'zeldman': 6442, 'zelda': 6443, 'juts': 6444, 'flairbuilder': 6445, 'hhaha': 6446, 'intimidated': 6447, 'sketches': 6448, 'stamps': 6449, 'anxiety': 6450, 'fits': 6451, 'tall': 6452, 'hoodies': 6453, 'judging': 6454, 'stumbled': 6455, 'terrific': 6456, 'autumn': 6457, 'obscure': 6458, 'sore': 6459, 'shoulder': 6460, 'suckling': 6461, 'pig': 6462, 'dandy': 6463, 'deliciously': 6464, 'cartel': 6465, 'military': 6466, 'scientific': 6467, 'dictatorship': 6468, 'takeover': 6469, 'rant': 6470, 'radical': 6471, 'milk': 6472, 'koblin': 6473, 'aber': 6474, 'leider': 6475, 'nur': 6476, 'transfer': 6477, 'fetishism': 6478, 'wkend': 6479, 'webex': 6480, 'dropbox': 6481, 'basecamp': 6482, 'obv': 6483, 'stylish': 6484, \"'99\": 6485, 'shorter': 6486, 'ungrateful': 6487, 'integrates': 6488, 'obvious': 6489, 'safe': 6490, 'resonance': 6491, 'mater': 6492, '02': 6493, 'symbian': 6494, 'sexier': 6495, 'chronicling': 6496, 'witty': 6497, 'unlocking': 6498, 'mayor': 6499, 'guerrilla': 6500, 'edible': 6501, 'wrapper': 6502, 'notepad': 6503, 'ultralite': 6504, 'apac': 6505, 'dealing': 6506, 'trauma': 6507, 'terp2it': 6508, 'interacting': 6509, 'liquidspace': 6510, 'workspace': 6511, 'akqa': 6512, 'cartoonishly': 6513, 'sisyphus': 6514, 'truther': 6515, 'spiderhouse': 6516, 'selfish': 6517, 'cancel': 6518, 'shelves': 6519, 'frenzy': 6520, 'kenya': 6521, 'theater': 6522, 'frame': 6523, 'phew': 6524, 'panic': 6525, 'dawned': 6526, 'timed': 6527, 'maximum': 6528, 'superstars': 6529, 'sxswpopup': 6530, 'hug': 6531, 'wishful': 6532, 'semis': 6533, 'synching': 6534, 'overnight': 6535, 'untapped': 6536, 'pour': 6537, 'i28': 6538, 'gd': 6539, 'scope': 6540, 'kitkat': 6541, 'measure': 6542, 'housing': 6543, 'mercy': 6544, 'torch': 6545, 'webmail': 6546, 'lousy': 6547, 'felt': 6548, 'tats': 6549, 'piercings': 6550, 'heaven': 6551, 'niche': 6552, 'lwr': 6553, 'undr': 6554, 'covr': 6555, 'metric': 6556, 'determine': 6557, 'drained': 6558, '10am': 6559, 'batt': 6560, '54': 6561, 'excitement': 6562, 'atomic': 6563, 'soundtrckr': 6564, 'io': 6565, 'rabbits': 6566, 'pager': 6567, 'reveals': 6568, \"nyt's\": 6569, 'oscars': 6570, '16mins': 6571, 'blew': 6572, 'djroe': 6573, 'decent': 6574, 'bluetooth': 6575, 'blah': 6576, 'rotational': 6577, 'providers': 6578, 'cloudkick': 6579, 'pagerduty': 6580, 'paging': 6581, 'dnsmadeeasy': 6582, 'postmark': 6583, 'ec2': 6584, 'azure': 6585, 'further': 6586, \"foursquare's\": 6587, 'wittingly': 6588, 'minimize': 6589, 'contrary': 6590, 'kudos': 6591, 'firms': 6592, 'existent': 6593, \"rsq's\": 6594, 'z40': 6595, 'flew': 6596, 'tending': 6597, 'alignd': 6598, 'ths': 6599, 'ces': 6600, 'gdc': 6601, 'googler': 6602, 'myspace': 6603, 'slopes': 6604, 'galleries': 6605, 'salicornia': 6606, 'bio': 6607, 'diesel': 6608, 'plant': 6609, 'salt': 6610, 'downtime': 6611, 'volunteering': 6612, 'boring': 6613, 'extreme': 6614, 'overlay': 6615, 'forever': 6616, 'economy': 6617, 'greeted': 6618, 'lindsay': 6619, 'stillman': 6620, 'tribune': 6621, 'cor': 6622, 'niran': 6623, 'babalola': 6624, 'qrank': 6625, 'pubcamp': 6626, 'ten': 6627, 'mill': 6628, 'slightly': 6629, 'thinner': 6630, 'earths': 6631, 'smudgy': 6632, 'spitzer': 6633, 'n5': 6634, 'spreading': 6635, 'disease': 6636, '1985': 6637, 'facial': 6638, 'undivided': 6639, 'pbs': 6640, 'ordinance': 6641, 'admission': 6642, 'recovery': 6643, 'antwoord': 6644, 'korine': 6645, \"park's\": 6646, 'nasdaq': 6647, 'merely': 6648, 'rounds': 6649, 'complained': 6650, 'yorkers': 6651, 'decency': 6652, 'blush': 6653, 'darling': 6654, 'loopt': 6655, 'imitation': 6656, 'flattery': 6657, 'brew': 6658, 'arg': 6659, 'feelin': 6660, 'disliking': 6661, 'shortening': 6662, 'dwindling': 6663, 'jeebus': 6664, 'correcting': 6665, 'curse': 6666, 'z20': 6667, 'verification': 6668, 'joepieee': 6669, 'sport': 6670, 'gettin': 6671, 'newtrent': 6672, 'imp1000': 6673, 'xd': 6674, 'jurassic': 6675, 'battles': 6676, \"'popping'\": 6677, 'speller': 6678, 'capitalism': 6679, 'facist': 6680, 'wilemon': 6681, 'googlewebteam': 6682, 'docomo': 6683, 'occasional': 6684, 'pcmag': 6685, 'meeti': 6686, 'endeavor': 6687, 'foosspotting': 6688, 'guides': 6689, 'caramel': 6690, 'macchiato': 6691, 'hiss': 6692, 'pumps': 6693, 'lava': 6694, 'slew': 6695, 'inc': 6696, 'transition': 6697, 'chain': 6698, 'comedy': 6699, 'segment': 6700, '220': 6701, 'lotta': 6702, 'assistant': 6703, 'tempt': 6704, \"'congo'\": 6705, 'ipanemas': 6706, 'beware': 6707, 'innacurate': 6708, \"calendar's\": 6709, 'overlap': 6710, 'rockin': 6711, 'fragmentation': 6712, 'vzw': 6713, 'cheer': 6714, 'favorites': 6715, 'smells': 6716, 'sticks': 6717, 'oddly': 6718, 'obnoxiously': 6719, 'bueller': 6720, 'pint': 6721, 'spontaniety': 6722, 'hose': 6723, 'individual': 6724, 'windows7': 6725, 'animation': 6726, 'blogged': 6727, 'sorted': 6728, 'stated': 6729, 'spaces': 6730, 'bite': 6731, 'lags': 6732, 'acceleration': 6733, 'pervasive': 6734, 'chime': 6735, '15pm': 6736, '3pm': 6737, 'blogpost': 6738, 'icnnreport': 6739, 'batman': 6740, 'belt': 6741, 'mba': 6742, 'overdrive': 6743, 'n22': 6744, 'knocks': 6745, 'surplus': 6746, 'leash': 6747, 'inde': 6748, '1s': 6749, 'macworld': 6750, '10pm': 6751, 'leveraging': 6752, 'samplers': 6753, 'sum': 6754, 'noticing': 6755, 'relation': 6756, 'alamo': 6757, 'coordinate': 6758, 'entrepreneur': 6759, 'consignment': 6760, 'outdated': 6761, 'threw': 6762, 'ideally': 6763, 'deeper': 6764, 'orly': 6765, 'musicians': 6766, 'downloadable': 6767, 'z28': 6768, 'curfew': 6769, 'damned': 6770, 'deliberately': 6771, 'chose': 6772, 'availability': 6773, 'chunk': 6774, 'geosocial': 6775, 'finals': 6776, 'leases': 6777, 'z': 6778, 'manages': 6779, 'appear': 6780, 'benieuwd': 6781, 'peaked': 6782, 'reddit': 6783, 'moonshine': 6784, 'itune': 6785, 'weinschenk': 6786, 'gutter': 6787, 'lottery': 6788, 'porque': 6789, 'picplz': 6790, 'collections': 6791, 'haiti': 6792, 'theophilus': 6793, 'london': 6794, 'disneyland': 6795, 'happiest': 6796, 'se': 6797, 'database': 6798, 'brocast': 6799, 'episode': 6800, 'asserted': 6801, 'francisco': 6802, 'sfo': 6803, 'tlds': 6804, 'domains': 6805, 'confirm': 6806, 'cnt': 6807, 'harrymccracken': 6808, 'balance': 6809, 'airplane': 6810, 'buzzing': 6811, 'annoying': 6812, 'reacquainted': 6813, 'mq': 6814, 'oil': 6815, \"monday's\": 6816, 'adfonic': 6817, \"they'd\": 6818, 'mycube': 6819, 'heavens': 6820, 'travelers': 6821, 'passenger': 6822, 'science': 6823, 'suckas': 6824, 'annoyed': 6825, 'fat': 6826, 'resume': 6827, 'tethering': 6828, 'mania': 6829, 'filters': 6830, 'eisner': 6831, 'whose': 6832, 'brian': 6833, 'captain': 6834, 'penguin': 6835, 'squeeze': 6836, 'winamp': 6837, 'spins': 6838, 'arsenal': 6839, 'camp': 6840, 'bo': 6841, 'perception': 6842, 'transparent': 6843, 'evolving': 6844, 'converge': 6845, 'yield': 6846, 'plowed': 6847, 'stampede': 6848, 'wooing': 6849, \"should've\": 6850, 'goer': 6851, 'halls': 6852, 'rite': 6853, 'passage': 6854, 'bonus': 6855, 'collect': 6856, 'itun': 6857, 'ifr3dw': 6858, 'ahh': 6859, 'wonderful': 6860, 'paying': 6861, 'duranduran': 6862, 'n12': 6863, 'sheep': 6864, 'slaughter': 6865, 'breathe': 6866, 'airlines': 6867, 'position': 6868, 'witness': 6869, 'friggen': 6870, 'tower': 6871, 'smilebooth': 6872, 'prepaid': 6873, 'toys': 6874, 'oops': 6875, 'malfunction': 6876, 'advanced': 6877, 'hannukah': 6878, 'miracle': 6879, 'uncharged': 6880, 'amiss': 6881, 'googling': 6882, 'arboretum': 6883, 'berklee': 6884, 'topspin': 6885, 'askd': 6886, 'answr': 6887, 'c10': 6888, 'lust': 6889, 'rubbing': 6890, 'escape': 6891, 'drunken': 6892, 'apartments': 6893, 'bikes': 6894, 'awa50': 6895, 'prototype': 6896, 'pointing': 6897, 'mantra': 6898, \"'dont\": 6899, \"evil'\": 6900, 'pride': 6901, 'deadly': 6902, 'sin': 6903, 'superbia': 6904, 'concerned': 6905, 'divorced': 6906, 'vaynerchuck': 6907, 'gger': 6908, 'ner': 6909, 'winelibrary': 6910, 'och': 6911, 'sl': 6912, 'pper': 6913, 'llet': 6914, 'appen': 6915, \"guy's\": 6916, 'dom': 6917, 'undoubtedly': 6918, 'seconds': 6919, 'softball': 6920, 'fancrazed': 6921, 'http': 6922, 'upstarts': 6923, 'dvoilement': 6924, 'ackward': 6925, '500': 6926, 'cesar': 6927, 'chavez': 6928, 'bloomberg': 6929, 'notebook': 6930, 'traditional': 6931, 'drew': 6932, 'chimp': 6933, 'thunder': 6934, 'empowering': 6935, 'filtering': 6936, 'intuitive': 6937, 'intrvw': 6938, 'svcs': 6939, 'personalizing': 6940, 'cautiously': 6941, 'desmiente': 6942, 'lanzamiento': 6943, 'hoy': 6944, 'shoulders': 6945, 'fixed': 6946, 'jacinto': 6947, 'wealthier': 6948, 'soll': 6949, 'noch': 6950, 'heute': 6951, 'starten': 6952, 'moments': 6953, 'maudies': 6954, 'ajs2011': 6955, 'menia': 6956, 'doesnt': 6957, 'manhandling': 6958, 'unoffic': 6959, '30a': 6960, 'crack': 6961, 'addicts': 6962, 'wal': 6963, 'mart': 6964, 'blonde': 6965, 'evelyn': 6966, 'juwan': 6967, 'howard': 6968, 'lanyard': 6969, 'rave': 6970, 'bookstore': 6971, 'cent': 6972, 'executed': 6973, 'zero': 6974, 'cluttering': 6975, 'handset': 6976, 'androidhig': 6977, '6hours': 6978, 'lowest': 6979, 'basics': 6980, 'smartfriend': 6981, 'tm': 6982, 'generation': 6983, 'antique': 6984, 'shortcuts': 6985, 'intending': 6986, 'trusty': 6987, 'backpack': 6988, 'posible': 6989, 'ma': 6990, 'zing': 6991, 'sxsurrogates': 6992, \"'10\": 6993, 'trends': 6994, 'laport': 6995, 'taping': 6996, 'ipadtoday': 6997, 'fullsteam': 6998, 'goofy': 6999, 'spied': 7000, 'etchnsketch': 7001, 'tug': 7002, 'whenever': 7003, 'droppin': 7004, 'cure': 7005, 'tamale': 7006, 'feet': 7007, 'considered': 7008, 'fessing': 7009, 'admitting': 7010, \"team's\": 7011, 'gummy': 7012, 'worms': 7013, 'worm': 7014, 'chugging': 7015, 'prepped': 7016, 'bucks': 7017, 'pork': 7018, 'doomed': 7019, 'denied': 7020, 'snazzy': 7021, 'declines': 7022, 'iv': 7023, 'bundle': 7024, 'halftone': 7025, 'p7e9eme7kylj': 7026, '4this': 7027, 'wth': 7028, 'bruises': 7029, 'panelists': 7030, 'regarded': 7031, 'jl': 7032, 'bridge': 7033, 'ill': 7034, 'unlock': 7035, 'artistic': 7036, \"centers'\": 7037, 'economies': 7038, 'continual': 7039, 'jose': 7040, 'bashing': 7041, 'consistent': 7042, 'sw': 7043, 'shhh': 7044, 'stringer': 7045, 'aims': 7046, 'powering': 7047, 'republic': 7048, 'manual': 7049, 'contacts': 7050, 'cal': 7051, 'exceeds': 7052, \"'flooded\": 7053, 'meaning': 7054, 'spambots': 7055, 'ramping': 7056, 'z33': 7057, 'ounce': 7058, 'prevention': 7059, 'upstore': 7060, \"publishers'\": 7061, 'enhancements': 7062, 'foster': 7063, 'wallace': 7064, 'footnotes': 7065, 'pixieengine': 7066, 'sucessful': 7067, 'rainey': 7068, 'dd': 7069, 'document': 7070, 'advocates': 7071, 'africans': 7072, 'capped': 7073, 'hoc': 7074, 'thoms': 7075, 'haul': 7076, 'wristbands': 7077, 'magically': 7078, 'argh': 7079, 'exact': 7080, 'ring': 7081, '1154': 7082, 'continuum': 7083, 'padless': 7084, 'burners': 7085, 'arwords': 7086, 'arsense': 7087, 'inthat': 7088, 'window': 7089, 'decal': 7090, 'willinclude': 7091, 'c23': 7092, '6pm': 7093, 'turnstone': 7094, 'pinoy': 7095, 'schtuff': 7096, 'quake': 7097, 'busdev': 7098, 'wr': 7099, 'iads': 7100, 'contests': 7101, 'juan': 7102, 'commuter': 7103, 'i7': 7104, 'demons': 7105, 'sharers': 7106, 'toronto': 7107, 'pearson': 7108, 'yyz': 7109, 'hooded': 7110, 'snuggie': 7111, 'tummy': 7112, 'porting': 7113, 'syncing': 7114, '3k': 7115, 'breeds': 7116, 'midst': 7117, 'chokes': 7118, 'plixi': 7119, '83881586': 7120, 'trackpads': 7121, 'positives': 7122, 'relaxed': 7123, 'dictaphone': 7124, \"'cerebellum'\": 7125, 'controlled': 7126, 'smooshed': 7127, 'awww': 7128, 'yeaaa': 7129, '1980s': 7130, 'existential': 7131, 'retailers': 7132, 'exercise': 7133, 'oreilly': 7134, 'databases': 7135, 'contribution': 7136, 'craigs': 7137, 'incapable': 7138, 'disruptive': 7139, '89': 7140, 'amoral': 7141, 'mealtime': 7142, 'intriguing': 7143, \"stinkin'\": 7144, 'f1': 7145, 'racetrack': 7146, 'backyard': 7147, 'bah': 7148, 'wipe': 7149, 'brace': 7150, 'yourselves': 7151, 'onslaught': 7152, 'evri': 7153, '206': 7154, 'tvontheradio': 7155, 'tix': 7156, 'null': 7157, 'wha': 7158, 'gettiing': 7159, 'worthy': 7160, 'chase': 7161, 'salty': 7162, \"'techies\": 7163, 'harnessing': 7164, 'collective': 7165, \"travolta's\": 7166, 'arrow': 7167, \"steve's\": 7168, \"gary's\": 7169, 'notsomuch': 7170, 'mobiles': 7171, 'luggage': 7172, 'chng': 7173, 'commented': 7174, 'lennon': 7175, 'ubersoc': 7176, 'nick': 7177, 'william': 7178, 'patry': 7179, 'authors': 7180, 'copyright': 7181, 'income': 7182, 'q2': 7183, 'configuration': 7184, 'austins': 7185, 'whattt': 7186, '11p': 7187, 'greatly': 7188, 'shamed': 7189, 'yikes': 7190, 'uk': 7191, 'proposal': 7192, 'textbook': 7193, 'entering': 7194, 'ez': 7195, 'babies': 7196, 'uniform': 7197, 'tie': 7198, 'wayfarers': 7199, 'switches': 7200, 'jk': 7201, 'kiss': 7202, 'rollout': 7203, 'opportunism': 7204, 'identifying': 7205, 'respecting': 7206, 'rebranded': 7207, 'inner': 7208, 'shuffleboard': 7209, 'wax': 7210, 'sprinklers': 7211, 'proliferation': 7212, 'reunion': 7213, \"'route\": 7214, \"traffic'\": 7215, 'disabling': 7216, 'yourmom': 7217, 'bitbop': 7218, 'purevolume': 7219, '504': 7220, '14th': 7221, 'sxxpress': 7222, 'highs': 7223, 'akqas': 7224, 'callback': 7225, 'cornered': 7226, 'older': 7227, 'instore': 7228, 'mullet': 7229, 'simplest': 7230, 'gesture': 7231, 'interactions': 7232, 'landscape': 7233, 'cartridge': 7234, 'reduces': 7235, 'consumption': 7236, 'eyes': 7237, 'dubbing': 7238, 'cinemaphiles': 7239, '330': 7240, 'mary': 7241, 'rethink': 7242, 'danfung': 7243, 'algorithm': 7244, 'dynamics': 7245, 'synergy': 7246, 'debate': 7247, 'tactics': 7248, 'keywords': 7249, 'punishment': 7250, 'abacus': 7251, 'waterproof': 7252, 'cigarettes': 7253, 'summit': 7254, 'delight': 7255, 'perspective': 7256, 'paced': 7257, 'consistently': 7258, 'goddamn': 7259, 'bracelet': 7260, 'journalists': 7261, 'i17': 7262, 'symphony': 7263, 'destruction': 7264, 'gentlemen': 7265, 'eddy': 7266, '120': 7267, 'go2': 7268, 'readership': 7269, 'ignore': 7270, 'aggregator': 7271, 'skore': 7272, 'snag': 7273, 'printer': 7274, 'underwire': 7275, 'dk': 7276, 'famous': 7277, 'artworks': 7278, 'pixels': 7279, 'cited': 7280, 'proprietary': 7281, 'freebeernear': 7282, 'osx': 7283, 'pete': 7284, '330pm': 7285, \"someone's\": 7286, 'herself': 7287, 'vegan': 7288, 'lazy': 7289, \"smurf's\": 7290, 'raffled': 7291, 'fluid': 7292, 'frankeninterface': 7293, 'uzu': 7294, '600': 7295, 'unread': 7296, 'detached': 7297, 'gifting': 7298, 'exogear': 7299, 'priceless': 7300, 'orange': 7301, 'wodpress': 7302, 'blekko': 7303, 'uitp': 7304, 'lb': 7305, 'deleting': 7306, 'hacked': 7307, 'flava': 7308, 'flav': 7309, 'nicholas': 7310, 'jackson': 7311, 'atlantic': 7312, 'explode': 7313, 'llc': 7314, 'snagged': 7315, 'campus': 7316, 'blushing': 7317, 'n2': 7318, 'captive': 7319, 'affect': 7320, 'rosso': 7321, 'mothers': 7322, 'envisions': 7323, 'tougher': 7324, 'colin': 7325, 'quinn': 7326, 'magical': 7327, 'z4': 7328, 'beers': 7329, 'ritas': 7330, 'webby': 7331, 'uploaded': 7332, 'sweater': 7333, 'unreal': 7334, 'clicked': 7335, 'seats': 7336, 'totalitarian': 7337, 'sta': 7338, 'nije': 7339, 'dosta': 7340, 'gbuzz': 7341, 'selected': 7342, 'finalist': 7343, 'permanently': 7344, 'convience': 7345, 'intentionally': 7346, 'crafty': 7347, 'corporations': 7348, 'founded': 7349, 'vibrator': 7350, 'monetize': 7351, 'meaningful': 7352, 'optimum': 7353, 'shade': 7354, 'graphics': 7355, 'ceder': 7356, 'rapids': 7357, 'andy': 7358, 'livestream': 7359, \"o'goody\": 7360, 'strict': 7361, 'relax': 7362, 'idk': 7363, 'lessons': 7364, 'sole': 7365, 'dotrights': 7366, '141st': 7367, '38': 7368, 'kingdom': 7369, 'hooks': 7370, '128': 7371, 'chalked': 7372, 'pavement': 7373, 'aols': 7374, 'dehumanizing': 7375, 'hires': 7376, 'prince': 7377, 'multichannel': 7378, 'thanx': 7379, \"meetin'\": 7380, 'permanent': 7381, \"skiers'\": 7382, 'overlaid': 7383, 'mountain': 7384, 'runs': 7385, 'tracking': 7386, 'submit': 7387, 'transferring': 7388, 'mdw': 7389, 'halfway': 7390, 'boarded': 7391, 'china': 7392, 'unequipped': 7393, 'amid': 7394, 'dash': 7395, 'formatted': 7396, 'extenders': 7397, 'buddies': 7398, 'pushed': 7399, 'efforts': 7400, 'constuction': 7401, 'muffins': 7402, 'enablers': 7403, 'carrying': 7404, 'yeay': 7405, 'overheating': 7406, 'waaaaaa': 7407, 'repressed': 7408, 'spinning': 7409, 'ball': 7410, 'barging': 7411, 'gettinng': 7412, 'silver': 7413, 'cooper': 7414, 'kidney': 7415, 'wore': 7416, \"'genius's'\": 7417, 'managing': 7418, 'campaigns': 7419, 'measurement': 7420, 'ooh': 7421, 'regency': 7422, 'relies': 7423, 'introducing': 7424, 'gold': 7425, 'importance': 7426, 'temporarily': 7427, 'crowed': 7428, 'appealing': 7429, 'adapt': 7430, 'toes': 7431, 'regretting': 7432, \"soo's\": 7433, 'invisible': 7434, 'jaw': 7435, 'controller': 7436, '8a': 7437, 'texttospeech': 7438, 'cellbots': 7439, 'premiere': 7440, '2honor': 7441, 'suffered': 7442, 'outlandish': 7443, 'equity': 7444, 'attached': 7445, 'relay': 7446, 'imparted': 7447, 'recon': 7448, 'phil': 7449, 'influential': 7450, 'alley': 7451, 'burlesque': 7452, '930a': 7453, 'plain': 7454, '24587': 7455, 'martinis': 7456, 'mondays': 7457, 'measuring': 7458, 'displaying': 7459, '63': 7460, 'tis': 7461, 'cabs': 7462, 'riffs': 7463, 'sid': 7464, 'meier': 7465, 'funnels': 7466, 'registrations': 7467, 'skeumorpism': 7468, 'cap': 7469, 'bob': 7470, 'n33': 7471, 'bavc': 7472, 'farooqui': 7473, \"'get\": 7474, \"by'\": 7475, 'talib': 7476, 'kweli': 7477, 'gogo': 7478, 'crowdsourced': 7479, 'licked': 7480, 'rainbow': 7481, 'globally': 7482, 'absolute': 7483, 'patience': 7484, 'douchebaggery': 7485, 'priori': 7486, 'departure': 7487, 'q1': 7488, 'locally': 7489, '2009': 7490, 'akhirnya': 7491, 'guild': 7492, 'hijack': 7493, 'mejust': 7494, 'ep4': 7495, 'gross': 7496, 'hehe': 7497, 'soooo': 7498, 'c5': 7499, 'precautions': 7500, 'types': 7501, 'ghost': 7502, 'outkast': 7503, 'cmon': 7504, 'spotting': 7505, 'twice': 7506, 'appy': 7507, 'sheer': 7508, 'letter': 7509, 'stalk': 7510, 'rocksauce': 7511, 'shang': 7512, 'accomplish': 7513, 'hash': 7514, 'nerdiest': 7515, 'ish': 7516, 'swift': 7517, 'upbeat': 7518, 'combine': 7519, 'calendars': 7520, 'advising': 7521, '08': 7522, 'guarding': 7523, \"android's\": 7524, \"diller's\": 7525, 'pragmatic': 7526, 'pitchforks': 7527, 'mouth': 7528, 'hig': 7529, 'adam': 7530, 'beckley': 7531, 'terrace': 7532, 'reassured': 7533, \"'extraordinary\": 7534, \"hacking'\": 7535, 'couches': 7536, 'pensei': 7537, 'iriam': 7538, 'lanar': 7539, 'laura': 7540, 'linney': 7541, 'reconcile': 7542, 'omission': 7543, \"'how\": 7544, 'nicoriccelli': 7545, '12ab': 7546, 'larry': 7547, 'tts': 7548, \"'play'\": 7549, 'ultimate': 7550, 'console': 7551, 'extensive': 7552, 'qualifies': 7553, 'apt': 7554, 'planzai': 7555, 'fares': 7556, 'scores': 7557, 'gogglers': 7558, 'marketer': 7559, 'obsessed': 7560, 'feckin': 7561, 'lavaca': 7562, 'stunt': 7563, 'draws': 7564, 'rivals': 7565, 'stack': 7566, 'nelson': 7567, 'medina': 7568, 'copying': 7569, 'afteward': 7570, 'verbs': 7571, 'deliver': 7572, 'billing': 7573, 'addr': 7574, '829': 7575, 'periscope': 7576, 'corp': 7577, 'asset': 7578, 'jayden': 7579, 'recognized': 7580, 'nikon': 7581, 'commercials': 7582, 'harder': 7583, 'distinguish': 7584, 'tuh': 7585, 'premature': 7586, 'bait': 7587, 'ae': 7588, 'unexpectedly': 7589, 'antigov': 7590, 'lobbying': 7591, 'initiative': 7592, 'invoking': 7593, 'brunch': 7594, 'exported': 7595, 'diego': 7596, 'tme': 7597, 'merissa': 7598, 'led': 7599, 'predicting': 7600, 'divorces': 7601, 'streamed': 7602, 'crunch': 7603, 'crippling': 7604, 'magnifying': 7605, 'sweepstakes': 7606, 'golden': 7607, 'tickets': 7608, 'felix': 7609, 'housecat': 7610, 'downloadfree': 7611, 'volume': 7612, 'lifters': 7613, 'quietly': 7614, 'fall': 7615, 'pagerank': 7616, 'webos': 7617, 'furby': 7618, 'pengen': 7619, 'jdnya': 7620, \"icenhaur's\": 7621, 'countdown': 7622, 'fried': 7623, 'editors': 7624, 'po': 7625, 'idevice': 7626, '188': 7627, 'parts': 7628, 'suicidal': 7629, 'omitting': 7630, 'queries': 7631, 'q7a': 7632, 'zagg': 7633, 'hopes': 7634, '6thst': 7635, 'creepily': 7636, '1408': 7637, 'rumoured': 7638, 'iun': 7639, 'fancy': 7640, 'hyperactivity': 7641, 'distraction': 7642, '5min': 7643, 'cat': 7644, 'executing': 7645, 'brush': 7646, 'became': 7647, 'hacky': 7648, 'sack': 7649, 'challenging': 7650, 'boggle': 7651, 'getdown': 7652, 'coynes': 7653, 'heres': 7654, 'pah': 7655, 'permission': 7656, 'microformat': 7657, 'adapting': 7658, 'microformats': 7659, 'thedomain': 7660, 'notch': 7661, '11th': 7662, 'jumping': 7663, 'firewall': 7664, 'havnt': 7665, 'sprinkle': 7666, 'understanding': 7667, \"demo's\": 7668}\n"
     ]
    }
   ],
   "source": [
    "voc_size = 25000\n",
    "MAX_SEQUENCE_LENGTH = 40\n",
    "tokenizer = Tokenizer(num_words=voc_size)\n",
    "\n",
    "tokenizer.fit_on_texts(X_train_clean_df) \n",
    "train_sequences = tokenizer.texts_to_sequences(X_train_clean_df)\n",
    "test_sequences = tokenizer.texts_to_sequences(X_test_clean_df)\n",
    "\n",
    "\n",
    "word_index = tokenizer.word_index\n",
    "print(word_index)"
   ]
  },
  {
   "cell_type": "code",
   "execution_count": 24,
   "metadata": {
    "colab": {
     "base_uri": "https://localhost:8080/"
    },
    "id": "GdPr_4R8f025",
    "outputId": "659a0f11-814a-4206-b334-dab6b774b67d"
   },
   "outputs": [
    {
     "data": {
      "text/plain": [
       "7668"
      ]
     },
     "execution_count": 24,
     "metadata": {},
     "output_type": "execute_result"
    }
   ],
   "source": [
    "len(word_index)"
   ]
  },
  {
   "cell_type": "code",
   "execution_count": 25,
   "metadata": {
    "colab": {
     "base_uri": "https://localhost:8080/"
    },
    "id": "1Xr0R9MPfrJ4",
    "outputId": "64a9f13a-669c-4feb-a73a-eb0115444f07"
   },
   "outputs": [
    {
     "data": {
      "text/plain": [
       "[(\"demo's\", 7668),\n",
       " ('understanding', 7667),\n",
       " ('sprinkle', 7666),\n",
       " ('havnt', 7665),\n",
       " ('firewall', 7664),\n",
       " ('jumping', 7663),\n",
       " ('11th', 7662),\n",
       " ('notch', 7661),\n",
       " ('thedomain', 7660),\n",
       " ('microformats', 7659),\n",
       " ('adapting', 7658),\n",
       " ('microformat', 7657),\n",
       " ('permission', 7656),\n",
       " ('pah', 7655),\n",
       " ('heres', 7654),\n",
       " ('coynes', 7653),\n",
       " ('getdown', 7652),\n",
       " ('boggle', 7651),\n",
       " ('challenging', 7650),\n",
       " ('sack', 7649),\n",
       " ('hacky', 7648),\n",
       " ('became', 7647),\n",
       " ('brush', 7646),\n",
       " ('executing', 7645),\n",
       " ('cat', 7644),\n",
       " ('5min', 7643),\n",
       " ('distraction', 7642),\n",
       " ('hyperactivity', 7641),\n",
       " ('fancy', 7640),\n",
       " ('iun', 7639),\n",
       " ('rumoured', 7638),\n",
       " ('1408', 7637),\n",
       " ('creepily', 7636),\n",
       " ('6thst', 7635),\n",
       " ('hopes', 7634),\n",
       " ('zagg', 7633),\n",
       " ('q7a', 7632),\n",
       " ('queries', 7631),\n",
       " ('omitting', 7630),\n",
       " ('suicidal', 7629),\n",
       " ('parts', 7628),\n",
       " ('188', 7627),\n",
       " ('idevice', 7626),\n",
       " ('po', 7625),\n",
       " ('editors', 7624),\n",
       " ('fried', 7623),\n",
       " ('countdown', 7622),\n",
       " (\"icenhaur's\", 7621),\n",
       " ('jdnya', 7620),\n",
       " ('pengen', 7619),\n",
       " ('furby', 7618),\n",
       " ('webos', 7617),\n",
       " ('pagerank', 7616),\n",
       " ('fall', 7615),\n",
       " ('quietly', 7614),\n",
       " ('lifters', 7613),\n",
       " ('volume', 7612),\n",
       " ('downloadfree', 7611),\n",
       " ('housecat', 7610),\n",
       " ('felix', 7609),\n",
       " ('tickets', 7608),\n",
       " ('golden', 7607),\n",
       " ('sweepstakes', 7606),\n",
       " ('magnifying', 7605),\n",
       " ('crippling', 7604),\n",
       " ('crunch', 7603),\n",
       " ('streamed', 7602),\n",
       " ('divorces', 7601),\n",
       " ('predicting', 7600),\n",
       " ('led', 7599),\n",
       " ('merissa', 7598),\n",
       " ('tme', 7597),\n",
       " ('diego', 7596),\n",
       " ('exported', 7595),\n",
       " ('brunch', 7594),\n",
       " ('invoking', 7593),\n",
       " ('initiative', 7592),\n",
       " ('lobbying', 7591),\n",
       " ('antigov', 7590),\n",
       " ('unexpectedly', 7589),\n",
       " ('ae', 7588),\n",
       " ('bait', 7587),\n",
       " ('premature', 7586),\n",
       " ('tuh', 7585),\n",
       " ('distinguish', 7584),\n",
       " ('harder', 7583),\n",
       " ('commercials', 7582),\n",
       " ('nikon', 7581),\n",
       " ('recognized', 7580),\n",
       " ('jayden', 7579),\n",
       " ('asset', 7578),\n",
       " ('corp', 7577),\n",
       " ('periscope', 7576),\n",
       " ('829', 7575),\n",
       " ('addr', 7574),\n",
       " ('billing', 7573),\n",
       " ('deliver', 7572),\n",
       " ('verbs', 7571),\n",
       " ('afteward', 7570),\n",
       " ('copying', 7569)]"
      ]
     },
     "execution_count": 25,
     "metadata": {},
     "output_type": "execute_result"
    }
   ],
   "source": [
    "freq = FreqDist(word_index)\n",
    "freq.most_common(100)"
   ]
  },
  {
   "cell_type": "code",
   "execution_count": 26,
   "metadata": {
    "colab": {
     "base_uri": "https://localhost:8080/"
    },
    "id": "NcbJIxJYC8Ez",
    "outputId": "82066bf8-2190-476f-e23b-bf9ff070128a"
   },
   "outputs": [
    {
     "data": {
      "text/plain": [
       "array([[   0,    0,    0, ..., 2348, 3025, 1685],\n",
       "       [   0,    0,    0, ...,  528,  349,    2],\n",
       "       [   0,    0,    0, ..., 1092,   12, 1471],\n",
       "       ...,\n",
       "       [   0,    0,    0, ...,   19, 1135, 1202],\n",
       "       [   0,    0,    0, ...,  259,  304,   41],\n",
       "       [   0,    0,    0, ...,   77,   32,    2]], dtype=int32)"
      ]
     },
     "execution_count": 26,
     "metadata": {},
     "output_type": "execute_result"
    }
   ],
   "source": [
    "## Pad sequences\n",
    "X_train_seq = sequence.pad_sequences(train_sequences, maxlen=MAX_SEQUENCE_LENGTH)\n",
    "X_test_seq = sequence.pad_sequences(test_sequences, maxlen=MAX_SEQUENCE_LENGTH)\n",
    "X_train_seq"
   ]
  },
  {
   "cell_type": "code",
   "execution_count": 27,
   "metadata": {},
   "outputs": [],
   "source": [
    "training_padded = np.array(X_train_seq)\n",
    "\n",
    "testing_padded = np.array(X_test_seq)\n"
   ]
  },
  {
   "cell_type": "code",
   "execution_count": 28,
   "metadata": {
    "colab": {
     "base_uri": "https://localhost:8080/"
    },
    "id": "uEI53i6NOmGn",
    "outputId": "8ed115d0-2aa1-4398-8913-607aa4ab0284"
   },
   "outputs": [
    {
     "data": {
      "text/plain": [
       "pandas.core.series.Series"
      ]
     },
     "execution_count": 28,
     "metadata": {},
     "output_type": "execute_result"
    }
   ],
   "source": [
    "type(y_train)"
   ]
  },
  {
   "cell_type": "code",
   "execution_count": 29,
   "metadata": {
    "colab": {
     "base_uri": "https://localhost:8080/"
    },
    "id": "07bQ24ZCMlzK",
    "outputId": "c6c3afe3-d89f-40e0-e8d3-4bef08a57090"
   },
   "outputs": [
    {
     "data": {
      "text/plain": [
       "(6702, 3)"
      ]
     },
     "execution_count": 29,
     "metadata": {},
     "output_type": "execute_result"
    }
   ],
   "source": [
    "#NN only take integers so we will have to One-Hot Encode to change the labels into integers\n",
    "\n",
    "from sklearn.preprocessing import label_binarize\n",
    "from keras.utils import np_utils\n",
    "\n",
    "\n",
    "y_train_seq = label_binarize(y_train, classes = [0,1,2])\n",
    "y_test_seq = label_binarize(y_test, classes = [0,1,2])\n",
    "y_train_seq.shape"
   ]
  },
  {
   "cell_type": "code",
   "execution_count": 30,
   "metadata": {
    "id": "6OJI6M7xTPwh"
   },
   "outputs": [],
   "source": [
    "from tensorflow.keras.callbacks import EarlyStopping\n",
    "\n",
    "def get_earlystop(monitor='val_loss',patience=5, restore_best_weights=False):\n",
    "    \"\"\"\"\"\"\n",
    "    args = locals()\n",
    "    return EarlyStopping(**args)\n",
    "\n",
    "get_earlystop.__doc__+=EarlyStopping.__doc__"
   ]
  },
  {
   "cell_type": "code",
   "execution_count": 31,
   "metadata": {},
   "outputs": [
    {
     "data": {
      "text/plain": [
       "array([[1, 0, 0],\n",
       "       [0, 0, 1],\n",
       "       [0, 0, 1],\n",
       "       ...,\n",
       "       [0, 0, 1],\n",
       "       [0, 1, 0],\n",
       "       [0, 1, 0]])"
      ]
     },
     "execution_count": 31,
     "metadata": {},
     "output_type": "execute_result"
    }
   ],
   "source": [
    "y_test_seq"
   ]
  },
  {
   "cell_type": "code",
   "execution_count": 32,
   "metadata": {
    "id": "bzYjtkodqhx9"
   },
   "outputs": [
    {
     "name": "stdout",
     "output_type": "stream",
     "text": [
      "Model: \"sequential\"\n",
      "_________________________________________________________________\n",
      "Layer (type)                 Output Shape              Param #   \n",
      "=================================================================\n",
      "embedding (Embedding)        (None, None, 100)         2500000   \n",
      "_________________________________________________________________\n",
      "lstm (LSTM)                  (None, 50)                30200     \n",
      "_________________________________________________________________\n",
      "dense (Dense)                (None, 25)                1275      \n",
      "_________________________________________________________________\n",
      "dropout (Dropout)            (None, 25)                0         \n",
      "_________________________________________________________________\n",
      "dense_1 (Dense)              (None, 3)                 78        \n",
      "=================================================================\n",
      "Total params: 2,531,553\n",
      "Trainable params: 2,531,553\n",
      "Non-trainable params: 0\n",
      "_________________________________________________________________\n"
     ]
    },
    {
     "data": {
      "text/plain": [
       "None"
      ]
     },
     "metadata": {},
     "output_type": "display_data"
    },
    {
     "name": "stdout",
     "output_type": "stream",
     "text": [
      "WARNING:tensorflow:From /Users/phillipojo24/opt/anaconda3/lib/python3.7/site-packages/tensorflow/python/ops/array_ops.py:5045: calling gather (from tensorflow.python.ops.array_ops) with validate_indices is deprecated and will be removed in a future version.\n",
      "Instructions for updating:\n",
      "The `validate_indices` argument has no effect. Indices are always validated on CPU and never validated on GPU.\n",
      "Epoch 1/50\n",
      "84/84 [==============================] - 8s 71ms/step - loss: 1.1326 - accuracy: 0.2997 - val_loss: 1.1112 - val_accuracy: 0.4206\n",
      "Epoch 2/50\n",
      "84/84 [==============================] - 4s 49ms/step - loss: 0.9204 - accuracy: 0.5582 - val_loss: 1.0057 - val_accuracy: 0.5272\n",
      "Epoch 3/50\n",
      "84/84 [==============================] - 4s 48ms/step - loss: 0.6351 - accuracy: 0.6831 - val_loss: 0.8621 - val_accuracy: 0.6331\n",
      "Epoch 4/50\n",
      "84/84 [==============================] - 4s 51ms/step - loss: 0.4348 - accuracy: 0.8191 - val_loss: 0.8946 - val_accuracy: 0.6391\n",
      "Epoch 5/50\n",
      "84/84 [==============================] - 5s 63ms/step - loss: 0.3524 - accuracy: 0.8514 - val_loss: 0.9508 - val_accuracy: 0.6324\n",
      "Epoch 6/50\n",
      "84/84 [==============================] - 4s 47ms/step - loss: 0.3045 - accuracy: 0.8770 - val_loss: 1.0203 - val_accuracy: 0.6473\n",
      "Epoch 7/50\n",
      "84/84 [==============================] - 4s 46ms/step - loss: 0.2795 - accuracy: 0.8947 - val_loss: 1.0809 - val_accuracy: 0.6652\n",
      "Epoch 8/50\n",
      "84/84 [==============================] - 4s 48ms/step - loss: 0.2316 - accuracy: 0.9049 - val_loss: 1.1354 - val_accuracy: 0.6577\n"
     ]
    }
   ],
   "source": [
    "def make_model(EMBEDDING_SIZE=100):\n",
    "    model=Sequential()\n",
    "    model.add(Embedding(voc_size,EMBEDDING_SIZE))\n",
    "    model.add(LSTM(50,return_sequences=False))\n",
    "\n",
    "    model.add(Dense(25,activation='relu',kernel_regularizer=regularizers.l2(0.001)))\n",
    "    model.add(Dropout(0.5))\n",
    "    model.add(Dense(3, activation='softmax'))\n",
    "    \n",
    "    model.compile(loss='categorical_crossentropy',optimizer='adam',metrics=['accuracy'])\n",
    "    display(model.summary())\n",
    "    return model\n",
    "model = make_model()\n",
    "history = model.fit(X_train_seq, y_train_seq, epochs=50,batch_size=64, \n",
    "                    validation_split = 0.2, callbacks=get_earlystop(),\n",
    "                   class_weight=weights_dict,workers=3)"
   ]
  },
  {
   "cell_type": "code",
   "execution_count": 33,
   "metadata": {},
   "outputs": [
    {
     "data": {
      "text/plain": [
       "array([1, 2, 2, 2, 2])"
      ]
     },
     "execution_count": 33,
     "metadata": {},
     "output_type": "execute_result"
    }
   ],
   "source": [
    "y_hat_test = model.predict(X_test_seq).argmax(axis=1)\n",
    "y_hat_test[:5]"
   ]
  },
  {
   "cell_type": "code",
   "execution_count": 34,
   "metadata": {},
   "outputs": [
    {
     "data": {
      "text/plain": [
       "array([0, 2, 2, ..., 2, 1, 1])"
      ]
     },
     "execution_count": 34,
     "metadata": {},
     "output_type": "execute_result"
    }
   ],
   "source": [
    "y_test_seq.argmax(axis=1)"
   ]
  },
  {
   "cell_type": "code",
   "execution_count": 37,
   "metadata": {},
   "outputs": [
    {
     "name": "stdout",
     "output_type": "stream",
     "text": [
      "------------------------------------------------------------\n",
      "MODEL ACCURACY\n",
      "------------------------------------------------------------\n",
      "TESTING ACCURACY: 63.7%\n",
      "------------------------------------------------------------\n",
      "CLASSIFICATION REPORT\n",
      "------------------------------------------------------------\n",
      "              precision    recall  f1-score   support\n",
      "\n",
      "           0       0.33      0.34      0.33       161\n",
      "           1       0.55      0.59      0.57       752\n",
      "           2       0.73      0.70      0.72      1321\n",
      "\n",
      "    accuracy                           0.64      2234\n",
      "   macro avg       0.54      0.54      0.54      2234\n",
      "weighted avg       0.64      0.64      0.64      2234\n",
      "\n",
      "------------------------------------------------------------\n",
      "\n",
      "\n"
     ]
    },
    {
     "data": {
      "image/png": "[encoded data removed]",
      "text/plain": [
       "<Figure size 1080x360 with 4 Axes>"
      ]
     },
     "metadata": {
      "needs_background": "light"
     },
     "output_type": "display_data"
    }
   ],
   "source": [
    "model_eval_nn(y_test_seq.argmax(axis=1),y_hat_test,classes=[0,1,2])"
   ]
  },
  {
   "cell_type": "markdown",
   "metadata": {
    "id": "dRcQNX-s5BVR"
   },
   "source": [
    "The dataset distribution is imbalanced. We must use some sort of \"oversampling\" tequnice to balance out the dataset. Theres a method called upsampling that is used around tweet sentiment analysis that consists of adding new tweets for the minority classes, positive and negative, to have them reach a number of tweets equal to the majority class, Neutral here. If we do not do this, the model will try and predict a Neutral label as it is 60% guaranteed due to the imbalance. "
   ]
  },
  {
   "cell_type": "markdown",
   "metadata": {},
   "source": [
    "## Vanilla Random Forest Classifier with Tfidf "
   ]
  },
  {
   "cell_type": "code",
   "execution_count": 38,
   "metadata": {},
   "outputs": [
    {
     "name": "stderr",
     "output_type": "stream",
     "text": [
      "/Users/phillipojo24/opt/anaconda3/lib/python3.7/site-packages/sklearn/feature_extraction/text.py:386: UserWarning: Your stop_words may be inconsistent with your preprocessing. Tokenizing the stop words generated tokens ['sxsw'] not in stop_words.\n",
      "  'stop_words.' % sorted(inconsistent))\n"
     ]
    },
    {
     "data": {
      "text/plain": [
       "<6702x8276 sparse matrix of type '<class 'numpy.float64'>'\n",
       "\twith 74725 stored elements in Compressed Sparse Row format>"
      ]
     },
     "execution_count": 38,
     "metadata": {},
     "output_type": "execute_result"
    }
   ],
   "source": [
    "#MAKE TFIDFVECTORIZER USING STOPWORDS_LIST\n",
    "vectorizer = TfidfVectorizer(stop_words=stopwords_list)\n",
    "\n",
    "# VECTORIZE DATA AND MAKE X_train_tfidf and X_test_tfidf\n",
    "X_train_tfidf = vectorizer.fit_transform(X_train)\n",
    "X_test_tfidf = vectorizer.transform(X_test)\n",
    "X_train_tfidf"
   ]
  },
  {
   "cell_type": "code",
   "execution_count": 39,
   "metadata": {},
   "outputs": [
    {
     "name": "stdout",
     "output_type": "stream",
     "text": [
      "8276\n"
     ]
    }
   ],
   "source": [
    "#CHECKING LENGTH OF VECTORIZER VOCABULARY\n",
    "print (len(vectorizer.vocabulary_))"
   ]
  },
  {
   "cell_type": "code",
   "execution_count": 40,
   "metadata": {},
   "outputs": [],
   "source": [
    "#INITIALIZING CLASSIFIER\n",
    "rf = RandomForestClassifier(class_weight='balanced')"
   ]
  },
  {
   "cell_type": "code",
   "execution_count": 41,
   "metadata": {},
   "outputs": [
    {
     "name": "stdout",
     "output_type": "stream",
     "text": [
      "------------------------------------------------------------\n",
      "MODEL ACCURACY\n",
      "------------------------------------------------------------\n",
      "TRAINING ACCURACY: 99.39%\n",
      "TESTING ACCURACY: 67.46%\n",
      "------------------------------------------------------------\n",
      "CLASSIFICATION REPORT\n",
      "------------------------------------------------------------\n",
      "              precision    recall  f1-score   support\n",
      "\n",
      "           0       0.64      0.10      0.17       161\n",
      "           1       0.64      0.44      0.52       752\n",
      "           2       0.68      0.88      0.77      1321\n",
      "\n",
      "    accuracy                           0.67      2234\n",
      "   macro avg       0.66      0.47      0.49      2234\n",
      "weighted avg       0.67      0.67      0.64      2234\n",
      "\n",
      "------------------------------------------------------------\n",
      "\n",
      "\n"
     ]
    },
    {
     "data": {
      "image/png": "[encoded data removed]",
      "text/plain": [
       "<Figure size 720x720 with 2 Axes>"
      ]
     },
     "metadata": {
      "needs_background": "light"
     },
     "output_type": "display_data"
    }
   ],
   "source": [
    "#EVALUATING MODEL USING FUNCTION\n",
    "model_eval_rff(rf,X_train_tfidf,y_train,X_test_tfidf,y_test)"
   ]
  },
  {
   "cell_type": "markdown",
   "metadata": {},
   "source": [
    "## Upsampling technique"
   ]
  },
  {
   "cell_type": "code",
   "execution_count": 42,
   "metadata": {},
   "outputs": [
    {
     "data": {
      "text/html": [
       "<div>\n",
       "<style scoped>\n",
       "    .dataframe tbody tr th:only-of-type {\n",
       "        vertical-align: middle;\n",
       "    }\n",
       "\n",
       "    .dataframe tbody tr th {\n",
       "        vertical-align: top;\n",
       "    }\n",
       "\n",
       "    .dataframe thead th {\n",
       "        text-align: right;\n",
       "    }\n",
       "</style>\n",
       "<table border=\"1\" class=\"dataframe\">\n",
       "  <thead>\n",
       "    <tr style=\"text-align: right;\">\n",
       "      <th></th>\n",
       "      <th>tweet</th>\n",
       "      <th>Emotion</th>\n",
       "    </tr>\n",
       "  </thead>\n",
       "  <tbody>\n",
       "    <tr>\n",
       "      <th>5</th>\n",
       "      <td>@teachntech00 New iPad Apps For #SpeechTherapy...</td>\n",
       "      <td>2</td>\n",
       "    </tr>\n",
       "    <tr>\n",
       "      <th>16</th>\n",
       "      <td>Holler Gram for iPad on the iTunes App Store -...</td>\n",
       "      <td>2</td>\n",
       "    </tr>\n",
       "    <tr>\n",
       "      <th>32</th>\n",
       "      <td>Attn: All  #SXSW frineds, @mention Register fo...</td>\n",
       "      <td>2</td>\n",
       "    </tr>\n",
       "    <tr>\n",
       "      <th>33</th>\n",
       "      <td>Anyone at  #sxsw want to sell their old iPad?</td>\n",
       "      <td>2</td>\n",
       "    </tr>\n",
       "    <tr>\n",
       "      <th>34</th>\n",
       "      <td>Anyone at  #SXSW who bought the new iPad want ...</td>\n",
       "      <td>2</td>\n",
       "    </tr>\n",
       "    <tr>\n",
       "      <th>...</th>\n",
       "      <td>...</td>\n",
       "      <td>...</td>\n",
       "    </tr>\n",
       "    <tr>\n",
       "      <th>9087</th>\n",
       "      <td>@mention Yup, but I don't have a third app yet...</td>\n",
       "      <td>2</td>\n",
       "    </tr>\n",
       "    <tr>\n",
       "      <th>9089</th>\n",
       "      <td>Wave, buzz... RT @mention We interrupt your re...</td>\n",
       "      <td>2</td>\n",
       "    </tr>\n",
       "    <tr>\n",
       "      <th>9090</th>\n",
       "      <td>Google's Zeiger, a physician never reported po...</td>\n",
       "      <td>2</td>\n",
       "    </tr>\n",
       "    <tr>\n",
       "      <th>9091</th>\n",
       "      <td>Some Verizon iPhone customers complained their...</td>\n",
       "      <td>2</td>\n",
       "    </tr>\n",
       "    <tr>\n",
       "      <th>9092</th>\n",
       "      <td>Ï¡Ïàü_ÊÎÒ£Áââ_£â_ÛâRT @...</td>\n",
       "      <td>2</td>\n",
       "    </tr>\n",
       "  </tbody>\n",
       "</table>\n",
       "<p>5388 rows × 2 columns</p>\n",
       "</div>"
      ],
      "text/plain": [
       "                                                  tweet  Emotion\n",
       "5     @teachntech00 New iPad Apps For #SpeechTherapy...        2\n",
       "16    Holler Gram for iPad on the iTunes App Store -...        2\n",
       "32    Attn: All  #SXSW frineds, @mention Register fo...        2\n",
       "33        Anyone at  #sxsw want to sell their old iPad?        2\n",
       "34    Anyone at  #SXSW who bought the new iPad want ...        2\n",
       "...                                                 ...      ...\n",
       "9087  @mention Yup, but I don't have a third app yet...        2\n",
       "9089  Wave, buzz... RT @mention We interrupt your re...        2\n",
       "9090  Google's Zeiger, a physician never reported po...        2\n",
       "9091  Some Verizon iPhone customers complained their...        2\n",
       "9092  Ï¡Ïàü_ÊÎÒ£Áââ_£â_ÛâRT @...        2\n",
       "\n",
       "[5388 rows x 2 columns]"
      ]
     },
     "execution_count": 42,
     "metadata": {},
     "output_type": "execute_result"
    }
   ],
   "source": [
    "df_1 = df.copy()\n",
    "df_1['Emotion'].replace({'Negative emotion': 0 , 'Positive emotion' : 1 , 'Neutral': 2 }, inplace = True)\n",
    "df_1[df_1['Emotion']==2]"
   ]
  },
  {
   "cell_type": "code",
   "execution_count": 43,
   "metadata": {},
   "outputs": [
    {
     "data": {
      "text/plain": [
       "2    5388\n",
       "1    5388\n",
       "0    5388\n",
       "Name: Emotion, dtype: int64"
      ]
     },
     "execution_count": 43,
     "metadata": {},
     "output_type": "execute_result"
    }
   ],
   "source": [
    "from sklearn.utils import resample\n",
    "\n",
    "\n",
    "train_majority = df_1[df_1['Emotion']==2]\n",
    "train_minority = df_1[df_1['Emotion']==1]\n",
    "train_minority0 = df_1[df_1['Emotion']==0]\n",
    "\n",
    "#Populate for the NEgative class\n",
    "train_minority_upsampled = resample(train_minority, \n",
    "                                 replace=True,    \n",
    "                                 n_samples=len(train_majority),   \n",
    "                                 random_state=123)\n",
    "\n",
    "#Populate for the Positive Class\n",
    "train_minority0_upsampled = resample(train_minority0, \n",
    "                                 replace=True,    \n",
    "                                 n_samples=len(train_majority),   \n",
    "                                 random_state=123)\n",
    "\n",
    "train_upsampled = pd.concat([train_minority_upsampled, train_majority,train_minority0_upsampled])\n",
    "train_upsampled['Emotion'].value_counts()"
   ]
  },
  {
   "cell_type": "code",
   "execution_count": 44,
   "metadata": {},
   "outputs": [
    {
     "data": {
      "text/plain": [
       "3976    #sxsw look for the blue hair. I've got your fr...\n",
       "3274    Just got given a free portable iPhone charger....\n",
       "5179    RT @mention &quot;Google before you tweet&quot...\n",
       "6543    RT @mention RT @mention Google to Launch Major...\n",
       "3365    Props to GSDM and the big G. (google) at #SXSW...\n",
       "                              ...                        \n",
       "7528    Is twitter broken? Or is it my iPad. Can't fol...\n",
       "2738    Would like to know which LBS app I downloaded ...\n",
       "7866    Google was incapable of doing disruptive innov...\n",
       "6265    RT @mention Lonely Planet releases free Austin...\n",
       "8053    Spending some time this morning resetting my a...\n",
       "Name: tweet, Length: 16164, dtype: object"
      ]
     },
     "execution_count": 44,
     "metadata": {},
     "output_type": "execute_result"
    }
   ],
   "source": [
    "#DEFINING New Y (TARGET) AND X VARIABLES\n",
    "y_new = train_upsampled['Emotion']\n",
    "X_new=train_upsampled['tweet']\n",
    "X_new"
   ]
  },
  {
   "cell_type": "code",
   "execution_count": 45,
   "metadata": {},
   "outputs": [],
   "source": [
    "#TRAIN TEST SPLIT\n",
    "X_train_up, X_test_up, y_train_up, y_test_up = train_test_split(X_new,y_new, test_size=0.2,\n",
    "                                                    random_state=69)"
   ]
  },
  {
   "cell_type": "code",
   "execution_count": 46,
   "metadata": {},
   "outputs": [
    {
     "data": {
      "text/plain": [
       "6781    they are everywhere it's just crazy to look ar...\n",
       "2606    looks like all the apps for are for the what a...\n",
       "172        ipad2 and a conflagration of doofusness {link}\n",
       "3348    who uses google tv in this room nobody raises ...\n",
       "1769    2011 novelty of news apps fades fast among dig...\n",
       "                              ...                        \n",
       "7505    oops copy/paste malfunction on the last tweet ...\n",
       "3018    iphone users at any of you have your gps stuck...\n",
       "474     before it even begins apple wins sxsw techcrun...\n",
       "3466    me love them long time catherine &amp lori the...\n",
       "7186    &quot no other reason for apple's continued su...\n",
       "Name: tweet, Length: 12931, dtype: object"
      ]
     },
     "execution_count": 46,
     "metadata": {},
     "output_type": "execute_result"
    }
   ],
   "source": [
    "# Clean the tweets\n",
    "X_train_clean_up = X_train_up.apply(cleanTxt)\n",
    "X_test_clean_up = X_test_up.apply(cleanTxt)\n",
    "# Show the cleaned tweets\n",
    "X_train_clean_up"
   ]
  },
  {
   "cell_type": "code",
   "execution_count": 47,
   "metadata": {},
   "outputs": [
    {
     "data": {
      "text/plain": [
       "<nltk.tokenize.casual.TweetTokenizer at 0x7f89a84420d0>"
      ]
     },
     "execution_count": 47,
     "metadata": {},
     "output_type": "execute_result"
    }
   ],
   "source": [
    "tokenizer = nltk.TweetTokenizer(preserve_case=False)\n",
    "tokenizer"
   ]
  },
  {
   "cell_type": "code",
   "execution_count": 48,
   "metadata": {},
   "outputs": [
    {
     "name": "stderr",
     "output_type": "stream",
     "text": [
      "/Users/phillipojo24/opt/anaconda3/lib/python3.7/site-packages/sklearn/feature_extraction/text.py:386: UserWarning: Your stop_words may be inconsistent with your preprocessing. Tokenizing the stop words generated tokens ['sxsw'] not in stop_words.\n",
      "  'stop_words.' % sorted(inconsistent))\n"
     ]
    },
    {
     "data": {
      "text/plain": [
       "<12931x7829 sparse matrix of type '<class 'numpy.float64'>'\n",
       "\twith 118025 stored elements in Compressed Sparse Row format>"
      ]
     },
     "execution_count": 48,
     "metadata": {},
     "output_type": "execute_result"
    }
   ],
   "source": [
    "#MAKE TFIDFVECTORIZER USING STOPWORDS_LIST\n",
    "\n",
    "## Make a TfIdf Vectorizer using tweet tokenizer's .tokenize method\n",
    "vectorizer = TfidfVectorizer(tokenizer=tokenizer.tokenize,\n",
    "                           stop_words=stopwords_list)\n",
    "\n",
    "# VECTORIZE DATA AND MAKE X_train_tfidf and X_test_tfidf\n",
    "X_train_new_tfidf = vectorizer.fit_transform(X_train_clean_up)\n",
    "X_test_new_tfidf = vectorizer.transform(X_test_clean_up)\n",
    "X_train_new_tfidf"
   ]
  },
  {
   "cell_type": "code",
   "execution_count": 49,
   "metadata": {},
   "outputs": [
    {
     "name": "stdout",
     "output_type": "stream",
     "text": [
      "------------------------------------------------------------\n",
      "MODEL ACCURACY\n",
      "------------------------------------------------------------\n",
      "TRAINING ACCURACY: 91.56%\n",
      "TESTING ACCURACY: 81.32%\n",
      "------------------------------------------------------------\n",
      "CLASSIFICATION REPORT\n",
      "------------------------------------------------------------\n",
      "              precision    recall  f1-score   support\n",
      "\n",
      "           0       0.97      0.93      0.95      1085\n",
      "           1       0.75      0.78      0.77      1070\n",
      "           2       0.73      0.73      0.73      1078\n",
      "\n",
      "    accuracy                           0.81      3233\n",
      "   macro avg       0.82      0.81      0.81      3233\n",
      "weighted avg       0.82      0.81      0.81      3233\n",
      "\n",
      "------------------------------------------------------------\n",
      "\n",
      "\n"
     ]
    },
    {
     "data": {
      "image/png": "[encoded data removed]",
      "text/plain": [
       "<Figure size 720x720 with 2 Axes>"
      ]
     },
     "metadata": {
      "needs_background": "light"
     },
     "output_type": "display_data"
    }
   ],
   "source": [
    "rf_new = RandomForestClassifier(max_depth = 60)\n",
    "model_eval_rff(rf_new,X_train_new_tfidf,y_train_up,X_test_new_tfidf,y_test_up)"
   ]
  },
  {
   "cell_type": "code",
   "execution_count": 50,
   "metadata": {},
   "outputs": [
    {
     "data": {
      "image/png": "[encoded data removed]",
      "text/plain": [
       "<Figure size 748.8x514.8 with 1 Axes>"
      ]
     },
     "metadata": {
      "needs_background": "light"
     },
     "output_type": "display_data"
    }
   ],
   "source": [
    "# PLOTTING 30 MOST IMPORTANT FEATURES\n",
    "with plt.style.context('seaborn-talk'):\n",
    "\n",
    "    #GETTING FEATURE IMPORTANCE\n",
    "    importance = pd.Series(rf_new.feature_importances_,index=vectorizer.get_feature_names())\n",
    "\n",
    "    # SORTING VALUES AND CREATING A BAR CHART WITH 30 MOST IMPORTANT\n",
    "    importance.sort_values().tail(30).plot(kind='barh')\n"
   ]
  },
  {
   "cell_type": "markdown",
   "metadata": {},
   "source": [
    "Above we have the top 30 features that greatly impacted the model that was used to predict the different classes. Here they are in decending order but we would have to dive in and see exactly which word impacted which class.\n"
   ]
  },
  {
   "cell_type": "markdown",
   "metadata": {},
   "source": [
    "# Conclusions "
   ]
  },
  {
   "cell_type": "markdown",
   "metadata": {},
   "source": [
    "To Summurize, the purpose of this project was to build a model to analyze Twitter sentiment about Apple and Google products. Twitter sentiment analysis provides many exciting opportunities. Being able to analyze tweets in real-time, and determine the sentiment that underlies each message, adds a new dimension to social media monitoring.\n",
    "\n",
    "  * Random Forest Classifier proved to be the best suitable model for this dataset.\n",
    "    \n",
    "  * After using a \"upsampling\" technique, our model was able to predict Negative tweets by a user 93% of the time which is very impressive do to with the very initial imbalanced data set."
   ]
  },
  {
   "cell_type": "markdown",
   "metadata": {},
   "source": [
    "## Recomendations"
   ]
  },
  {
   "cell_type": "markdown",
   "metadata": {},
   "source": [
    "* Words like \"ipad\", \"iphone\", \"apple\" were important in helping the model predict the differnt classes. We will have to do future analysis to see which classes it specifically impacted in predicting.\n"
   ]
  },
  {
   "cell_type": "markdown",
   "metadata": {},
   "source": [
    "## Future Work"
   ]
  },
  {
   "cell_type": "markdown",
   "metadata": {},
   "source": [
    "* Improve the model by removing words in very low or high frequency\n",
    "\n",
    "* Find better ways to clean the tweets for better pre processing. Alot of mispelled words and repeated letters."
   ]
  },
  {
   "cell_type": "code",
   "execution_count": null,
   "metadata": {},
   "outputs": [],
   "source": []
  }
 ],
 "metadata": {
  "colab": {
   "collapsed_sections": [],
   "name": "Mod 4 project.ipynb",
   "provenance": []
  },
  "kernelspec": {
   "display_name": "Python 3",
   "language": "python",
   "name": "python3"
  },
  "language_info": {
   "codemirror_mode": {
    "name": "ipython",
    "version": 3
   },
   "file_extension": ".py",
   "mimetype": "text/x-python",
   "name": "python",
   "nbconvert_exporter": "python",
   "pygments_lexer": "ipython3",
   "version": "3.7.6"
  }
 },
 "nbformat": 4,
 "nbformat_minor": 1
}
